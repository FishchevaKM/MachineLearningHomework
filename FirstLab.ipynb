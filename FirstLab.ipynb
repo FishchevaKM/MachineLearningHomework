{
  "nbformat": 4,
  "nbformat_minor": 0,
  "metadata": {
    "colab": {
      "name": "FirstLab.ipynb",
      "provenance": [],
      "collapsed_sections": [
        "BZwiifM699l2",
        "5ifv8nJ4xH7j",
        "K_Vd_Z6l_J7V"
      ],
      "authorship_tag": "ABX9TyOu7ZtDOxjOx4/2UxwNf+0M",
      "include_colab_link": true
    },
    "kernelspec": {
      "name": "python3",
      "display_name": "Python 3"
    }
  },
  "cells": [
    {
      "cell_type": "markdown",
      "metadata": {
        "id": "view-in-github",
        "colab_type": "text"
      },
      "source": [
        "<a href=\"https://colab.research.google.com/github/FishchevaKM/MachineLearningHomework/blob/main/FirstLab.ipynb\" target=\"_parent\"><img src=\"https://colab.research.google.com/assets/colab-badge.svg\" alt=\"Open In Colab\"/></a>"
      ]
    },
    {
      "cell_type": "markdown",
      "metadata": {
        "id": "1sKJ0F0np4I5"
      },
      "source": [
        "#Грибы"
      ]
    },
    {
      "cell_type": "markdown",
      "metadata": {
        "id": "kIpFkADt8-na"
      },
      "source": [
        "Каждый вид идентифицируется как съедобный, ядовитый или неизвестной съедобности и не рекомендуется, кроме того присутствуют описательные характеристики:"
      ]
    },
    {
      "cell_type": "markdown",
      "metadata": {
        "id": "QXDhXp7JV8bB"
      },
      "source": [
        "1.\tclass - класс\n",
        "2.\tcap shape - форма шляпки\n",
        "3.\tcap surface - поверхность шляпки\n",
        "4.\tcap color - цвет шляпки\n",
        "5.\tbruises - повреждения\n",
        "6.\todor - запах\n",
        "7.\tgill attachment - жаберное крепление\n",
        "8.\tgill spacing – плотность жабр\n",
        "9.\tgill size – размер жабр\n",
        "10.\tgill color – цвет жабр\n",
        "11.\tstalk shape - форма стебля\n",
        "12.\tstalk root - корень стебля\n",
        "13.\tstalk surface above ring - поверхность стебля над кольцом\n",
        "14.\tstalk surface below ring - поверхность стебля под кольцом\n",
        "15.\tstalk color above ring - цвет стебля над кольцом\n",
        "16.\tstalk color below ring - цвет стебля под кольцом\n",
        "17.\tveil type – тип покрова\n",
        "18.\tveil color – цвет  покрова\n",
        "19.\tring number – число колец\n",
        "20.\tring type – тип колец\n",
        "21.\tspore print color – цвет спор\n",
        "22.\tpopulation - популяция\n",
        "23.\thabitat -  ареал\n"
      ]
    },
    {
      "cell_type": "code",
      "metadata": {
        "id": "-yM8LY-PZVHc"
      },
      "source": [
        "import numpy as np              # Массивы (матрицы, векторы, линейная алгебра)\n",
        "import matplotlib.pyplot as plt # Научная графика\n",
        "%matplotlib inline \n",
        "    # Говорим jupyter'у, чтобы весь графический вывод был в браузере, а не в отдельном окне\n",
        "import pandas as pd             # Таблицы и временные ряды (dataframe, series)\n",
        "import seaborn as sns           # Еще больше красивой графики для визуализации данных\n",
        "import sklearn                  # Алгоритмы машинного обучения"
      ],
      "execution_count": 1,
      "outputs": []
    },
    {
      "cell_type": "markdown",
      "metadata": {
        "id": "bxXFjEFpZevp"
      },
      "source": [
        "Считываем данные"
      ]
    },
    {
      "cell_type": "code",
      "metadata": {
        "id": "uI4Xp_rjaInw"
      },
      "source": [
        "url = \"https://raw.githubusercontent.com/FishchevaKM/MachineLearningHomework/main/MushroomBase.csv\"\n",
        "data = pd.read_csv(url, sep = \";\")"
      ],
      "execution_count": 2,
      "outputs": []
    },
    {
      "cell_type": "markdown",
      "metadata": {
        "id": "dREL7zrInZ0T"
      },
      "source": [
        "Таблица включает описания гипотетических образцов, соответствующих 23 видам гриба семейства Agaricus и Lepiota, взятые из полевого справочника по североамериканским грибам Одюбонского Общества (1981). Каждый вид идентифицирован как определенно съедобный, определенно ядовитый или обладающий неизвестной съедобностью и не рекомендуемый. Этот последний класс был объединен с ядовитым. В Руководстве четко указано, что не существует простого правила определения съедобности гриба;"
      ]
    },
    {
      "cell_type": "markdown",
      "metadata": {
        "id": "oBju4CS8ohW2"
      },
      "source": [
        "Вначале посмотрим на размеры таблицы - количество строк (каждая строка соответствует одному грибу) и количество столбцов (каждый столбец соответствует конкретному признаку):"
      ]
    },
    {
      "cell_type": "code",
      "metadata": {
        "id": "wnxpA4JHou_G",
        "colab": {
          "base_uri": "https://localhost:8080/",
          "height": 472
        },
        "outputId": "4c038e44-3ef9-4991-c0d6-aec49c850630"
      },
      "source": [
        "data"
      ],
      "execution_count": 3,
      "outputs": [
        {
          "output_type": "execute_result",
          "data": {
            "text/html": [
              "<div>\n",
              "<style scoped>\n",
              "    .dataframe tbody tr th:only-of-type {\n",
              "        vertical-align: middle;\n",
              "    }\n",
              "\n",
              "    .dataframe tbody tr th {\n",
              "        vertical-align: top;\n",
              "    }\n",
              "\n",
              "    .dataframe thead th {\n",
              "        text-align: right;\n",
              "    }\n",
              "</style>\n",
              "<table border=\"1\" class=\"dataframe\">\n",
              "  <thead>\n",
              "    <tr style=\"text-align: right;\">\n",
              "      <th></th>\n",
              "      <th>Class</th>\n",
              "      <th>Cap-shape</th>\n",
              "      <th>Cap-surface</th>\n",
              "      <th>Cap-color</th>\n",
              "      <th>Bruises</th>\n",
              "      <th>Odor</th>\n",
              "      <th>Gill-attachment</th>\n",
              "      <th>Gill-spacing</th>\n",
              "      <th>Gill-size</th>\n",
              "      <th>Gill-color</th>\n",
              "      <th>Stalk-shape</th>\n",
              "      <th>Stalk-root</th>\n",
              "      <th>Stalk-surface-above-ring</th>\n",
              "      <th>Stalk-surface-below-ring</th>\n",
              "      <th>Stalk-color-above-ring</th>\n",
              "      <th>Stalk-color-below-ring</th>\n",
              "      <th>Veil-type</th>\n",
              "      <th>Veil-color</th>\n",
              "      <th>Ring-number</th>\n",
              "      <th>Ring-type</th>\n",
              "      <th>Spore-print-color</th>\n",
              "      <th>Population</th>\n",
              "      <th>Habitat</th>\n",
              "    </tr>\n",
              "  </thead>\n",
              "  <tbody>\n",
              "    <tr>\n",
              "      <th>0</th>\n",
              "      <td>p</td>\n",
              "      <td>x</td>\n",
              "      <td>s</td>\n",
              "      <td>n</td>\n",
              "      <td>t</td>\n",
              "      <td>p</td>\n",
              "      <td>f</td>\n",
              "      <td>c</td>\n",
              "      <td>n</td>\n",
              "      <td>k</td>\n",
              "      <td>e</td>\n",
              "      <td>e</td>\n",
              "      <td>s</td>\n",
              "      <td>s</td>\n",
              "      <td>w</td>\n",
              "      <td>w</td>\n",
              "      <td>p</td>\n",
              "      <td>w</td>\n",
              "      <td>o</td>\n",
              "      <td>p</td>\n",
              "      <td>k</td>\n",
              "      <td>s</td>\n",
              "      <td>u</td>\n",
              "    </tr>\n",
              "    <tr>\n",
              "      <th>1</th>\n",
              "      <td>e</td>\n",
              "      <td>x</td>\n",
              "      <td>s</td>\n",
              "      <td>y</td>\n",
              "      <td>t</td>\n",
              "      <td>a</td>\n",
              "      <td>f</td>\n",
              "      <td>c</td>\n",
              "      <td>b</td>\n",
              "      <td>k</td>\n",
              "      <td>e</td>\n",
              "      <td>c</td>\n",
              "      <td>s</td>\n",
              "      <td>s</td>\n",
              "      <td>w</td>\n",
              "      <td>w</td>\n",
              "      <td>p</td>\n",
              "      <td>w</td>\n",
              "      <td>o</td>\n",
              "      <td>p</td>\n",
              "      <td>n</td>\n",
              "      <td>n</td>\n",
              "      <td>g</td>\n",
              "    </tr>\n",
              "    <tr>\n",
              "      <th>2</th>\n",
              "      <td>e</td>\n",
              "      <td>b</td>\n",
              "      <td>s</td>\n",
              "      <td>w</td>\n",
              "      <td>t</td>\n",
              "      <td>l</td>\n",
              "      <td>f</td>\n",
              "      <td>c</td>\n",
              "      <td>b</td>\n",
              "      <td>n</td>\n",
              "      <td>e</td>\n",
              "      <td>c</td>\n",
              "      <td>s</td>\n",
              "      <td>s</td>\n",
              "      <td>w</td>\n",
              "      <td>w</td>\n",
              "      <td>p</td>\n",
              "      <td>w</td>\n",
              "      <td>o</td>\n",
              "      <td>p</td>\n",
              "      <td>n</td>\n",
              "      <td>n</td>\n",
              "      <td>m</td>\n",
              "    </tr>\n",
              "    <tr>\n",
              "      <th>3</th>\n",
              "      <td>p</td>\n",
              "      <td>x</td>\n",
              "      <td>y</td>\n",
              "      <td>w</td>\n",
              "      <td>t</td>\n",
              "      <td>p</td>\n",
              "      <td>f</td>\n",
              "      <td>c</td>\n",
              "      <td>n</td>\n",
              "      <td>n</td>\n",
              "      <td>e</td>\n",
              "      <td>e</td>\n",
              "      <td>s</td>\n",
              "      <td>s</td>\n",
              "      <td>w</td>\n",
              "      <td>w</td>\n",
              "      <td>p</td>\n",
              "      <td>w</td>\n",
              "      <td>o</td>\n",
              "      <td>p</td>\n",
              "      <td>k</td>\n",
              "      <td>s</td>\n",
              "      <td>u</td>\n",
              "    </tr>\n",
              "    <tr>\n",
              "      <th>4</th>\n",
              "      <td>e</td>\n",
              "      <td>x</td>\n",
              "      <td>s</td>\n",
              "      <td>g</td>\n",
              "      <td>f</td>\n",
              "      <td>n</td>\n",
              "      <td>f</td>\n",
              "      <td>w</td>\n",
              "      <td>b</td>\n",
              "      <td>k</td>\n",
              "      <td>t</td>\n",
              "      <td>e</td>\n",
              "      <td>s</td>\n",
              "      <td>s</td>\n",
              "      <td>w</td>\n",
              "      <td>w</td>\n",
              "      <td>p</td>\n",
              "      <td>w</td>\n",
              "      <td>o</td>\n",
              "      <td>e</td>\n",
              "      <td>n</td>\n",
              "      <td>a</td>\n",
              "      <td>g</td>\n",
              "    </tr>\n",
              "    <tr>\n",
              "      <th>...</th>\n",
              "      <td>...</td>\n",
              "      <td>...</td>\n",
              "      <td>...</td>\n",
              "      <td>...</td>\n",
              "      <td>...</td>\n",
              "      <td>...</td>\n",
              "      <td>...</td>\n",
              "      <td>...</td>\n",
              "      <td>...</td>\n",
              "      <td>...</td>\n",
              "      <td>...</td>\n",
              "      <td>...</td>\n",
              "      <td>...</td>\n",
              "      <td>...</td>\n",
              "      <td>...</td>\n",
              "      <td>...</td>\n",
              "      <td>...</td>\n",
              "      <td>...</td>\n",
              "      <td>...</td>\n",
              "      <td>...</td>\n",
              "      <td>...</td>\n",
              "      <td>...</td>\n",
              "      <td>...</td>\n",
              "    </tr>\n",
              "    <tr>\n",
              "      <th>8119</th>\n",
              "      <td>e</td>\n",
              "      <td>k</td>\n",
              "      <td>s</td>\n",
              "      <td>n</td>\n",
              "      <td>f</td>\n",
              "      <td>n</td>\n",
              "      <td>a</td>\n",
              "      <td>c</td>\n",
              "      <td>b</td>\n",
              "      <td>y</td>\n",
              "      <td>e</td>\n",
              "      <td>NaN</td>\n",
              "      <td>s</td>\n",
              "      <td>s</td>\n",
              "      <td>o</td>\n",
              "      <td>o</td>\n",
              "      <td>p</td>\n",
              "      <td>o</td>\n",
              "      <td>o</td>\n",
              "      <td>p</td>\n",
              "      <td>b</td>\n",
              "      <td>c</td>\n",
              "      <td>l</td>\n",
              "    </tr>\n",
              "    <tr>\n",
              "      <th>8120</th>\n",
              "      <td>e</td>\n",
              "      <td>x</td>\n",
              "      <td>s</td>\n",
              "      <td>n</td>\n",
              "      <td>f</td>\n",
              "      <td>n</td>\n",
              "      <td>a</td>\n",
              "      <td>c</td>\n",
              "      <td>b</td>\n",
              "      <td>y</td>\n",
              "      <td>e</td>\n",
              "      <td>NaN</td>\n",
              "      <td>s</td>\n",
              "      <td>s</td>\n",
              "      <td>o</td>\n",
              "      <td>o</td>\n",
              "      <td>p</td>\n",
              "      <td>n</td>\n",
              "      <td>o</td>\n",
              "      <td>p</td>\n",
              "      <td>b</td>\n",
              "      <td>v</td>\n",
              "      <td>l</td>\n",
              "    </tr>\n",
              "    <tr>\n",
              "      <th>8121</th>\n",
              "      <td>e</td>\n",
              "      <td>f</td>\n",
              "      <td>s</td>\n",
              "      <td>n</td>\n",
              "      <td>f</td>\n",
              "      <td>n</td>\n",
              "      <td>a</td>\n",
              "      <td>c</td>\n",
              "      <td>b</td>\n",
              "      <td>n</td>\n",
              "      <td>e</td>\n",
              "      <td>NaN</td>\n",
              "      <td>s</td>\n",
              "      <td>s</td>\n",
              "      <td>o</td>\n",
              "      <td>o</td>\n",
              "      <td>p</td>\n",
              "      <td>o</td>\n",
              "      <td>o</td>\n",
              "      <td>p</td>\n",
              "      <td>b</td>\n",
              "      <td>c</td>\n",
              "      <td>l</td>\n",
              "    </tr>\n",
              "    <tr>\n",
              "      <th>8122</th>\n",
              "      <td>p</td>\n",
              "      <td>k</td>\n",
              "      <td>y</td>\n",
              "      <td>n</td>\n",
              "      <td>f</td>\n",
              "      <td>y</td>\n",
              "      <td>f</td>\n",
              "      <td>c</td>\n",
              "      <td>n</td>\n",
              "      <td>b</td>\n",
              "      <td>t</td>\n",
              "      <td>NaN</td>\n",
              "      <td>s</td>\n",
              "      <td>k</td>\n",
              "      <td>w</td>\n",
              "      <td>w</td>\n",
              "      <td>p</td>\n",
              "      <td>w</td>\n",
              "      <td>o</td>\n",
              "      <td>e</td>\n",
              "      <td>w</td>\n",
              "      <td>v</td>\n",
              "      <td>l</td>\n",
              "    </tr>\n",
              "    <tr>\n",
              "      <th>8123</th>\n",
              "      <td>e</td>\n",
              "      <td>x</td>\n",
              "      <td>s</td>\n",
              "      <td>n</td>\n",
              "      <td>f</td>\n",
              "      <td>n</td>\n",
              "      <td>a</td>\n",
              "      <td>c</td>\n",
              "      <td>b</td>\n",
              "      <td>y</td>\n",
              "      <td>e</td>\n",
              "      <td>NaN</td>\n",
              "      <td>s</td>\n",
              "      <td>s</td>\n",
              "      <td>o</td>\n",
              "      <td>o</td>\n",
              "      <td>p</td>\n",
              "      <td>o</td>\n",
              "      <td>o</td>\n",
              "      <td>p</td>\n",
              "      <td>o</td>\n",
              "      <td>c</td>\n",
              "      <td>l</td>\n",
              "    </tr>\n",
              "  </tbody>\n",
              "</table>\n",
              "<p>8124 rows × 23 columns</p>\n",
              "</div>"
            ],
            "text/plain": [
              "     Class Cap-shape Cap-surface  ... Spore-print-color Population Habitat\n",
              "0        p         x           s  ...                 k          s       u\n",
              "1        e         x           s  ...                 n          n       g\n",
              "2        e         b           s  ...                 n          n       m\n",
              "3        p         x           y  ...                 k          s       u\n",
              "4        e         x           s  ...                 n          a       g\n",
              "...    ...       ...         ...  ...               ...        ...     ...\n",
              "8119     e         k           s  ...                 b          c       l\n",
              "8120     e         x           s  ...                 b          v       l\n",
              "8121     e         f           s  ...                 b          c       l\n",
              "8122     p         k           y  ...                 w          v       l\n",
              "8123     e         x           s  ...                 o          c       l\n",
              "\n",
              "[8124 rows x 23 columns]"
            ]
          },
          "metadata": {
            "tags": []
          },
          "execution_count": 3
        }
      ]
    },
    {
      "cell_type": "markdown",
      "metadata": {
        "id": "YZcE3HlCpp4Z"
      },
      "source": [
        "Вывод первых 5-ти строк"
      ]
    },
    {
      "cell_type": "code",
      "metadata": {
        "id": "3yMv38DUporx",
        "colab": {
          "base_uri": "https://localhost:8080/",
          "height": 266
        },
        "outputId": "9fa2a959-df90-4cdd-c883-667df1188bd4"
      },
      "source": [
        "data.head()"
      ],
      "execution_count": 4,
      "outputs": [
        {
          "output_type": "execute_result",
          "data": {
            "text/html": [
              "<div>\n",
              "<style scoped>\n",
              "    .dataframe tbody tr th:only-of-type {\n",
              "        vertical-align: middle;\n",
              "    }\n",
              "\n",
              "    .dataframe tbody tr th {\n",
              "        vertical-align: top;\n",
              "    }\n",
              "\n",
              "    .dataframe thead th {\n",
              "        text-align: right;\n",
              "    }\n",
              "</style>\n",
              "<table border=\"1\" class=\"dataframe\">\n",
              "  <thead>\n",
              "    <tr style=\"text-align: right;\">\n",
              "      <th></th>\n",
              "      <th>Class</th>\n",
              "      <th>Cap-shape</th>\n",
              "      <th>Cap-surface</th>\n",
              "      <th>Cap-color</th>\n",
              "      <th>Bruises</th>\n",
              "      <th>Odor</th>\n",
              "      <th>Gill-attachment</th>\n",
              "      <th>Gill-spacing</th>\n",
              "      <th>Gill-size</th>\n",
              "      <th>Gill-color</th>\n",
              "      <th>Stalk-shape</th>\n",
              "      <th>Stalk-root</th>\n",
              "      <th>Stalk-surface-above-ring</th>\n",
              "      <th>Stalk-surface-below-ring</th>\n",
              "      <th>Stalk-color-above-ring</th>\n",
              "      <th>Stalk-color-below-ring</th>\n",
              "      <th>Veil-type</th>\n",
              "      <th>Veil-color</th>\n",
              "      <th>Ring-number</th>\n",
              "      <th>Ring-type</th>\n",
              "      <th>Spore-print-color</th>\n",
              "      <th>Population</th>\n",
              "      <th>Habitat</th>\n",
              "    </tr>\n",
              "  </thead>\n",
              "  <tbody>\n",
              "    <tr>\n",
              "      <th>0</th>\n",
              "      <td>p</td>\n",
              "      <td>x</td>\n",
              "      <td>s</td>\n",
              "      <td>n</td>\n",
              "      <td>t</td>\n",
              "      <td>p</td>\n",
              "      <td>f</td>\n",
              "      <td>c</td>\n",
              "      <td>n</td>\n",
              "      <td>k</td>\n",
              "      <td>e</td>\n",
              "      <td>e</td>\n",
              "      <td>s</td>\n",
              "      <td>s</td>\n",
              "      <td>w</td>\n",
              "      <td>w</td>\n",
              "      <td>p</td>\n",
              "      <td>w</td>\n",
              "      <td>o</td>\n",
              "      <td>p</td>\n",
              "      <td>k</td>\n",
              "      <td>s</td>\n",
              "      <td>u</td>\n",
              "    </tr>\n",
              "    <tr>\n",
              "      <th>1</th>\n",
              "      <td>e</td>\n",
              "      <td>x</td>\n",
              "      <td>s</td>\n",
              "      <td>y</td>\n",
              "      <td>t</td>\n",
              "      <td>a</td>\n",
              "      <td>f</td>\n",
              "      <td>c</td>\n",
              "      <td>b</td>\n",
              "      <td>k</td>\n",
              "      <td>e</td>\n",
              "      <td>c</td>\n",
              "      <td>s</td>\n",
              "      <td>s</td>\n",
              "      <td>w</td>\n",
              "      <td>w</td>\n",
              "      <td>p</td>\n",
              "      <td>w</td>\n",
              "      <td>o</td>\n",
              "      <td>p</td>\n",
              "      <td>n</td>\n",
              "      <td>n</td>\n",
              "      <td>g</td>\n",
              "    </tr>\n",
              "    <tr>\n",
              "      <th>2</th>\n",
              "      <td>e</td>\n",
              "      <td>b</td>\n",
              "      <td>s</td>\n",
              "      <td>w</td>\n",
              "      <td>t</td>\n",
              "      <td>l</td>\n",
              "      <td>f</td>\n",
              "      <td>c</td>\n",
              "      <td>b</td>\n",
              "      <td>n</td>\n",
              "      <td>e</td>\n",
              "      <td>c</td>\n",
              "      <td>s</td>\n",
              "      <td>s</td>\n",
              "      <td>w</td>\n",
              "      <td>w</td>\n",
              "      <td>p</td>\n",
              "      <td>w</td>\n",
              "      <td>o</td>\n",
              "      <td>p</td>\n",
              "      <td>n</td>\n",
              "      <td>n</td>\n",
              "      <td>m</td>\n",
              "    </tr>\n",
              "    <tr>\n",
              "      <th>3</th>\n",
              "      <td>p</td>\n",
              "      <td>x</td>\n",
              "      <td>y</td>\n",
              "      <td>w</td>\n",
              "      <td>t</td>\n",
              "      <td>p</td>\n",
              "      <td>f</td>\n",
              "      <td>c</td>\n",
              "      <td>n</td>\n",
              "      <td>n</td>\n",
              "      <td>e</td>\n",
              "      <td>e</td>\n",
              "      <td>s</td>\n",
              "      <td>s</td>\n",
              "      <td>w</td>\n",
              "      <td>w</td>\n",
              "      <td>p</td>\n",
              "      <td>w</td>\n",
              "      <td>o</td>\n",
              "      <td>p</td>\n",
              "      <td>k</td>\n",
              "      <td>s</td>\n",
              "      <td>u</td>\n",
              "    </tr>\n",
              "    <tr>\n",
              "      <th>4</th>\n",
              "      <td>e</td>\n",
              "      <td>x</td>\n",
              "      <td>s</td>\n",
              "      <td>g</td>\n",
              "      <td>f</td>\n",
              "      <td>n</td>\n",
              "      <td>f</td>\n",
              "      <td>w</td>\n",
              "      <td>b</td>\n",
              "      <td>k</td>\n",
              "      <td>t</td>\n",
              "      <td>e</td>\n",
              "      <td>s</td>\n",
              "      <td>s</td>\n",
              "      <td>w</td>\n",
              "      <td>w</td>\n",
              "      <td>p</td>\n",
              "      <td>w</td>\n",
              "      <td>o</td>\n",
              "      <td>e</td>\n",
              "      <td>n</td>\n",
              "      <td>a</td>\n",
              "      <td>g</td>\n",
              "    </tr>\n",
              "  </tbody>\n",
              "</table>\n",
              "</div>"
            ],
            "text/plain": [
              "  Class Cap-shape Cap-surface  ... Spore-print-color Population Habitat\n",
              "0     p         x           s  ...                 k          s       u\n",
              "1     e         x           s  ...                 n          n       g\n",
              "2     e         b           s  ...                 n          n       m\n",
              "3     p         x           y  ...                 k          s       u\n",
              "4     e         x           s  ...                 n          a       g\n",
              "\n",
              "[5 rows x 23 columns]"
            ]
          },
          "metadata": {
            "tags": []
          },
          "execution_count": 4
        }
      ]
    },
    {
      "cell_type": "markdown",
      "metadata": {
        "id": "Y2nPmrmwr7jq"
      },
      "source": [
        "В полученой таблице, например, гриб №3 имеет характеристики:"
      ]
    },
    {
      "cell_type": "markdown",
      "metadata": {
        "id": "fNfNgMNOV8b7"
      },
      "source": [
        "1.\tClass – класс: p(poisonous)\n",
        "2.\tcap shape – форма шляпки: x(convex-)\n",
        "3.\tcap surface - поверхность шляпки: y(scaly)\n",
        "4.\tcap color - цвет шляпки: w(white)\n",
        "5.\tbruises – повреждения: t(true)\n",
        "6.\todor – запах: p(pungent)\n",
        "7.\tgill attachment - жаберное крепление: f(free)\n",
        "8.\tgill spacing – плотность жабр: c(close)\n",
        "9.\tgill size – размер жабр: n(narrow)\n",
        "10.\tgill color – цвет жабр: n(red)\n",
        "11.\tstalk shape - форма стебля: e(enlarging)\n",
        "12.\tstalk root - корень стебля: e(equal)\n",
        "13.\tstalk surface above ring - поверхность стебля над кольцом: s(smooth)\n",
        "14.\tstalk surface below ring - поверхность стебля под кольцом: s(smooth)\n",
        "15.\tstalk color above ring - цвет стебля над кольцом: w(white)\n",
        "16.\tstalk color below ring - цвет стебля под кольцом: w(white)\n",
        "17.\tveil type – тип покрова: p(partial)\n",
        "18.\tveil color – цвет  покрова: w(white)\n",
        "19.\tring number – число колец: o(one)\n",
        "20.\tring type – тип колец: p(pendant)\n",
        "21.\tspore print color – цвет спор: k(black)\n",
        "22.\tpopulation – популяция: s(scattered)\n",
        "23.\thabitat -  ареал: u(urban)\n"
      ]
    },
    {
      "cell_type": "markdown",
      "metadata": {
        "id": "GiVFcEuPudo7"
      },
      "source": [
        "Вывод последних 5-и строк"
      ]
    },
    {
      "cell_type": "code",
      "metadata": {
        "id": "Zfazc6HeuhSc",
        "colab": {
          "base_uri": "https://localhost:8080/",
          "height": 266
        },
        "outputId": "c7f8beb4-9c92-49a2-a35e-401800c0bb45"
      },
      "source": [
        "data.tail()"
      ],
      "execution_count": 5,
      "outputs": [
        {
          "output_type": "execute_result",
          "data": {
            "text/html": [
              "<div>\n",
              "<style scoped>\n",
              "    .dataframe tbody tr th:only-of-type {\n",
              "        vertical-align: middle;\n",
              "    }\n",
              "\n",
              "    .dataframe tbody tr th {\n",
              "        vertical-align: top;\n",
              "    }\n",
              "\n",
              "    .dataframe thead th {\n",
              "        text-align: right;\n",
              "    }\n",
              "</style>\n",
              "<table border=\"1\" class=\"dataframe\">\n",
              "  <thead>\n",
              "    <tr style=\"text-align: right;\">\n",
              "      <th></th>\n",
              "      <th>Class</th>\n",
              "      <th>Cap-shape</th>\n",
              "      <th>Cap-surface</th>\n",
              "      <th>Cap-color</th>\n",
              "      <th>Bruises</th>\n",
              "      <th>Odor</th>\n",
              "      <th>Gill-attachment</th>\n",
              "      <th>Gill-spacing</th>\n",
              "      <th>Gill-size</th>\n",
              "      <th>Gill-color</th>\n",
              "      <th>Stalk-shape</th>\n",
              "      <th>Stalk-root</th>\n",
              "      <th>Stalk-surface-above-ring</th>\n",
              "      <th>Stalk-surface-below-ring</th>\n",
              "      <th>Stalk-color-above-ring</th>\n",
              "      <th>Stalk-color-below-ring</th>\n",
              "      <th>Veil-type</th>\n",
              "      <th>Veil-color</th>\n",
              "      <th>Ring-number</th>\n",
              "      <th>Ring-type</th>\n",
              "      <th>Spore-print-color</th>\n",
              "      <th>Population</th>\n",
              "      <th>Habitat</th>\n",
              "    </tr>\n",
              "  </thead>\n",
              "  <tbody>\n",
              "    <tr>\n",
              "      <th>8119</th>\n",
              "      <td>e</td>\n",
              "      <td>k</td>\n",
              "      <td>s</td>\n",
              "      <td>n</td>\n",
              "      <td>f</td>\n",
              "      <td>n</td>\n",
              "      <td>a</td>\n",
              "      <td>c</td>\n",
              "      <td>b</td>\n",
              "      <td>y</td>\n",
              "      <td>e</td>\n",
              "      <td>NaN</td>\n",
              "      <td>s</td>\n",
              "      <td>s</td>\n",
              "      <td>o</td>\n",
              "      <td>o</td>\n",
              "      <td>p</td>\n",
              "      <td>o</td>\n",
              "      <td>o</td>\n",
              "      <td>p</td>\n",
              "      <td>b</td>\n",
              "      <td>c</td>\n",
              "      <td>l</td>\n",
              "    </tr>\n",
              "    <tr>\n",
              "      <th>8120</th>\n",
              "      <td>e</td>\n",
              "      <td>x</td>\n",
              "      <td>s</td>\n",
              "      <td>n</td>\n",
              "      <td>f</td>\n",
              "      <td>n</td>\n",
              "      <td>a</td>\n",
              "      <td>c</td>\n",
              "      <td>b</td>\n",
              "      <td>y</td>\n",
              "      <td>e</td>\n",
              "      <td>NaN</td>\n",
              "      <td>s</td>\n",
              "      <td>s</td>\n",
              "      <td>o</td>\n",
              "      <td>o</td>\n",
              "      <td>p</td>\n",
              "      <td>n</td>\n",
              "      <td>o</td>\n",
              "      <td>p</td>\n",
              "      <td>b</td>\n",
              "      <td>v</td>\n",
              "      <td>l</td>\n",
              "    </tr>\n",
              "    <tr>\n",
              "      <th>8121</th>\n",
              "      <td>e</td>\n",
              "      <td>f</td>\n",
              "      <td>s</td>\n",
              "      <td>n</td>\n",
              "      <td>f</td>\n",
              "      <td>n</td>\n",
              "      <td>a</td>\n",
              "      <td>c</td>\n",
              "      <td>b</td>\n",
              "      <td>n</td>\n",
              "      <td>e</td>\n",
              "      <td>NaN</td>\n",
              "      <td>s</td>\n",
              "      <td>s</td>\n",
              "      <td>o</td>\n",
              "      <td>o</td>\n",
              "      <td>p</td>\n",
              "      <td>o</td>\n",
              "      <td>o</td>\n",
              "      <td>p</td>\n",
              "      <td>b</td>\n",
              "      <td>c</td>\n",
              "      <td>l</td>\n",
              "    </tr>\n",
              "    <tr>\n",
              "      <th>8122</th>\n",
              "      <td>p</td>\n",
              "      <td>k</td>\n",
              "      <td>y</td>\n",
              "      <td>n</td>\n",
              "      <td>f</td>\n",
              "      <td>y</td>\n",
              "      <td>f</td>\n",
              "      <td>c</td>\n",
              "      <td>n</td>\n",
              "      <td>b</td>\n",
              "      <td>t</td>\n",
              "      <td>NaN</td>\n",
              "      <td>s</td>\n",
              "      <td>k</td>\n",
              "      <td>w</td>\n",
              "      <td>w</td>\n",
              "      <td>p</td>\n",
              "      <td>w</td>\n",
              "      <td>o</td>\n",
              "      <td>e</td>\n",
              "      <td>w</td>\n",
              "      <td>v</td>\n",
              "      <td>l</td>\n",
              "    </tr>\n",
              "    <tr>\n",
              "      <th>8123</th>\n",
              "      <td>e</td>\n",
              "      <td>x</td>\n",
              "      <td>s</td>\n",
              "      <td>n</td>\n",
              "      <td>f</td>\n",
              "      <td>n</td>\n",
              "      <td>a</td>\n",
              "      <td>c</td>\n",
              "      <td>b</td>\n",
              "      <td>y</td>\n",
              "      <td>e</td>\n",
              "      <td>NaN</td>\n",
              "      <td>s</td>\n",
              "      <td>s</td>\n",
              "      <td>o</td>\n",
              "      <td>o</td>\n",
              "      <td>p</td>\n",
              "      <td>o</td>\n",
              "      <td>o</td>\n",
              "      <td>p</td>\n",
              "      <td>o</td>\n",
              "      <td>c</td>\n",
              "      <td>l</td>\n",
              "    </tr>\n",
              "  </tbody>\n",
              "</table>\n",
              "</div>"
            ],
            "text/plain": [
              "     Class Cap-shape Cap-surface  ... Spore-print-color Population Habitat\n",
              "8119     e         k           s  ...                 b          c       l\n",
              "8120     e         x           s  ...                 b          v       l\n",
              "8121     e         f           s  ...                 b          c       l\n",
              "8122     p         k           y  ...                 w          v       l\n",
              "8123     e         x           s  ...                 o          c       l\n",
              "\n",
              "[5 rows x 23 columns]"
            ]
          },
          "metadata": {
            "tags": []
          },
          "execution_count": 5
        }
      ]
    },
    {
      "cell_type": "code",
      "metadata": {
        "colab": {
          "base_uri": "https://localhost:8080/"
        },
        "id": "cck6H9XHsXCx",
        "outputId": "687e863b-3281-4b6c-9318-989c1e8a65ab"
      },
      "source": [
        "data.shape"
      ],
      "execution_count": 6,
      "outputs": [
        {
          "output_type": "execute_result",
          "data": {
            "text/plain": [
              "(8124, 23)"
            ]
          },
          "metadata": {
            "tags": []
          },
          "execution_count": 6
        }
      ]
    },
    {
      "cell_type": "markdown",
      "metadata": {
        "id": "e_h1SdYXV8cJ"
      },
      "source": [
        "В данной таблице 23 столбца и 8124 строки (23 характеристики, 8124 гриба).\n",
        "\n",
        "Можно посмотреть имеющиеся названия столбцов с помощью"
      ]
    },
    {
      "cell_type": "code",
      "metadata": {
        "colab": {
          "base_uri": "https://localhost:8080/"
        },
        "id": "rCb9xNEfs3XO",
        "outputId": "ac76c9ea-5ae1-4356-b48a-7f35d8aef5fe"
      },
      "source": [
        "data.columns"
      ],
      "execution_count": 7,
      "outputs": [
        {
          "output_type": "execute_result",
          "data": {
            "text/plain": [
              "Index(['Class', 'Cap-shape', 'Cap-surface', 'Cap-color', 'Bruises', 'Odor',\n",
              "       'Gill-attachment', 'Gill-spacing', 'Gill-size', 'Gill-color',\n",
              "       'Stalk-shape', 'Stalk-root', 'Stalk-surface-above-ring',\n",
              "       'Stalk-surface-below-ring', 'Stalk-color-above-ring',\n",
              "       'Stalk-color-below-ring', 'Veil-type', 'Veil-color', 'Ring-number',\n",
              "       'Ring-type', 'Spore-print-color', 'Population', 'Habitat'],\n",
              "      dtype='object')"
            ]
          },
          "metadata": {
            "tags": []
          },
          "execution_count": 7
        }
      ]
    },
    {
      "cell_type": "code",
      "metadata": {
        "colab": {
          "base_uri": "https://localhost:8080/"
        },
        "id": "NDY-9dWvtKC2",
        "outputId": "ae420b4d-7602-4c45-83ed-058d7df5fd26"
      },
      "source": [
        "data.index"
      ],
      "execution_count": 8,
      "outputs": [
        {
          "output_type": "execute_result",
          "data": {
            "text/plain": [
              "RangeIndex(start=0, stop=8124, step=1)"
            ]
          },
          "metadata": {
            "tags": []
          },
          "execution_count": 8
        }
      ]
    },
    {
      "cell_type": "markdown",
      "metadata": {
        "id": "ToyKY-O_V8cO"
      },
      "source": [
        "Или же посмотреть значение выбранного столбца в конкретной строке таблице."
      ]
    },
    {
      "cell_type": "code",
      "metadata": {
        "colab": {
          "base_uri": "https://localhost:8080/",
          "height": 35
        },
        "id": "1fIxQhratb-7",
        "outputId": "778f467e-0f0e-4cd3-c001-b29b3adb5e3d"
      },
      "source": [
        "data.at[8122, 'Odor']"
      ],
      "execution_count": 9,
      "outputs": [
        {
          "output_type": "execute_result",
          "data": {
            "application/vnd.google.colaboratory.intrinsic+json": {
              "type": "string"
            },
            "text/plain": [
              "'y'"
            ]
          },
          "metadata": {
            "tags": []
          },
          "execution_count": 9
        }
      ]
    },
    {
      "cell_type": "markdown",
      "metadata": {
        "id": "CqXt44u1tl7P"
      },
      "source": [
        "Вывод выбранного столбца."
      ]
    },
    {
      "cell_type": "code",
      "metadata": {
        "colab": {
          "base_uri": "https://localhost:8080/"
        },
        "id": "dZ1oGpRPtYBT",
        "outputId": "cd8f1b6e-90ef-4854-e0c4-34a9de80a1fa"
      },
      "source": [
        "data['Odor']"
      ],
      "execution_count": 10,
      "outputs": [
        {
          "output_type": "execute_result",
          "data": {
            "text/plain": [
              "0       p\n",
              "1       a\n",
              "2       l\n",
              "3       p\n",
              "4       n\n",
              "       ..\n",
              "8119    n\n",
              "8120    n\n",
              "8121    n\n",
              "8122    y\n",
              "8123    n\n",
              "Name: Odor, Length: 8124, dtype: object"
            ]
          },
          "metadata": {
            "tags": []
          },
          "execution_count": 10
        }
      ]
    },
    {
      "cell_type": "code",
      "metadata": {
        "colab": {
          "base_uri": "https://localhost:8080/",
          "height": 35
        },
        "id": "41TEe8ADtzoL",
        "outputId": "b36fa38a-eedc-4e79-b713-76bdec25e347"
      },
      "source": [
        "data['Odor'][3]"
      ],
      "execution_count": 11,
      "outputs": [
        {
          "output_type": "execute_result",
          "data": {
            "application/vnd.google.colaboratory.intrinsic+json": {
              "type": "string"
            },
            "text/plain": [
              "'p'"
            ]
          },
          "metadata": {
            "tags": []
          },
          "execution_count": 11
        }
      ]
    },
    {
      "cell_type": "markdown",
      "metadata": {
        "id": "Lh1ecibJuUbW"
      },
      "source": [
        "Узнаем общую информацию по нашей таблице."
      ]
    },
    {
      "cell_type": "code",
      "metadata": {
        "colab": {
          "base_uri": "https://localhost:8080/"
        },
        "id": "SAGECfyOuY1U",
        "outputId": "b1d724a4-48dc-44b7-c9be-70c7c4ed0730"
      },
      "source": [
        "data.info()"
      ],
      "execution_count": 12,
      "outputs": [
        {
          "output_type": "stream",
          "text": [
            "<class 'pandas.core.frame.DataFrame'>\n",
            "RangeIndex: 8124 entries, 0 to 8123\n",
            "Data columns (total 23 columns):\n",
            " #   Column                    Non-Null Count  Dtype \n",
            "---  ------                    --------------  ----- \n",
            " 0   Class                     8124 non-null   object\n",
            " 1   Cap-shape                 8124 non-null   object\n",
            " 2   Cap-surface               8124 non-null   object\n",
            " 3   Cap-color                 8124 non-null   object\n",
            " 4   Bruises                   8124 non-null   object\n",
            " 5   Odor                      8124 non-null   object\n",
            " 6   Gill-attachment           8124 non-null   object\n",
            " 7   Gill-spacing              8124 non-null   object\n",
            " 8   Gill-size                 8124 non-null   object\n",
            " 9   Gill-color                8124 non-null   object\n",
            " 10  Stalk-shape               8124 non-null   object\n",
            " 11  Stalk-root                5644 non-null   object\n",
            " 12  Stalk-surface-above-ring  8124 non-null   object\n",
            " 13  Stalk-surface-below-ring  8124 non-null   object\n",
            " 14  Stalk-color-above-ring    8124 non-null   object\n",
            " 15  Stalk-color-below-ring    8124 non-null   object\n",
            " 16  Veil-type                 8124 non-null   object\n",
            " 17  Veil-color                8124 non-null   object\n",
            " 18  Ring-number               8124 non-null   object\n",
            " 19  Ring-type                 8124 non-null   object\n",
            " 20  Spore-print-color         8124 non-null   object\n",
            " 21  Population                8124 non-null   object\n",
            " 22  Habitat                   8124 non-null   object\n",
            "dtypes: object(23)\n",
            "memory usage: 1.4+ MB\n"
          ],
          "name": "stdout"
        }
      ]
    },
    {
      "cell_type": "markdown",
      "metadata": {
        "id": "2kccNiiXulrY"
      },
      "source": [
        "Вывод первых пяти элементов указанных нами столбцов."
      ]
    },
    {
      "cell_type": "code",
      "metadata": {
        "id": "y_rSaJUQV8cj",
        "colab": {
          "base_uri": "https://localhost:8080/",
          "height": 195
        },
        "outputId": "de6f15f0-2ce6-466e-fdb8-728e9bd2e1e4"
      },
      "source": [
        "data[['Class', 'Population']].head()"
      ],
      "execution_count": 13,
      "outputs": [
        {
          "output_type": "execute_result",
          "data": {
            "text/html": [
              "<div>\n",
              "<style scoped>\n",
              "    .dataframe tbody tr th:only-of-type {\n",
              "        vertical-align: middle;\n",
              "    }\n",
              "\n",
              "    .dataframe tbody tr th {\n",
              "        vertical-align: top;\n",
              "    }\n",
              "\n",
              "    .dataframe thead th {\n",
              "        text-align: right;\n",
              "    }\n",
              "</style>\n",
              "<table border=\"1\" class=\"dataframe\">\n",
              "  <thead>\n",
              "    <tr style=\"text-align: right;\">\n",
              "      <th></th>\n",
              "      <th>Class</th>\n",
              "      <th>Population</th>\n",
              "    </tr>\n",
              "  </thead>\n",
              "  <tbody>\n",
              "    <tr>\n",
              "      <th>0</th>\n",
              "      <td>p</td>\n",
              "      <td>s</td>\n",
              "    </tr>\n",
              "    <tr>\n",
              "      <th>1</th>\n",
              "      <td>e</td>\n",
              "      <td>n</td>\n",
              "    </tr>\n",
              "    <tr>\n",
              "      <th>2</th>\n",
              "      <td>e</td>\n",
              "      <td>n</td>\n",
              "    </tr>\n",
              "    <tr>\n",
              "      <th>3</th>\n",
              "      <td>p</td>\n",
              "      <td>s</td>\n",
              "    </tr>\n",
              "    <tr>\n",
              "      <th>4</th>\n",
              "      <td>e</td>\n",
              "      <td>a</td>\n",
              "    </tr>\n",
              "  </tbody>\n",
              "</table>\n",
              "</div>"
            ],
            "text/plain": [
              "  Class Population\n",
              "0     p          s\n",
              "1     e          n\n",
              "2     e          n\n",
              "3     p          s\n",
              "4     e          a"
            ]
          },
          "metadata": {
            "tags": []
          },
          "execution_count": 13
        }
      ]
    },
    {
      "cell_type": "markdown",
      "metadata": {
        "id": "7Zgf1ngAu0d3"
      },
      "source": [
        "Выведем основные статистические характеристики данных нашей таблицы."
      ]
    },
    {
      "cell_type": "code",
      "metadata": {
        "colab": {
          "base_uri": "https://localhost:8080/",
          "height": 236
        },
        "id": "wubzwGl4u1HS",
        "outputId": "75aca78d-7a9d-4a25-beec-d6bee461c947"
      },
      "source": [
        "data.describe()"
      ],
      "execution_count": 14,
      "outputs": [
        {
          "output_type": "execute_result",
          "data": {
            "text/html": [
              "<div>\n",
              "<style scoped>\n",
              "    .dataframe tbody tr th:only-of-type {\n",
              "        vertical-align: middle;\n",
              "    }\n",
              "\n",
              "    .dataframe tbody tr th {\n",
              "        vertical-align: top;\n",
              "    }\n",
              "\n",
              "    .dataframe thead th {\n",
              "        text-align: right;\n",
              "    }\n",
              "</style>\n",
              "<table border=\"1\" class=\"dataframe\">\n",
              "  <thead>\n",
              "    <tr style=\"text-align: right;\">\n",
              "      <th></th>\n",
              "      <th>Class</th>\n",
              "      <th>Cap-shape</th>\n",
              "      <th>Cap-surface</th>\n",
              "      <th>Cap-color</th>\n",
              "      <th>Bruises</th>\n",
              "      <th>Odor</th>\n",
              "      <th>Gill-attachment</th>\n",
              "      <th>Gill-spacing</th>\n",
              "      <th>Gill-size</th>\n",
              "      <th>Gill-color</th>\n",
              "      <th>Stalk-shape</th>\n",
              "      <th>Stalk-root</th>\n",
              "      <th>Stalk-surface-above-ring</th>\n",
              "      <th>Stalk-surface-below-ring</th>\n",
              "      <th>Stalk-color-above-ring</th>\n",
              "      <th>Stalk-color-below-ring</th>\n",
              "      <th>Veil-type</th>\n",
              "      <th>Veil-color</th>\n",
              "      <th>Ring-number</th>\n",
              "      <th>Ring-type</th>\n",
              "      <th>Spore-print-color</th>\n",
              "      <th>Population</th>\n",
              "      <th>Habitat</th>\n",
              "    </tr>\n",
              "  </thead>\n",
              "  <tbody>\n",
              "    <tr>\n",
              "      <th>count</th>\n",
              "      <td>8124</td>\n",
              "      <td>8124</td>\n",
              "      <td>8124</td>\n",
              "      <td>8124</td>\n",
              "      <td>8124</td>\n",
              "      <td>8124</td>\n",
              "      <td>8124</td>\n",
              "      <td>8124</td>\n",
              "      <td>8124</td>\n",
              "      <td>8124</td>\n",
              "      <td>8124</td>\n",
              "      <td>5644</td>\n",
              "      <td>8124</td>\n",
              "      <td>8124</td>\n",
              "      <td>8124</td>\n",
              "      <td>8124</td>\n",
              "      <td>8124</td>\n",
              "      <td>8124</td>\n",
              "      <td>8124</td>\n",
              "      <td>8124</td>\n",
              "      <td>8124</td>\n",
              "      <td>8124</td>\n",
              "      <td>8124</td>\n",
              "    </tr>\n",
              "    <tr>\n",
              "      <th>unique</th>\n",
              "      <td>2</td>\n",
              "      <td>6</td>\n",
              "      <td>4</td>\n",
              "      <td>10</td>\n",
              "      <td>2</td>\n",
              "      <td>9</td>\n",
              "      <td>2</td>\n",
              "      <td>2</td>\n",
              "      <td>2</td>\n",
              "      <td>12</td>\n",
              "      <td>2</td>\n",
              "      <td>4</td>\n",
              "      <td>4</td>\n",
              "      <td>4</td>\n",
              "      <td>9</td>\n",
              "      <td>9</td>\n",
              "      <td>1</td>\n",
              "      <td>4</td>\n",
              "      <td>3</td>\n",
              "      <td>5</td>\n",
              "      <td>9</td>\n",
              "      <td>6</td>\n",
              "      <td>7</td>\n",
              "    </tr>\n",
              "    <tr>\n",
              "      <th>top</th>\n",
              "      <td>e</td>\n",
              "      <td>x</td>\n",
              "      <td>y</td>\n",
              "      <td>n</td>\n",
              "      <td>f</td>\n",
              "      <td>n</td>\n",
              "      <td>f</td>\n",
              "      <td>c</td>\n",
              "      <td>b</td>\n",
              "      <td>b</td>\n",
              "      <td>t</td>\n",
              "      <td>b</td>\n",
              "      <td>s</td>\n",
              "      <td>s</td>\n",
              "      <td>w</td>\n",
              "      <td>w</td>\n",
              "      <td>p</td>\n",
              "      <td>w</td>\n",
              "      <td>o</td>\n",
              "      <td>p</td>\n",
              "      <td>w</td>\n",
              "      <td>v</td>\n",
              "      <td>d</td>\n",
              "    </tr>\n",
              "    <tr>\n",
              "      <th>freq</th>\n",
              "      <td>4208</td>\n",
              "      <td>3656</td>\n",
              "      <td>3244</td>\n",
              "      <td>2284</td>\n",
              "      <td>4748</td>\n",
              "      <td>3528</td>\n",
              "      <td>7914</td>\n",
              "      <td>6812</td>\n",
              "      <td>5612</td>\n",
              "      <td>1728</td>\n",
              "      <td>4608</td>\n",
              "      <td>3776</td>\n",
              "      <td>5176</td>\n",
              "      <td>4936</td>\n",
              "      <td>4464</td>\n",
              "      <td>4384</td>\n",
              "      <td>8124</td>\n",
              "      <td>7924</td>\n",
              "      <td>7488</td>\n",
              "      <td>3968</td>\n",
              "      <td>2388</td>\n",
              "      <td>4040</td>\n",
              "      <td>3148</td>\n",
              "    </tr>\n",
              "  </tbody>\n",
              "</table>\n",
              "</div>"
            ],
            "text/plain": [
              "       Class Cap-shape Cap-surface  ... Spore-print-color Population Habitat\n",
              "count   8124      8124        8124  ...              8124       8124    8124\n",
              "unique     2         6           4  ...                 9          6       7\n",
              "top        e         x           y  ...                 w          v       d\n",
              "freq    4208      3656        3244  ...              2388       4040    3148\n",
              "\n",
              "[4 rows x 23 columns]"
            ]
          },
          "metadata": {
            "tags": []
          },
          "execution_count": 14
        }
      ]
    },
    {
      "cell_type": "markdown",
      "metadata": {
        "id": "EqUhS8Ftu_R-"
      },
      "source": [
        "где count – количество элементов в каждом столбце; unique – количество уникальных значений в столбце; top – наиболее часто встречающееся значение; freq – количество top значения в столбце."
      ]
    },
    {
      "cell_type": "code",
      "metadata": {
        "colab": {
          "base_uri": "https://localhost:8080/"
        },
        "id": "x8Wq89jXxcyv",
        "outputId": "4454204a-b95c-40cc-92f8-2b4a07e04f2d"
      },
      "source": [
        "data.corr"
      ],
      "execution_count": 15,
      "outputs": [
        {
          "output_type": "execute_result",
          "data": {
            "text/plain": [
              "<bound method DataFrame.corr of      Class Cap-shape Cap-surface  ... Spore-print-color Population Habitat\n",
              "0        p         x           s  ...                 k          s       u\n",
              "1        e         x           s  ...                 n          n       g\n",
              "2        e         b           s  ...                 n          n       m\n",
              "3        p         x           y  ...                 k          s       u\n",
              "4        e         x           s  ...                 n          a       g\n",
              "...    ...       ...         ...  ...               ...        ...     ...\n",
              "8119     e         k           s  ...                 b          c       l\n",
              "8120     e         x           s  ...                 b          v       l\n",
              "8121     e         f           s  ...                 b          c       l\n",
              "8122     p         k           y  ...                 w          v       l\n",
              "8123     e         x           s  ...                 o          c       l\n",
              "\n",
              "[8124 rows x 23 columns]>"
            ]
          },
          "metadata": {
            "tags": []
          },
          "execution_count": 15
        }
      ]
    },
    {
      "cell_type": "markdown",
      "metadata": {
        "id": "hUrxaL3XvAN2"
      },
      "source": [
        "Проверим элементы на соответствие заданной характеристике."
      ]
    },
    {
      "cell_type": "code",
      "metadata": {
        "colab": {
          "base_uri": "https://localhost:8080/"
        },
        "id": "zWNwlO5xvDc9",
        "outputId": "b0bcd152-cca8-481b-8b6a-7920690886a6"
      },
      "source": [
        "data['Class'] == 'e'"
      ],
      "execution_count": 16,
      "outputs": [
        {
          "output_type": "execute_result",
          "data": {
            "text/plain": [
              "0       False\n",
              "1        True\n",
              "2        True\n",
              "3       False\n",
              "4        True\n",
              "        ...  \n",
              "8119     True\n",
              "8120     True\n",
              "8121     True\n",
              "8122    False\n",
              "8123     True\n",
              "Name: Class, Length: 8124, dtype: bool"
            ]
          },
          "metadata": {
            "tags": []
          },
          "execution_count": 16
        }
      ]
    },
    {
      "cell_type": "markdown",
      "metadata": {
        "id": "NEoVMdw9vHuy"
      },
      "source": [
        "Грибы со значением true являются съедобными, а со значением false – несъедобными."
      ]
    },
    {
      "cell_type": "markdown",
      "metadata": {
        "id": "C_V3-xibvKh5"
      },
      "source": [
        "Удалим столбцы, которые никак не помогут нам определить съедобность гриба."
      ]
    },
    {
      "cell_type": "code",
      "metadata": {
        "id": "vxRDEov5vM9d"
      },
      "source": [
        "data = data.drop('Bruises', 1)"
      ],
      "execution_count": 17,
      "outputs": []
    },
    {
      "cell_type": "code",
      "metadata": {
        "id": "Ct7z2J3qvOiY"
      },
      "source": [
        "data = data.drop('Population', 1)"
      ],
      "execution_count": 18,
      "outputs": []
    },
    {
      "cell_type": "code",
      "metadata": {
        "id": "E2eXQWswvQ1I"
      },
      "source": [
        "data = data.drop('Habitat', 1)"
      ],
      "execution_count": 19,
      "outputs": []
    },
    {
      "cell_type": "markdown",
      "metadata": {
        "id": "GL-A0rA-wcWU"
      },
      "source": [
        "Готовим данные для дальнейшей работы"
      ]
    },
    {
      "cell_type": "markdown",
      "metadata": {
        "id": "BZwiifM699l2"
      },
      "source": [
        "## Подготовка данных"
      ]
    },
    {
      "cell_type": "markdown",
      "metadata": {
        "id": "htdUtNtJV8dD"
      },
      "source": [
        "Узнаем категорию данных одного столбца."
      ]
    },
    {
      "cell_type": "code",
      "metadata": {
        "colab": {
          "base_uri": "https://localhost:8080/",
          "height": 0
        },
        "id": "iouHsuM0xB-U",
        "outputId": "41c98242-635d-4494-90da-0f5e95ce0575"
      },
      "source": [
        "data['Ring-type'].dtype.name"
      ],
      "execution_count": 20,
      "outputs": [
        {
          "output_type": "execute_result",
          "data": {
            "application/vnd.google.colaboratory.intrinsic+json": {
              "type": "string"
            },
            "text/plain": [
              "'object'"
            ]
          },
          "metadata": {
            "tags": []
          },
          "execution_count": 20
        }
      ]
    },
    {
      "cell_type": "markdown",
      "metadata": {
        "id": "ZVTRb3xbvzgL"
      },
      "source": [
        "Разделим имеющиеся столбцы на категориальные и на числовые."
      ]
    },
    {
      "cell_type": "code",
      "metadata": {
        "colab": {
          "base_uri": "https://localhost:8080/"
        },
        "id": "XkSLwN59v2Ev",
        "outputId": "fba42edf-3280-41e7-82d0-15a0353205d1"
      },
      "source": [
        "categorical_columns = [c for c in data.columns if data[c].dtype.name == 'object']\n",
        "numerical_columns   = [c for c in data.columns if data[c].dtype.name != 'object']\n",
        "print(categorical_columns)\n",
        "print(numerical_columns)"
      ],
      "execution_count": 21,
      "outputs": [
        {
          "output_type": "stream",
          "text": [
            "['Class', 'Cap-shape', 'Cap-surface', 'Cap-color', 'Odor', 'Gill-attachment', 'Gill-spacing', 'Gill-size', 'Gill-color', 'Stalk-shape', 'Stalk-root', 'Stalk-surface-above-ring', 'Stalk-surface-below-ring', 'Stalk-color-above-ring', 'Stalk-color-below-ring', 'Veil-type', 'Veil-color', 'Ring-number', 'Ring-type', 'Spore-print-color']\n",
            "[]\n"
          ],
          "name": "stdout"
        }
      ]
    },
    {
      "cell_type": "markdown",
      "metadata": {
        "id": "kBERsNoiv6mg"
      },
      "source": [
        "В моей таблице все столбцы являются категориальными."
      ]
    },
    {
      "cell_type": "markdown",
      "metadata": {
        "id": "KQD4HBGCv8ne"
      },
      "source": [
        "Для каждого столбца определим возможные значения."
      ]
    },
    {
      "cell_type": "code",
      "metadata": {
        "colab": {
          "base_uri": "https://localhost:8080/"
        },
        "id": "CW9ehDbHv-Zz",
        "outputId": "f32753a6-d819-4b8d-8261-8bbc8abf8f31"
      },
      "source": [
        "for c in categorical_columns:\n",
        "    print(c, data[c].unique())"
      ],
      "execution_count": 22,
      "outputs": [
        {
          "output_type": "stream",
          "text": [
            "Class ['p' 'e']\n",
            "Cap-shape ['x' 'b' 's' 'f' 'k' 'c']\n",
            "Cap-surface ['s' 'y' 'f' 'g']\n",
            "Cap-color ['n' 'y' 'w' 'g' 'e' 'p' 'b' 'u' 'c' 'r']\n",
            "Odor ['p' 'a' 'l' 'n' 'f' 'c' 'y' 's' 'm']\n",
            "Gill-attachment ['f' 'a']\n",
            "Gill-spacing ['c' 'w']\n",
            "Gill-size ['n' 'b']\n",
            "Gill-color ['k' 'n' 'g' 'p' 'w' 'h' 'u' 'e' 'b' 'r' 'y' 'o']\n",
            "Stalk-shape ['e' 't']\n",
            "Stalk-root ['e' 'c' 'b' 'r' nan]\n",
            "Stalk-surface-above-ring ['s' 'f' 'k' 'y']\n",
            "Stalk-surface-below-ring ['s' 'f' 'y' 'k']\n",
            "Stalk-color-above-ring ['w' 'g' 'p' 'n' 'b' 'e' 'o' 'c' 'y']\n",
            "Stalk-color-below-ring ['w' 'p' 'g' 'b' 'n' 'e' 'y' 'o' 'c']\n",
            "Veil-type ['p']\n",
            "Veil-color ['w' 'n' 'o' 'y']\n",
            "Ring-number ['o' 't' 'n']\n",
            "Ring-type ['p' 'e' 'l' 'f' 'n']\n",
            "Spore-print-color ['k' 'n' 'u' 'h' 'w' 'r' 'o' 'y' 'b']\n"
          ],
          "name": "stdout"
        }
      ]
    },
    {
      "cell_type": "markdown",
      "metadata": {
        "id": "5ifv8nJ4xH7j"
      },
      "source": [
        "## Обрабатываем пропущенные значения"
      ]
    },
    {
      "cell_type": "code",
      "metadata": {
        "colab": {
          "base_uri": "https://localhost:8080/"
        },
        "id": "ga3VfNzmxNX1",
        "outputId": "d7a4be88-c540-42d3-8528-5a97925586ab"
      },
      "source": [
        "data[categorical_columns].count(axis = 0)"
      ],
      "execution_count": 23,
      "outputs": [
        {
          "output_type": "execute_result",
          "data": {
            "text/plain": [
              "Class                       8124\n",
              "Cap-shape                   8124\n",
              "Cap-surface                 8124\n",
              "Cap-color                   8124\n",
              "Odor                        8124\n",
              "Gill-attachment             8124\n",
              "Gill-spacing                8124\n",
              "Gill-size                   8124\n",
              "Gill-color                  8124\n",
              "Stalk-shape                 8124\n",
              "Stalk-root                  5644\n",
              "Stalk-surface-above-ring    8124\n",
              "Stalk-surface-below-ring    8124\n",
              "Stalk-color-above-ring      8124\n",
              "Stalk-color-below-ring      8124\n",
              "Veil-type                   8124\n",
              "Veil-color                  8124\n",
              "Ring-number                 8124\n",
              "Ring-type                   8124\n",
              "Spore-print-color           8124\n",
              "dtype: int64"
            ]
          },
          "metadata": {
            "tags": []
          },
          "execution_count": 23
        }
      ]
    },
    {
      "cell_type": "markdown",
      "metadata": {
        "id": "P2bG1rrnxTbO"
      },
      "source": [
        "В столбце Stalk-root есть пропущенные значения. Заменим их на самое популярное значение в этом столбце."
      ]
    },
    {
      "cell_type": "code",
      "metadata": {
        "colab": {
          "base_uri": "https://localhost:8080/",
          "height": 0
        },
        "id": "BMy3bkA8xUIR",
        "outputId": "e07ac3f4-dd67-4471-c0ec-434a7696b476"
      },
      "source": [
        "data['Stalk-root'].describe().top"
      ],
      "execution_count": 24,
      "outputs": [
        {
          "output_type": "execute_result",
          "data": {
            "application/vnd.google.colaboratory.intrinsic+json": {
              "type": "string"
            },
            "text/plain": [
              "'b'"
            ]
          },
          "metadata": {
            "tags": []
          },
          "execution_count": 24
        }
      ]
    },
    {
      "cell_type": "code",
      "metadata": {
        "id": "imSi6VaXyDR0"
      },
      "source": [
        "data['Stalk-root'] = data['Stalk-root'].fillna('b')"
      ],
      "execution_count": 25,
      "outputs": []
    },
    {
      "cell_type": "markdown",
      "metadata": {
        "id": "gOzEjBiqyHP8"
      },
      "source": [
        "Еще раз проверим пропущенные значения:"
      ]
    },
    {
      "cell_type": "code",
      "metadata": {
        "colab": {
          "base_uri": "https://localhost:8080/"
        },
        "id": "y8BR0OywyLcE",
        "outputId": "b39bea09-c905-4e1e-94a6-b0426ed8be32"
      },
      "source": [
        "data[categorical_columns].count(axis = 0)"
      ],
      "execution_count": 26,
      "outputs": [
        {
          "output_type": "execute_result",
          "data": {
            "text/plain": [
              "Class                       8124\n",
              "Cap-shape                   8124\n",
              "Cap-surface                 8124\n",
              "Cap-color                   8124\n",
              "Odor                        8124\n",
              "Gill-attachment             8124\n",
              "Gill-spacing                8124\n",
              "Gill-size                   8124\n",
              "Gill-color                  8124\n",
              "Stalk-shape                 8124\n",
              "Stalk-root                  8124\n",
              "Stalk-surface-above-ring    8124\n",
              "Stalk-surface-below-ring    8124\n",
              "Stalk-color-above-ring      8124\n",
              "Stalk-color-below-ring      8124\n",
              "Veil-type                   8124\n",
              "Veil-color                  8124\n",
              "Ring-number                 8124\n",
              "Ring-type                   8124\n",
              "Spore-print-color           8124\n",
              "dtype: int64"
            ]
          },
          "metadata": {
            "tags": []
          },
          "execution_count": 26
        }
      ]
    },
    {
      "cell_type": "code",
      "metadata": {
        "colab": {
          "base_uri": "https://localhost:8080/"
        },
        "id": "i0UESU2byQEf",
        "outputId": "f58601f3-5767-4d43-fb06-3ac2e7e03949"
      },
      "source": [
        "data.describe"
      ],
      "execution_count": 27,
      "outputs": [
        {
          "output_type": "execute_result",
          "data": {
            "text/plain": [
              "<bound method NDFrame.describe of      Class Cap-shape Cap-surface  ... Ring-number Ring-type Spore-print-color\n",
              "0        p         x           s  ...           o         p                 k\n",
              "1        e         x           s  ...           o         p                 n\n",
              "2        e         b           s  ...           o         p                 n\n",
              "3        p         x           y  ...           o         p                 k\n",
              "4        e         x           s  ...           o         e                 n\n",
              "...    ...       ...         ...  ...         ...       ...               ...\n",
              "8119     e         k           s  ...           o         p                 b\n",
              "8120     e         x           s  ...           o         p                 b\n",
              "8121     e         f           s  ...           o         p                 b\n",
              "8122     p         k           y  ...           o         e                 w\n",
              "8123     e         x           s  ...           o         p                 o\n",
              "\n",
              "[8124 rows x 20 columns]>"
            ]
          },
          "metadata": {
            "tags": []
          },
          "execution_count": 27
        }
      ]
    },
    {
      "cell_type": "code",
      "metadata": {
        "id": "1CpR_B0pyjPj"
      },
      "source": [
        "data_describe = data.describe(include = [object])\n",
        "for c in categorical_columns:\n",
        "    data[c] = data[c].fillna(data_describe[c]['top'])"
      ],
      "execution_count": 28,
      "outputs": []
    },
    {
      "cell_type": "markdown",
      "metadata": {
        "id": "K_Vd_Z6l_J7V"
      },
      "source": [
        "## Векторизация"
      ]
    },
    {
      "cell_type": "code",
      "metadata": {
        "colab": {
          "base_uri": "https://localhost:8080/"
        },
        "id": "rpMgdG7Q_Rms",
        "outputId": "8cd3802a-99b5-4a12-bf6e-94714238f395"
      },
      "source": [
        "data_describe = data.describe(include = [object])\r\n",
        "binary_columns = [c for c in categorical_columns if data_describe[c]['unique'] == 2]\r\n",
        "nonbinary_columns = [c for c in categorical_columns if data_describe[c]['unique'] > 2]\r\n",
        "print(binary_columns, nonbinary_columns)"
      ],
      "execution_count": 29,
      "outputs": [
        {
          "output_type": "stream",
          "text": [
            "['Class', 'Gill-attachment', 'Gill-spacing', 'Gill-size', 'Stalk-shape'] ['Cap-shape', 'Cap-surface', 'Cap-color', 'Odor', 'Gill-color', 'Stalk-root', 'Stalk-surface-above-ring', 'Stalk-surface-below-ring', 'Stalk-color-above-ring', 'Stalk-color-below-ring', 'Veil-color', 'Ring-number', 'Ring-type', 'Spore-print-color']\n"
          ],
          "name": "stdout"
        }
      ]
    },
    {
      "cell_type": "markdown",
      "metadata": {
        "id": "NLfHDZt_V8dy"
      },
      "source": [
        "Бинарные столбцы Class, Gill-attachment, Gill-spacing, Gill-size, Stalk-shape."
      ]
    },
    {
      "cell_type": "markdown",
      "metadata": {
        "id": "HOXZ4amWV8dy"
      },
      "source": [
        "Столбец Class я не трогаю, т.к. буду предсказывать съедобность гриба. Посмотрим, какие уникальные значения принимает столбец Gill-attachment."
      ]
    },
    {
      "cell_type": "code",
      "metadata": {
        "colab": {
          "base_uri": "https://localhost:8080/"
        },
        "id": "j97q0tA2_fVu",
        "outputId": "93773a8c-ad15-4342-9118-4ee5d9b17802"
      },
      "source": [
        "data['Gill-attachment'].unique()"
      ],
      "execution_count": 30,
      "outputs": [
        {
          "output_type": "execute_result",
          "data": {
            "text/plain": [
              "array(['f', 'a'], dtype=object)"
            ]
          },
          "metadata": {
            "tags": []
          },
          "execution_count": 30
        }
      ]
    },
    {
      "cell_type": "code",
      "metadata": {
        "colab": {
          "base_uri": "https://localhost:8080/"
        },
        "id": "M1PrqYeK_jNS",
        "outputId": "99b528de-7923-48cc-fb42-6c9e6e5c68a3"
      },
      "source": [
        "data.at[data['Gill-attachment'] == 'f', 'Gill-attachment'] = 0\r\n",
        "data.at[data['Gill-attachment'] == 'a', 'Gill-attachment'] = 1\r\n",
        "data['Gill-attachment'].describe()"
      ],
      "execution_count": 31,
      "outputs": [
        {
          "output_type": "execute_result",
          "data": {
            "text/plain": [
              "count     8124\n",
              "unique       2\n",
              "top          0\n",
              "freq      7914\n",
              "Name: Gill-attachment, dtype: int64"
            ]
          },
          "metadata": {
            "tags": []
          },
          "execution_count": 31
        }
      ]
    },
    {
      "cell_type": "markdown",
      "metadata": {
        "id": "E3EhpH3oV8d5"
      },
      "source": [
        "Аналогично для других бинарных столбцов."
      ]
    },
    {
      "cell_type": "code",
      "metadata": {
        "colab": {
          "base_uri": "https://localhost:8080/"
        },
        "id": "fHLTOxt-_pfc",
        "outputId": "70d73d8f-0ed6-41ec-a52e-484b9c0c0974"
      },
      "source": [
        "data['Gill-spacing'].unique()"
      ],
      "execution_count": 32,
      "outputs": [
        {
          "output_type": "execute_result",
          "data": {
            "text/plain": [
              "array(['c', 'w'], dtype=object)"
            ]
          },
          "metadata": {
            "tags": []
          },
          "execution_count": 32
        }
      ]
    },
    {
      "cell_type": "code",
      "metadata": {
        "colab": {
          "base_uri": "https://localhost:8080/"
        },
        "id": "_BLL6yej_sHo",
        "outputId": "8c237d54-8a7b-4ae6-c9f9-c85a393ed5e2"
      },
      "source": [
        "data.at[data['Gill-spacing'] == 'c', 'Gill-spacing'] = 0\r\n",
        "data.at[data['Gill-spacing'] == 'w', 'Gill-spacing'] = 1\r\n",
        "data['Gill-spacing'].describe()"
      ],
      "execution_count": 33,
      "outputs": [
        {
          "output_type": "execute_result",
          "data": {
            "text/plain": [
              "count     8124\n",
              "unique       2\n",
              "top          0\n",
              "freq      6812\n",
              "Name: Gill-spacing, dtype: int64"
            ]
          },
          "metadata": {
            "tags": []
          },
          "execution_count": 33
        }
      ]
    },
    {
      "cell_type": "code",
      "metadata": {
        "colab": {
          "base_uri": "https://localhost:8080/"
        },
        "id": "tvOMKUlG_uju",
        "outputId": "c9732bf8-6360-44e3-cd6c-03edae934298"
      },
      "source": [
        "data['Gill-size'].unique()"
      ],
      "execution_count": 34,
      "outputs": [
        {
          "output_type": "execute_result",
          "data": {
            "text/plain": [
              "array(['n', 'b'], dtype=object)"
            ]
          },
          "metadata": {
            "tags": []
          },
          "execution_count": 34
        }
      ]
    },
    {
      "cell_type": "code",
      "metadata": {
        "colab": {
          "base_uri": "https://localhost:8080/"
        },
        "id": "LV7KEZJs_xPJ",
        "outputId": "1cb6c6df-16b7-4989-b49a-53b3755adee0"
      },
      "source": [
        "data.at[data['Gill-size'] == 'n', 'Gill-size'] = 0\r\n",
        "data.at[data['Gill-size'] == 'b', 'Gill-size'] = 1\r\n",
        "data['Gill-size'].describe()"
      ],
      "execution_count": 35,
      "outputs": [
        {
          "output_type": "execute_result",
          "data": {
            "text/plain": [
              "count     8124\n",
              "unique       2\n",
              "top          1\n",
              "freq      5612\n",
              "Name: Gill-size, dtype: int64"
            ]
          },
          "metadata": {
            "tags": []
          },
          "execution_count": 35
        }
      ]
    },
    {
      "cell_type": "code",
      "metadata": {
        "colab": {
          "base_uri": "https://localhost:8080/"
        },
        "id": "hyI_M4VG_z1n",
        "outputId": "7f955f4f-9d22-4cad-baaf-e49c08e76f25"
      },
      "source": [
        "data['Stalk-shape'].unique()"
      ],
      "execution_count": 36,
      "outputs": [
        {
          "output_type": "execute_result",
          "data": {
            "text/plain": [
              "array(['e', 't'], dtype=object)"
            ]
          },
          "metadata": {
            "tags": []
          },
          "execution_count": 36
        }
      ]
    },
    {
      "cell_type": "code",
      "metadata": {
        "colab": {
          "base_uri": "https://localhost:8080/"
        },
        "id": "y2WSNymm_00_",
        "outputId": "1e5e4c76-dd4a-4c7e-9d93-b134bc4731f9"
      },
      "source": [
        "data.at[data['Stalk-shape'] == 'e', 'Stalk-shape'] = 0\r\n",
        "data.at[data['Stalk-shape'] == 't', 'Stalk-shape'] = 1\r\n",
        "data['Stalk-shape'].describe()"
      ],
      "execution_count": 37,
      "outputs": [
        {
          "output_type": "execute_result",
          "data": {
            "text/plain": [
              "count     8124\n",
              "unique       2\n",
              "top          1\n",
              "freq      4608\n",
              "Name: Stalk-shape, dtype: int64"
            ]
          },
          "metadata": {
            "tags": []
          },
          "execution_count": 37
        }
      ]
    },
    {
      "cell_type": "markdown",
      "metadata": {
        "id": "LCdgHdteV8eP"
      },
      "source": [
        "\n",
        "Воспользуемся методом get_dummies для векторизации оставшихся признаков."
      ]
    },
    {
      "cell_type": "code",
      "metadata": {
        "colab": {
          "base_uri": "https://localhost:8080/"
        },
        "id": "OL_JIUIo_8MV",
        "outputId": "6e60cf0d-c522-4e20-b31a-063524eb558d"
      },
      "source": [
        "data_nonbinary = pd.get_dummies(data[nonbinary_columns])\r\n",
        "print(data_nonbinary.columns)"
      ],
      "execution_count": 38,
      "outputs": [
        {
          "output_type": "stream",
          "text": [
            "Index(['Cap-shape_b', 'Cap-shape_c', 'Cap-shape_f', 'Cap-shape_k',\n",
            "       'Cap-shape_s', 'Cap-shape_x', 'Cap-surface_f', 'Cap-surface_g',\n",
            "       'Cap-surface_s', 'Cap-surface_y', 'Cap-color_b', 'Cap-color_c',\n",
            "       'Cap-color_e', 'Cap-color_g', 'Cap-color_n', 'Cap-color_p',\n",
            "       'Cap-color_r', 'Cap-color_u', 'Cap-color_w', 'Cap-color_y', 'Odor_a',\n",
            "       'Odor_c', 'Odor_f', 'Odor_l', 'Odor_m', 'Odor_n', 'Odor_p', 'Odor_s',\n",
            "       'Odor_y', 'Gill-color_b', 'Gill-color_e', 'Gill-color_g',\n",
            "       'Gill-color_h', 'Gill-color_k', 'Gill-color_n', 'Gill-color_o',\n",
            "       'Gill-color_p', 'Gill-color_r', 'Gill-color_u', 'Gill-color_w',\n",
            "       'Gill-color_y', 'Stalk-root_b', 'Stalk-root_c', 'Stalk-root_e',\n",
            "       'Stalk-root_r', 'Stalk-surface-above-ring_f',\n",
            "       'Stalk-surface-above-ring_k', 'Stalk-surface-above-ring_s',\n",
            "       'Stalk-surface-above-ring_y', 'Stalk-surface-below-ring_f',\n",
            "       'Stalk-surface-below-ring_k', 'Stalk-surface-below-ring_s',\n",
            "       'Stalk-surface-below-ring_y', 'Stalk-color-above-ring_b',\n",
            "       'Stalk-color-above-ring_c', 'Stalk-color-above-ring_e',\n",
            "       'Stalk-color-above-ring_g', 'Stalk-color-above-ring_n',\n",
            "       'Stalk-color-above-ring_o', 'Stalk-color-above-ring_p',\n",
            "       'Stalk-color-above-ring_w', 'Stalk-color-above-ring_y',\n",
            "       'Stalk-color-below-ring_b', 'Stalk-color-below-ring_c',\n",
            "       'Stalk-color-below-ring_e', 'Stalk-color-below-ring_g',\n",
            "       'Stalk-color-below-ring_n', 'Stalk-color-below-ring_o',\n",
            "       'Stalk-color-below-ring_p', 'Stalk-color-below-ring_w',\n",
            "       'Stalk-color-below-ring_y', 'Veil-color_n', 'Veil-color_o',\n",
            "       'Veil-color_w', 'Veil-color_y', 'Ring-number_n', 'Ring-number_o',\n",
            "       'Ring-number_t', 'Ring-type_e', 'Ring-type_f', 'Ring-type_l',\n",
            "       'Ring-type_n', 'Ring-type_p', 'Spore-print-color_b',\n",
            "       'Spore-print-color_h', 'Spore-print-color_k', 'Spore-print-color_n',\n",
            "       'Spore-print-color_o', 'Spore-print-color_r', 'Spore-print-color_u',\n",
            "       'Spore-print-color_w', 'Spore-print-color_y'],\n",
            "      dtype='object')\n"
          ],
          "name": "stdout"
        }
      ]
    },
    {
      "cell_type": "markdown",
      "metadata": {
        "id": "FNVdAyHOA5Q4"
      },
      "source": [
        "## Соединяем в одну таблицу"
      ]
    },
    {
      "cell_type": "code",
      "metadata": {
        "colab": {
          "base_uri": "https://localhost:8080/"
        },
        "id": "SFhIr5PRA-cR",
        "outputId": "57647322-527a-4495-fcc0-2c4629423250"
      },
      "source": [
        "data = pd.concat((data_nonbinary, data[binary_columns]), axis = 1)\r\n",
        "print(data.shape)"
      ],
      "execution_count": 39,
      "outputs": [
        {
          "output_type": "stream",
          "text": [
            "(8124, 97)\n"
          ],
          "name": "stdout"
        }
      ]
    },
    {
      "cell_type": "code",
      "metadata": {
        "colab": {
          "base_uri": "https://localhost:8080/",
          "height": 383
        },
        "id": "30HSTYPSBDEs",
        "outputId": "f0b7d2b9-748c-45d5-cc2e-316d3b4082fd"
      },
      "source": [
        "data.describe()"
      ],
      "execution_count": 40,
      "outputs": [
        {
          "output_type": "execute_result",
          "data": {
            "text/html": [
              "<div>\n",
              "<style scoped>\n",
              "    .dataframe tbody tr th:only-of-type {\n",
              "        vertical-align: middle;\n",
              "    }\n",
              "\n",
              "    .dataframe tbody tr th {\n",
              "        vertical-align: top;\n",
              "    }\n",
              "\n",
              "    .dataframe thead th {\n",
              "        text-align: right;\n",
              "    }\n",
              "</style>\n",
              "<table border=\"1\" class=\"dataframe\">\n",
              "  <thead>\n",
              "    <tr style=\"text-align: right;\">\n",
              "      <th></th>\n",
              "      <th>Cap-shape_b</th>\n",
              "      <th>Cap-shape_c</th>\n",
              "      <th>Cap-shape_f</th>\n",
              "      <th>Cap-shape_k</th>\n",
              "      <th>Cap-shape_s</th>\n",
              "      <th>Cap-shape_x</th>\n",
              "      <th>Cap-surface_f</th>\n",
              "      <th>Cap-surface_g</th>\n",
              "      <th>Cap-surface_s</th>\n",
              "      <th>Cap-surface_y</th>\n",
              "      <th>Cap-color_b</th>\n",
              "      <th>Cap-color_c</th>\n",
              "      <th>Cap-color_e</th>\n",
              "      <th>Cap-color_g</th>\n",
              "      <th>Cap-color_n</th>\n",
              "      <th>Cap-color_p</th>\n",
              "      <th>Cap-color_r</th>\n",
              "      <th>Cap-color_u</th>\n",
              "      <th>Cap-color_w</th>\n",
              "      <th>Cap-color_y</th>\n",
              "      <th>Odor_a</th>\n",
              "      <th>Odor_c</th>\n",
              "      <th>Odor_f</th>\n",
              "      <th>Odor_l</th>\n",
              "      <th>Odor_m</th>\n",
              "      <th>Odor_n</th>\n",
              "      <th>Odor_p</th>\n",
              "      <th>Odor_s</th>\n",
              "      <th>Odor_y</th>\n",
              "      <th>Gill-color_b</th>\n",
              "      <th>Gill-color_e</th>\n",
              "      <th>Gill-color_g</th>\n",
              "      <th>Gill-color_h</th>\n",
              "      <th>Gill-color_k</th>\n",
              "      <th>Gill-color_n</th>\n",
              "      <th>Gill-color_o</th>\n",
              "      <th>Gill-color_p</th>\n",
              "      <th>Gill-color_r</th>\n",
              "      <th>Gill-color_u</th>\n",
              "      <th>Gill-color_w</th>\n",
              "      <th>...</th>\n",
              "      <th>Stalk-surface-below-ring_y</th>\n",
              "      <th>Stalk-color-above-ring_b</th>\n",
              "      <th>Stalk-color-above-ring_c</th>\n",
              "      <th>Stalk-color-above-ring_e</th>\n",
              "      <th>Stalk-color-above-ring_g</th>\n",
              "      <th>Stalk-color-above-ring_n</th>\n",
              "      <th>Stalk-color-above-ring_o</th>\n",
              "      <th>Stalk-color-above-ring_p</th>\n",
              "      <th>Stalk-color-above-ring_w</th>\n",
              "      <th>Stalk-color-above-ring_y</th>\n",
              "      <th>Stalk-color-below-ring_b</th>\n",
              "      <th>Stalk-color-below-ring_c</th>\n",
              "      <th>Stalk-color-below-ring_e</th>\n",
              "      <th>Stalk-color-below-ring_g</th>\n",
              "      <th>Stalk-color-below-ring_n</th>\n",
              "      <th>Stalk-color-below-ring_o</th>\n",
              "      <th>Stalk-color-below-ring_p</th>\n",
              "      <th>Stalk-color-below-ring_w</th>\n",
              "      <th>Stalk-color-below-ring_y</th>\n",
              "      <th>Veil-color_n</th>\n",
              "      <th>Veil-color_o</th>\n",
              "      <th>Veil-color_w</th>\n",
              "      <th>Veil-color_y</th>\n",
              "      <th>Ring-number_n</th>\n",
              "      <th>Ring-number_o</th>\n",
              "      <th>Ring-number_t</th>\n",
              "      <th>Ring-type_e</th>\n",
              "      <th>Ring-type_f</th>\n",
              "      <th>Ring-type_l</th>\n",
              "      <th>Ring-type_n</th>\n",
              "      <th>Ring-type_p</th>\n",
              "      <th>Spore-print-color_b</th>\n",
              "      <th>Spore-print-color_h</th>\n",
              "      <th>Spore-print-color_k</th>\n",
              "      <th>Spore-print-color_n</th>\n",
              "      <th>Spore-print-color_o</th>\n",
              "      <th>Spore-print-color_r</th>\n",
              "      <th>Spore-print-color_u</th>\n",
              "      <th>Spore-print-color_w</th>\n",
              "      <th>Spore-print-color_y</th>\n",
              "    </tr>\n",
              "  </thead>\n",
              "  <tbody>\n",
              "    <tr>\n",
              "      <th>count</th>\n",
              "      <td>8124.000000</td>\n",
              "      <td>8124.000000</td>\n",
              "      <td>8124.000000</td>\n",
              "      <td>8124.000000</td>\n",
              "      <td>8124.000000</td>\n",
              "      <td>8124.000000</td>\n",
              "      <td>8124.000000</td>\n",
              "      <td>8124.000000</td>\n",
              "      <td>8124.000000</td>\n",
              "      <td>8124.000000</td>\n",
              "      <td>8124.000000</td>\n",
              "      <td>8124.000000</td>\n",
              "      <td>8124.000000</td>\n",
              "      <td>8124.000000</td>\n",
              "      <td>8124.000000</td>\n",
              "      <td>8124.000000</td>\n",
              "      <td>8124.000000</td>\n",
              "      <td>8124.000000</td>\n",
              "      <td>8124.000000</td>\n",
              "      <td>8124.000000</td>\n",
              "      <td>8124.000000</td>\n",
              "      <td>8124.000000</td>\n",
              "      <td>8124.000000</td>\n",
              "      <td>8124.000000</td>\n",
              "      <td>8124.000000</td>\n",
              "      <td>8124.000000</td>\n",
              "      <td>8124.000000</td>\n",
              "      <td>8124.000000</td>\n",
              "      <td>8124.000000</td>\n",
              "      <td>8124.000000</td>\n",
              "      <td>8124.000000</td>\n",
              "      <td>8124.000000</td>\n",
              "      <td>8124.000000</td>\n",
              "      <td>8124.000000</td>\n",
              "      <td>8124.000000</td>\n",
              "      <td>8124.000000</td>\n",
              "      <td>8124.000000</td>\n",
              "      <td>8124.000000</td>\n",
              "      <td>8124.000000</td>\n",
              "      <td>8124.000000</td>\n",
              "      <td>...</td>\n",
              "      <td>8124.000000</td>\n",
              "      <td>8124.000000</td>\n",
              "      <td>8124.000000</td>\n",
              "      <td>8124.000000</td>\n",
              "      <td>8124.000000</td>\n",
              "      <td>8124.000000</td>\n",
              "      <td>8124.000000</td>\n",
              "      <td>8124.000000</td>\n",
              "      <td>8124.000000</td>\n",
              "      <td>8124.000000</td>\n",
              "      <td>8124.000000</td>\n",
              "      <td>8124.000000</td>\n",
              "      <td>8124.000000</td>\n",
              "      <td>8124.000000</td>\n",
              "      <td>8124.000000</td>\n",
              "      <td>8124.000000</td>\n",
              "      <td>8124.000000</td>\n",
              "      <td>8124.000000</td>\n",
              "      <td>8124.000000</td>\n",
              "      <td>8124.000000</td>\n",
              "      <td>8124.000000</td>\n",
              "      <td>8124.000000</td>\n",
              "      <td>8124.000000</td>\n",
              "      <td>8124.000000</td>\n",
              "      <td>8124.000000</td>\n",
              "      <td>8124.000000</td>\n",
              "      <td>8124.000000</td>\n",
              "      <td>8124.000000</td>\n",
              "      <td>8124.000000</td>\n",
              "      <td>8124.000000</td>\n",
              "      <td>8124.000000</td>\n",
              "      <td>8124.000000</td>\n",
              "      <td>8124.000000</td>\n",
              "      <td>8124.000000</td>\n",
              "      <td>8124.000000</td>\n",
              "      <td>8124.000000</td>\n",
              "      <td>8124.000000</td>\n",
              "      <td>8124.000000</td>\n",
              "      <td>8124.000000</td>\n",
              "      <td>8124.000000</td>\n",
              "    </tr>\n",
              "    <tr>\n",
              "      <th>mean</th>\n",
              "      <td>0.055638</td>\n",
              "      <td>0.000492</td>\n",
              "      <td>0.387986</td>\n",
              "      <td>0.101920</td>\n",
              "      <td>0.003939</td>\n",
              "      <td>0.450025</td>\n",
              "      <td>0.285574</td>\n",
              "      <td>0.000492</td>\n",
              "      <td>0.314623</td>\n",
              "      <td>0.399311</td>\n",
              "      <td>0.020679</td>\n",
              "      <td>0.005416</td>\n",
              "      <td>0.184638</td>\n",
              "      <td>0.226489</td>\n",
              "      <td>0.281142</td>\n",
              "      <td>0.017725</td>\n",
              "      <td>0.001969</td>\n",
              "      <td>0.001969</td>\n",
              "      <td>0.128016</td>\n",
              "      <td>0.131955</td>\n",
              "      <td>0.049237</td>\n",
              "      <td>0.023634</td>\n",
              "      <td>0.265879</td>\n",
              "      <td>0.049237</td>\n",
              "      <td>0.004431</td>\n",
              "      <td>0.434269</td>\n",
              "      <td>0.031512</td>\n",
              "      <td>0.070901</td>\n",
              "      <td>0.070901</td>\n",
              "      <td>0.212703</td>\n",
              "      <td>0.011817</td>\n",
              "      <td>0.092565</td>\n",
              "      <td>0.090103</td>\n",
              "      <td>0.050222</td>\n",
              "      <td>0.129000</td>\n",
              "      <td>0.007878</td>\n",
              "      <td>0.183653</td>\n",
              "      <td>0.002954</td>\n",
              "      <td>0.060561</td>\n",
              "      <td>0.147957</td>\n",
              "      <td>...</td>\n",
              "      <td>0.034958</td>\n",
              "      <td>0.053176</td>\n",
              "      <td>0.004431</td>\n",
              "      <td>0.011817</td>\n",
              "      <td>0.070901</td>\n",
              "      <td>0.055145</td>\n",
              "      <td>0.023634</td>\n",
              "      <td>0.230428</td>\n",
              "      <td>0.549483</td>\n",
              "      <td>0.000985</td>\n",
              "      <td>0.053176</td>\n",
              "      <td>0.004431</td>\n",
              "      <td>0.011817</td>\n",
              "      <td>0.070901</td>\n",
              "      <td>0.063023</td>\n",
              "      <td>0.023634</td>\n",
              "      <td>0.230428</td>\n",
              "      <td>0.539636</td>\n",
              "      <td>0.002954</td>\n",
              "      <td>0.011817</td>\n",
              "      <td>0.011817</td>\n",
              "      <td>0.975382</td>\n",
              "      <td>0.000985</td>\n",
              "      <td>0.004431</td>\n",
              "      <td>0.921713</td>\n",
              "      <td>0.073855</td>\n",
              "      <td>0.341704</td>\n",
              "      <td>0.005908</td>\n",
              "      <td>0.159527</td>\n",
              "      <td>0.004431</td>\n",
              "      <td>0.488429</td>\n",
              "      <td>0.005908</td>\n",
              "      <td>0.200886</td>\n",
              "      <td>0.230428</td>\n",
              "      <td>0.242245</td>\n",
              "      <td>0.005908</td>\n",
              "      <td>0.008863</td>\n",
              "      <td>0.005908</td>\n",
              "      <td>0.293944</td>\n",
              "      <td>0.005908</td>\n",
              "    </tr>\n",
              "    <tr>\n",
              "      <th>std</th>\n",
              "      <td>0.229235</td>\n",
              "      <td>0.022185</td>\n",
              "      <td>0.487321</td>\n",
              "      <td>0.302562</td>\n",
              "      <td>0.062641</td>\n",
              "      <td>0.497527</td>\n",
              "      <td>0.451715</td>\n",
              "      <td>0.022185</td>\n",
              "      <td>0.464394</td>\n",
              "      <td>0.489787</td>\n",
              "      <td>0.142318</td>\n",
              "      <td>0.073399</td>\n",
              "      <td>0.388028</td>\n",
              "      <td>0.418585</td>\n",
              "      <td>0.449584</td>\n",
              "      <td>0.131959</td>\n",
              "      <td>0.044338</td>\n",
              "      <td>0.044338</td>\n",
              "      <td>0.334128</td>\n",
              "      <td>0.338462</td>\n",
              "      <td>0.216375</td>\n",
              "      <td>0.151914</td>\n",
              "      <td>0.441827</td>\n",
              "      <td>0.216375</td>\n",
              "      <td>0.066425</td>\n",
              "      <td>0.495691</td>\n",
              "      <td>0.174706</td>\n",
              "      <td>0.256675</td>\n",
              "      <td>0.256675</td>\n",
              "      <td>0.409245</td>\n",
              "      <td>0.108068</td>\n",
              "      <td>0.289840</td>\n",
              "      <td>0.286347</td>\n",
              "      <td>0.218415</td>\n",
              "      <td>0.335221</td>\n",
              "      <td>0.088413</td>\n",
              "      <td>0.387225</td>\n",
              "      <td>0.054276</td>\n",
              "      <td>0.238539</td>\n",
              "      <td>0.355079</td>\n",
              "      <td>...</td>\n",
              "      <td>0.183685</td>\n",
              "      <td>0.224398</td>\n",
              "      <td>0.066425</td>\n",
              "      <td>0.108068</td>\n",
              "      <td>0.256675</td>\n",
              "      <td>0.228278</td>\n",
              "      <td>0.151914</td>\n",
              "      <td>0.421133</td>\n",
              "      <td>0.497576</td>\n",
              "      <td>0.031367</td>\n",
              "      <td>0.224398</td>\n",
              "      <td>0.066425</td>\n",
              "      <td>0.108068</td>\n",
              "      <td>0.256675</td>\n",
              "      <td>0.243020</td>\n",
              "      <td>0.151914</td>\n",
              "      <td>0.421133</td>\n",
              "      <td>0.498457</td>\n",
              "      <td>0.054276</td>\n",
              "      <td>0.108068</td>\n",
              "      <td>0.108068</td>\n",
              "      <td>0.154969</td>\n",
              "      <td>0.031367</td>\n",
              "      <td>0.066425</td>\n",
              "      <td>0.268639</td>\n",
              "      <td>0.261551</td>\n",
              "      <td>0.474310</td>\n",
              "      <td>0.076644</td>\n",
              "      <td>0.366190</td>\n",
              "      <td>0.066425</td>\n",
              "      <td>0.499897</td>\n",
              "      <td>0.076644</td>\n",
              "      <td>0.400688</td>\n",
              "      <td>0.421133</td>\n",
              "      <td>0.428468</td>\n",
              "      <td>0.076644</td>\n",
              "      <td>0.093729</td>\n",
              "      <td>0.076644</td>\n",
              "      <td>0.455595</td>\n",
              "      <td>0.076644</td>\n",
              "    </tr>\n",
              "    <tr>\n",
              "      <th>min</th>\n",
              "      <td>0.000000</td>\n",
              "      <td>0.000000</td>\n",
              "      <td>0.000000</td>\n",
              "      <td>0.000000</td>\n",
              "      <td>0.000000</td>\n",
              "      <td>0.000000</td>\n",
              "      <td>0.000000</td>\n",
              "      <td>0.000000</td>\n",
              "      <td>0.000000</td>\n",
              "      <td>0.000000</td>\n",
              "      <td>0.000000</td>\n",
              "      <td>0.000000</td>\n",
              "      <td>0.000000</td>\n",
              "      <td>0.000000</td>\n",
              "      <td>0.000000</td>\n",
              "      <td>0.000000</td>\n",
              "      <td>0.000000</td>\n",
              "      <td>0.000000</td>\n",
              "      <td>0.000000</td>\n",
              "      <td>0.000000</td>\n",
              "      <td>0.000000</td>\n",
              "      <td>0.000000</td>\n",
              "      <td>0.000000</td>\n",
              "      <td>0.000000</td>\n",
              "      <td>0.000000</td>\n",
              "      <td>0.000000</td>\n",
              "      <td>0.000000</td>\n",
              "      <td>0.000000</td>\n",
              "      <td>0.000000</td>\n",
              "      <td>0.000000</td>\n",
              "      <td>0.000000</td>\n",
              "      <td>0.000000</td>\n",
              "      <td>0.000000</td>\n",
              "      <td>0.000000</td>\n",
              "      <td>0.000000</td>\n",
              "      <td>0.000000</td>\n",
              "      <td>0.000000</td>\n",
              "      <td>0.000000</td>\n",
              "      <td>0.000000</td>\n",
              "      <td>0.000000</td>\n",
              "      <td>...</td>\n",
              "      <td>0.000000</td>\n",
              "      <td>0.000000</td>\n",
              "      <td>0.000000</td>\n",
              "      <td>0.000000</td>\n",
              "      <td>0.000000</td>\n",
              "      <td>0.000000</td>\n",
              "      <td>0.000000</td>\n",
              "      <td>0.000000</td>\n",
              "      <td>0.000000</td>\n",
              "      <td>0.000000</td>\n",
              "      <td>0.000000</td>\n",
              "      <td>0.000000</td>\n",
              "      <td>0.000000</td>\n",
              "      <td>0.000000</td>\n",
              "      <td>0.000000</td>\n",
              "      <td>0.000000</td>\n",
              "      <td>0.000000</td>\n",
              "      <td>0.000000</td>\n",
              "      <td>0.000000</td>\n",
              "      <td>0.000000</td>\n",
              "      <td>0.000000</td>\n",
              "      <td>0.000000</td>\n",
              "      <td>0.000000</td>\n",
              "      <td>0.000000</td>\n",
              "      <td>0.000000</td>\n",
              "      <td>0.000000</td>\n",
              "      <td>0.000000</td>\n",
              "      <td>0.000000</td>\n",
              "      <td>0.000000</td>\n",
              "      <td>0.000000</td>\n",
              "      <td>0.000000</td>\n",
              "      <td>0.000000</td>\n",
              "      <td>0.000000</td>\n",
              "      <td>0.000000</td>\n",
              "      <td>0.000000</td>\n",
              "      <td>0.000000</td>\n",
              "      <td>0.000000</td>\n",
              "      <td>0.000000</td>\n",
              "      <td>0.000000</td>\n",
              "      <td>0.000000</td>\n",
              "    </tr>\n",
              "    <tr>\n",
              "      <th>25%</th>\n",
              "      <td>0.000000</td>\n",
              "      <td>0.000000</td>\n",
              "      <td>0.000000</td>\n",
              "      <td>0.000000</td>\n",
              "      <td>0.000000</td>\n",
              "      <td>0.000000</td>\n",
              "      <td>0.000000</td>\n",
              "      <td>0.000000</td>\n",
              "      <td>0.000000</td>\n",
              "      <td>0.000000</td>\n",
              "      <td>0.000000</td>\n",
              "      <td>0.000000</td>\n",
              "      <td>0.000000</td>\n",
              "      <td>0.000000</td>\n",
              "      <td>0.000000</td>\n",
              "      <td>0.000000</td>\n",
              "      <td>0.000000</td>\n",
              "      <td>0.000000</td>\n",
              "      <td>0.000000</td>\n",
              "      <td>0.000000</td>\n",
              "      <td>0.000000</td>\n",
              "      <td>0.000000</td>\n",
              "      <td>0.000000</td>\n",
              "      <td>0.000000</td>\n",
              "      <td>0.000000</td>\n",
              "      <td>0.000000</td>\n",
              "      <td>0.000000</td>\n",
              "      <td>0.000000</td>\n",
              "      <td>0.000000</td>\n",
              "      <td>0.000000</td>\n",
              "      <td>0.000000</td>\n",
              "      <td>0.000000</td>\n",
              "      <td>0.000000</td>\n",
              "      <td>0.000000</td>\n",
              "      <td>0.000000</td>\n",
              "      <td>0.000000</td>\n",
              "      <td>0.000000</td>\n",
              "      <td>0.000000</td>\n",
              "      <td>0.000000</td>\n",
              "      <td>0.000000</td>\n",
              "      <td>...</td>\n",
              "      <td>0.000000</td>\n",
              "      <td>0.000000</td>\n",
              "      <td>0.000000</td>\n",
              "      <td>0.000000</td>\n",
              "      <td>0.000000</td>\n",
              "      <td>0.000000</td>\n",
              "      <td>0.000000</td>\n",
              "      <td>0.000000</td>\n",
              "      <td>0.000000</td>\n",
              "      <td>0.000000</td>\n",
              "      <td>0.000000</td>\n",
              "      <td>0.000000</td>\n",
              "      <td>0.000000</td>\n",
              "      <td>0.000000</td>\n",
              "      <td>0.000000</td>\n",
              "      <td>0.000000</td>\n",
              "      <td>0.000000</td>\n",
              "      <td>0.000000</td>\n",
              "      <td>0.000000</td>\n",
              "      <td>0.000000</td>\n",
              "      <td>0.000000</td>\n",
              "      <td>1.000000</td>\n",
              "      <td>0.000000</td>\n",
              "      <td>0.000000</td>\n",
              "      <td>1.000000</td>\n",
              "      <td>0.000000</td>\n",
              "      <td>0.000000</td>\n",
              "      <td>0.000000</td>\n",
              "      <td>0.000000</td>\n",
              "      <td>0.000000</td>\n",
              "      <td>0.000000</td>\n",
              "      <td>0.000000</td>\n",
              "      <td>0.000000</td>\n",
              "      <td>0.000000</td>\n",
              "      <td>0.000000</td>\n",
              "      <td>0.000000</td>\n",
              "      <td>0.000000</td>\n",
              "      <td>0.000000</td>\n",
              "      <td>0.000000</td>\n",
              "      <td>0.000000</td>\n",
              "    </tr>\n",
              "    <tr>\n",
              "      <th>50%</th>\n",
              "      <td>0.000000</td>\n",
              "      <td>0.000000</td>\n",
              "      <td>0.000000</td>\n",
              "      <td>0.000000</td>\n",
              "      <td>0.000000</td>\n",
              "      <td>0.000000</td>\n",
              "      <td>0.000000</td>\n",
              "      <td>0.000000</td>\n",
              "      <td>0.000000</td>\n",
              "      <td>0.000000</td>\n",
              "      <td>0.000000</td>\n",
              "      <td>0.000000</td>\n",
              "      <td>0.000000</td>\n",
              "      <td>0.000000</td>\n",
              "      <td>0.000000</td>\n",
              "      <td>0.000000</td>\n",
              "      <td>0.000000</td>\n",
              "      <td>0.000000</td>\n",
              "      <td>0.000000</td>\n",
              "      <td>0.000000</td>\n",
              "      <td>0.000000</td>\n",
              "      <td>0.000000</td>\n",
              "      <td>0.000000</td>\n",
              "      <td>0.000000</td>\n",
              "      <td>0.000000</td>\n",
              "      <td>0.000000</td>\n",
              "      <td>0.000000</td>\n",
              "      <td>0.000000</td>\n",
              "      <td>0.000000</td>\n",
              "      <td>0.000000</td>\n",
              "      <td>0.000000</td>\n",
              "      <td>0.000000</td>\n",
              "      <td>0.000000</td>\n",
              "      <td>0.000000</td>\n",
              "      <td>0.000000</td>\n",
              "      <td>0.000000</td>\n",
              "      <td>0.000000</td>\n",
              "      <td>0.000000</td>\n",
              "      <td>0.000000</td>\n",
              "      <td>0.000000</td>\n",
              "      <td>...</td>\n",
              "      <td>0.000000</td>\n",
              "      <td>0.000000</td>\n",
              "      <td>0.000000</td>\n",
              "      <td>0.000000</td>\n",
              "      <td>0.000000</td>\n",
              "      <td>0.000000</td>\n",
              "      <td>0.000000</td>\n",
              "      <td>0.000000</td>\n",
              "      <td>1.000000</td>\n",
              "      <td>0.000000</td>\n",
              "      <td>0.000000</td>\n",
              "      <td>0.000000</td>\n",
              "      <td>0.000000</td>\n",
              "      <td>0.000000</td>\n",
              "      <td>0.000000</td>\n",
              "      <td>0.000000</td>\n",
              "      <td>0.000000</td>\n",
              "      <td>1.000000</td>\n",
              "      <td>0.000000</td>\n",
              "      <td>0.000000</td>\n",
              "      <td>0.000000</td>\n",
              "      <td>1.000000</td>\n",
              "      <td>0.000000</td>\n",
              "      <td>0.000000</td>\n",
              "      <td>1.000000</td>\n",
              "      <td>0.000000</td>\n",
              "      <td>0.000000</td>\n",
              "      <td>0.000000</td>\n",
              "      <td>0.000000</td>\n",
              "      <td>0.000000</td>\n",
              "      <td>0.000000</td>\n",
              "      <td>0.000000</td>\n",
              "      <td>0.000000</td>\n",
              "      <td>0.000000</td>\n",
              "      <td>0.000000</td>\n",
              "      <td>0.000000</td>\n",
              "      <td>0.000000</td>\n",
              "      <td>0.000000</td>\n",
              "      <td>0.000000</td>\n",
              "      <td>0.000000</td>\n",
              "    </tr>\n",
              "    <tr>\n",
              "      <th>75%</th>\n",
              "      <td>0.000000</td>\n",
              "      <td>0.000000</td>\n",
              "      <td>1.000000</td>\n",
              "      <td>0.000000</td>\n",
              "      <td>0.000000</td>\n",
              "      <td>1.000000</td>\n",
              "      <td>1.000000</td>\n",
              "      <td>0.000000</td>\n",
              "      <td>1.000000</td>\n",
              "      <td>1.000000</td>\n",
              "      <td>0.000000</td>\n",
              "      <td>0.000000</td>\n",
              "      <td>0.000000</td>\n",
              "      <td>0.000000</td>\n",
              "      <td>1.000000</td>\n",
              "      <td>0.000000</td>\n",
              "      <td>0.000000</td>\n",
              "      <td>0.000000</td>\n",
              "      <td>0.000000</td>\n",
              "      <td>0.000000</td>\n",
              "      <td>0.000000</td>\n",
              "      <td>0.000000</td>\n",
              "      <td>1.000000</td>\n",
              "      <td>0.000000</td>\n",
              "      <td>0.000000</td>\n",
              "      <td>1.000000</td>\n",
              "      <td>0.000000</td>\n",
              "      <td>0.000000</td>\n",
              "      <td>0.000000</td>\n",
              "      <td>0.000000</td>\n",
              "      <td>0.000000</td>\n",
              "      <td>0.000000</td>\n",
              "      <td>0.000000</td>\n",
              "      <td>0.000000</td>\n",
              "      <td>0.000000</td>\n",
              "      <td>0.000000</td>\n",
              "      <td>0.000000</td>\n",
              "      <td>0.000000</td>\n",
              "      <td>0.000000</td>\n",
              "      <td>0.000000</td>\n",
              "      <td>...</td>\n",
              "      <td>0.000000</td>\n",
              "      <td>0.000000</td>\n",
              "      <td>0.000000</td>\n",
              "      <td>0.000000</td>\n",
              "      <td>0.000000</td>\n",
              "      <td>0.000000</td>\n",
              "      <td>0.000000</td>\n",
              "      <td>0.000000</td>\n",
              "      <td>1.000000</td>\n",
              "      <td>0.000000</td>\n",
              "      <td>0.000000</td>\n",
              "      <td>0.000000</td>\n",
              "      <td>0.000000</td>\n",
              "      <td>0.000000</td>\n",
              "      <td>0.000000</td>\n",
              "      <td>0.000000</td>\n",
              "      <td>0.000000</td>\n",
              "      <td>1.000000</td>\n",
              "      <td>0.000000</td>\n",
              "      <td>0.000000</td>\n",
              "      <td>0.000000</td>\n",
              "      <td>1.000000</td>\n",
              "      <td>0.000000</td>\n",
              "      <td>0.000000</td>\n",
              "      <td>1.000000</td>\n",
              "      <td>0.000000</td>\n",
              "      <td>1.000000</td>\n",
              "      <td>0.000000</td>\n",
              "      <td>0.000000</td>\n",
              "      <td>0.000000</td>\n",
              "      <td>1.000000</td>\n",
              "      <td>0.000000</td>\n",
              "      <td>0.000000</td>\n",
              "      <td>0.000000</td>\n",
              "      <td>0.000000</td>\n",
              "      <td>0.000000</td>\n",
              "      <td>0.000000</td>\n",
              "      <td>0.000000</td>\n",
              "      <td>1.000000</td>\n",
              "      <td>0.000000</td>\n",
              "    </tr>\n",
              "    <tr>\n",
              "      <th>max</th>\n",
              "      <td>1.000000</td>\n",
              "      <td>1.000000</td>\n",
              "      <td>1.000000</td>\n",
              "      <td>1.000000</td>\n",
              "      <td>1.000000</td>\n",
              "      <td>1.000000</td>\n",
              "      <td>1.000000</td>\n",
              "      <td>1.000000</td>\n",
              "      <td>1.000000</td>\n",
              "      <td>1.000000</td>\n",
              "      <td>1.000000</td>\n",
              "      <td>1.000000</td>\n",
              "      <td>1.000000</td>\n",
              "      <td>1.000000</td>\n",
              "      <td>1.000000</td>\n",
              "      <td>1.000000</td>\n",
              "      <td>1.000000</td>\n",
              "      <td>1.000000</td>\n",
              "      <td>1.000000</td>\n",
              "      <td>1.000000</td>\n",
              "      <td>1.000000</td>\n",
              "      <td>1.000000</td>\n",
              "      <td>1.000000</td>\n",
              "      <td>1.000000</td>\n",
              "      <td>1.000000</td>\n",
              "      <td>1.000000</td>\n",
              "      <td>1.000000</td>\n",
              "      <td>1.000000</td>\n",
              "      <td>1.000000</td>\n",
              "      <td>1.000000</td>\n",
              "      <td>1.000000</td>\n",
              "      <td>1.000000</td>\n",
              "      <td>1.000000</td>\n",
              "      <td>1.000000</td>\n",
              "      <td>1.000000</td>\n",
              "      <td>1.000000</td>\n",
              "      <td>1.000000</td>\n",
              "      <td>1.000000</td>\n",
              "      <td>1.000000</td>\n",
              "      <td>1.000000</td>\n",
              "      <td>...</td>\n",
              "      <td>1.000000</td>\n",
              "      <td>1.000000</td>\n",
              "      <td>1.000000</td>\n",
              "      <td>1.000000</td>\n",
              "      <td>1.000000</td>\n",
              "      <td>1.000000</td>\n",
              "      <td>1.000000</td>\n",
              "      <td>1.000000</td>\n",
              "      <td>1.000000</td>\n",
              "      <td>1.000000</td>\n",
              "      <td>1.000000</td>\n",
              "      <td>1.000000</td>\n",
              "      <td>1.000000</td>\n",
              "      <td>1.000000</td>\n",
              "      <td>1.000000</td>\n",
              "      <td>1.000000</td>\n",
              "      <td>1.000000</td>\n",
              "      <td>1.000000</td>\n",
              "      <td>1.000000</td>\n",
              "      <td>1.000000</td>\n",
              "      <td>1.000000</td>\n",
              "      <td>1.000000</td>\n",
              "      <td>1.000000</td>\n",
              "      <td>1.000000</td>\n",
              "      <td>1.000000</td>\n",
              "      <td>1.000000</td>\n",
              "      <td>1.000000</td>\n",
              "      <td>1.000000</td>\n",
              "      <td>1.000000</td>\n",
              "      <td>1.000000</td>\n",
              "      <td>1.000000</td>\n",
              "      <td>1.000000</td>\n",
              "      <td>1.000000</td>\n",
              "      <td>1.000000</td>\n",
              "      <td>1.000000</td>\n",
              "      <td>1.000000</td>\n",
              "      <td>1.000000</td>\n",
              "      <td>1.000000</td>\n",
              "      <td>1.000000</td>\n",
              "      <td>1.000000</td>\n",
              "    </tr>\n",
              "  </tbody>\n",
              "</table>\n",
              "<p>8 rows × 92 columns</p>\n",
              "</div>"
            ],
            "text/plain": [
              "       Cap-shape_b  Cap-shape_c  ...  Spore-print-color_w  Spore-print-color_y\n",
              "count  8124.000000  8124.000000  ...          8124.000000          8124.000000\n",
              "mean      0.055638     0.000492  ...             0.293944             0.005908\n",
              "std       0.229235     0.022185  ...             0.455595             0.076644\n",
              "min       0.000000     0.000000  ...             0.000000             0.000000\n",
              "25%       0.000000     0.000000  ...             0.000000             0.000000\n",
              "50%       0.000000     0.000000  ...             0.000000             0.000000\n",
              "75%       0.000000     0.000000  ...             1.000000             0.000000\n",
              "max       1.000000     1.000000  ...             1.000000             1.000000\n",
              "\n",
              "[8 rows x 92 columns]"
            ]
          },
          "metadata": {
            "tags": []
          },
          "execution_count": 40
        }
      ]
    },
    {
      "cell_type": "markdown",
      "metadata": {
        "id": "Zkx0WO_-BLUJ"
      },
      "source": [
        "## X и Y"
      ]
    },
    {
      "cell_type": "markdown",
      "metadata": {
        "id": "BmixRKzEV8eZ"
      },
      "source": [
        "\n",
        "В моей таблице есть характеристика \"Class\", которая показывает съедобный гриб или нет.\n",
        "\n",
        "Я буду прогнозировать съедобность по остальным признакам, описывающим внешний вид гриба."
      ]
    },
    {
      "cell_type": "code",
      "metadata": {
        "id": "4h5DyZUeBUMs"
      },
      "source": [
        "X = data.drop(('Class'), axis = 1)\r\n",
        "y = data['Class']\r\n",
        "feature_names = X.columns"
      ],
      "execution_count": 41,
      "outputs": []
    },
    {
      "cell_type": "code",
      "metadata": {
        "colab": {
          "base_uri": "https://localhost:8080/"
        },
        "id": "sh0adswmBZC-",
        "outputId": "c6fee1f8-155d-4165-c48a-05a9bc032a3a"
      },
      "source": [
        "type(feature_names)"
      ],
      "execution_count": 42,
      "outputs": [
        {
          "output_type": "execute_result",
          "data": {
            "text/plain": [
              "pandas.core.indexes.base.Index"
            ]
          },
          "metadata": {
            "tags": []
          },
          "execution_count": 42
        }
      ]
    },
    {
      "cell_type": "code",
      "metadata": {
        "colab": {
          "base_uri": "https://localhost:8080/"
        },
        "id": "jZjDyjCjBbrr",
        "outputId": "647baea1-380c-4cd3-add7-746b90a3c014"
      },
      "source": [
        "feature_names"
      ],
      "execution_count": 43,
      "outputs": [
        {
          "output_type": "execute_result",
          "data": {
            "text/plain": [
              "Index(['Cap-shape_b', 'Cap-shape_c', 'Cap-shape_f', 'Cap-shape_k',\n",
              "       'Cap-shape_s', 'Cap-shape_x', 'Cap-surface_f', 'Cap-surface_g',\n",
              "       'Cap-surface_s', 'Cap-surface_y', 'Cap-color_b', 'Cap-color_c',\n",
              "       'Cap-color_e', 'Cap-color_g', 'Cap-color_n', 'Cap-color_p',\n",
              "       'Cap-color_r', 'Cap-color_u', 'Cap-color_w', 'Cap-color_y', 'Odor_a',\n",
              "       'Odor_c', 'Odor_f', 'Odor_l', 'Odor_m', 'Odor_n', 'Odor_p', 'Odor_s',\n",
              "       'Odor_y', 'Gill-color_b', 'Gill-color_e', 'Gill-color_g',\n",
              "       'Gill-color_h', 'Gill-color_k', 'Gill-color_n', 'Gill-color_o',\n",
              "       'Gill-color_p', 'Gill-color_r', 'Gill-color_u', 'Gill-color_w',\n",
              "       'Gill-color_y', 'Stalk-root_b', 'Stalk-root_c', 'Stalk-root_e',\n",
              "       'Stalk-root_r', 'Stalk-surface-above-ring_f',\n",
              "       'Stalk-surface-above-ring_k', 'Stalk-surface-above-ring_s',\n",
              "       'Stalk-surface-above-ring_y', 'Stalk-surface-below-ring_f',\n",
              "       'Stalk-surface-below-ring_k', 'Stalk-surface-below-ring_s',\n",
              "       'Stalk-surface-below-ring_y', 'Stalk-color-above-ring_b',\n",
              "       'Stalk-color-above-ring_c', 'Stalk-color-above-ring_e',\n",
              "       'Stalk-color-above-ring_g', 'Stalk-color-above-ring_n',\n",
              "       'Stalk-color-above-ring_o', 'Stalk-color-above-ring_p',\n",
              "       'Stalk-color-above-ring_w', 'Stalk-color-above-ring_y',\n",
              "       'Stalk-color-below-ring_b', 'Stalk-color-below-ring_c',\n",
              "       'Stalk-color-below-ring_e', 'Stalk-color-below-ring_g',\n",
              "       'Stalk-color-below-ring_n', 'Stalk-color-below-ring_o',\n",
              "       'Stalk-color-below-ring_p', 'Stalk-color-below-ring_w',\n",
              "       'Stalk-color-below-ring_y', 'Veil-color_n', 'Veil-color_o',\n",
              "       'Veil-color_w', 'Veil-color_y', 'Ring-number_n', 'Ring-number_o',\n",
              "       'Ring-number_t', 'Ring-type_e', 'Ring-type_f', 'Ring-type_l',\n",
              "       'Ring-type_n', 'Ring-type_p', 'Spore-print-color_b',\n",
              "       'Spore-print-color_h', 'Spore-print-color_k', 'Spore-print-color_n',\n",
              "       'Spore-print-color_o', 'Spore-print-color_r', 'Spore-print-color_u',\n",
              "       'Spore-print-color_w', 'Spore-print-color_y', 'Gill-attachment',\n",
              "       'Gill-spacing', 'Gill-size', 'Stalk-shape'],\n",
              "      dtype='object')"
            ]
          },
          "metadata": {
            "tags": []
          },
          "execution_count": 43
        }
      ]
    },
    {
      "cell_type": "code",
      "metadata": {
        "colab": {
          "base_uri": "https://localhost:8080/"
        },
        "id": "phz--11nBeLn",
        "outputId": "737a6740-8048-4ec8-85de-07e78efc373b"
      },
      "source": [
        "print(X.shape)\r\n",
        "print(y.shape)\r\n",
        "N, d = X.shape"
      ],
      "execution_count": 44,
      "outputs": [
        {
          "output_type": "stream",
          "text": [
            "(8124, 96)\n",
            "(8124,)\n"
          ],
          "name": "stdout"
        }
      ]
    },
    {
      "cell_type": "code",
      "metadata": {
        "colab": {
          "base_uri": "https://localhost:8080/"
        },
        "id": "ZzixJuSBBgpd",
        "outputId": "89b70890-df36-49cf-839a-743eb2af82f5"
      },
      "source": [
        "type(X)"
      ],
      "execution_count": 45,
      "outputs": [
        {
          "output_type": "execute_result",
          "data": {
            "text/plain": [
              "pandas.core.frame.DataFrame"
            ]
          },
          "metadata": {
            "tags": []
          },
          "execution_count": 45
        }
      ]
    },
    {
      "cell_type": "code",
      "metadata": {
        "colab": {
          "base_uri": "https://localhost:8080/"
        },
        "id": "lIwuMwYIBjNj",
        "outputId": "168f120e-4091-4cb3-92c8-4451f9b2ab7c"
      },
      "source": [
        "type(y)"
      ],
      "execution_count": 46,
      "outputs": [
        {
          "output_type": "execute_result",
          "data": {
            "text/plain": [
              "pandas.core.series.Series"
            ]
          },
          "metadata": {
            "tags": []
          },
          "execution_count": 46
        }
      ]
    },
    {
      "cell_type": "code",
      "metadata": {
        "colab": {
          "base_uri": "https://localhost:8080/"
        },
        "id": "b3dOYNcQBl1Y",
        "outputId": "8a5ded84-739f-49b7-b306-86c91f980dbb"
      },
      "source": [
        "from sklearn.model_selection import train_test_split\r\n",
        "X_train, X_test, y_train, y_test = train_test_split(X, y, test_size = 0.3, random_state = 42)\r\n",
        "\r\n",
        "N_train, _ = X_train.shape \r\n",
        "N_test,  _ = X_test.shape \r\n",
        "\r\n",
        "print(N_train, N_test)"
      ],
      "execution_count": 47,
      "outputs": [
        {
          "output_type": "stream",
          "text": [
            "5686 2438\n"
          ],
          "name": "stdout"
        }
      ]
    },
    {
      "cell_type": "code",
      "metadata": {
        "colab": {
          "base_uri": "https://localhost:8080/"
        },
        "id": "qnI_Jt5aBof9",
        "outputId": "64c3b55a-fd32-47ef-fa5c-9e0564e4f289"
      },
      "source": [
        "5686 + 2438"
      ],
      "execution_count": 48,
      "outputs": [
        {
          "output_type": "execute_result",
          "data": {
            "text/plain": [
              "8124"
            ]
          },
          "metadata": {
            "tags": []
          },
          "execution_count": 48
        }
      ]
    },
    {
      "cell_type": "markdown",
      "metadata": {
        "id": "L6gm-myEBwg9"
      },
      "source": [
        "## k**NN**"
      ]
    },
    {
      "cell_type": "code",
      "metadata": {
        "colab": {
          "base_uri": "https://localhost:8080/"
        },
        "id": "be_JkhfHB3UL",
        "outputId": "0b778390-5a21-4567-b63f-0c819aa5aa52"
      },
      "source": [
        "from sklearn.neighbors import KNeighborsClassifier\r\n",
        "\r\n",
        "knn = KNeighborsClassifier(n_neighbors = 4)\r\n",
        "knn.fit(X_train, y_train)"
      ],
      "execution_count": 49,
      "outputs": [
        {
          "output_type": "execute_result",
          "data": {
            "text/plain": [
              "KNeighborsClassifier(algorithm='auto', leaf_size=30, metric='minkowski',\n",
              "                     metric_params=None, n_jobs=None, n_neighbors=4, p=2,\n",
              "                     weights='uniform')"
            ]
          },
          "metadata": {
            "tags": []
          },
          "execution_count": 49
        }
      ]
    },
    {
      "cell_type": "code",
      "metadata": {
        "colab": {
          "base_uri": "https://localhost:8080/"
        },
        "id": "-1t-ElBcB5yW",
        "outputId": "20a7c036-9e4c-4ca8-8472-9ea5d4585d3c"
      },
      "source": [
        "knn"
      ],
      "execution_count": 50,
      "outputs": [
        {
          "output_type": "execute_result",
          "data": {
            "text/plain": [
              "KNeighborsClassifier(algorithm='auto', leaf_size=30, metric='minkowski',\n",
              "                     metric_params=None, n_jobs=None, n_neighbors=4, p=2,\n",
              "                     weights='uniform')"
            ]
          },
          "metadata": {
            "tags": []
          },
          "execution_count": 50
        }
      ]
    },
    {
      "cell_type": "code",
      "metadata": {
        "id": "-bzCKHovB9ZQ"
      },
      "source": [
        "err_test = 1 - knn.score(X_test, y_test)"
      ],
      "execution_count": 51,
      "outputs": []
    },
    {
      "cell_type": "code",
      "metadata": {
        "colab": {
          "base_uri": "https://localhost:8080/"
        },
        "id": "FAfN6wHMB9Sj",
        "outputId": "1a8e75e4-451c-4364-d389-b40b87f2805f"
      },
      "source": [
        "err_test"
      ],
      "execution_count": 52,
      "outputs": [
        {
          "output_type": "execute_result",
          "data": {
            "text/plain": [
              "0.00041017227235440323"
            ]
          },
          "metadata": {
            "tags": []
          },
          "execution_count": 52
        }
      ]
    },
    {
      "cell_type": "markdown",
      "metadata": {
        "id": "-RKMYisEChBn"
      },
      "source": [
        "## Подбор параметров"
      ]
    },
    {
      "cell_type": "code",
      "metadata": {
        "colab": {
          "base_uri": "https://localhost:8080/"
        },
        "id": "9kSt0ZiQCjg5",
        "outputId": "2d18e883-7cc5-4800-c976-06e824b06db9"
      },
      "source": [
        "from sklearn.model_selection import GridSearchCV\r\n",
        "nnb = [1, 3, 5, 10, 15, 20, 25, 35, 45, 55]\r\n",
        "knn = KNeighborsClassifier()\r\n",
        "grid = GridSearchCV(knn, param_grid = {'n_neighbors': nnb}, cv=10)\r\n",
        "grid.fit(X_train, y_train)\r\n",
        "\r\n",
        "best_cv_err = 1 - grid.best_score_\r\n",
        "best_n_neighbors = grid.best_estimator_.n_neighbors\r\n",
        "print(best_cv_err, best_n_neighbors)"
      ],
      "execution_count": 53,
      "outputs": [
        {
          "output_type": "stream",
          "text": [
            "0.0 5\n"
          ],
          "name": "stdout"
        }
      ]
    },
    {
      "cell_type": "markdown",
      "metadata": {
        "id": "lDSdAjVDDXYw"
      },
      "source": [
        "# Нейронные сети"
      ]
    },
    {
      "cell_type": "markdown",
      "metadata": {
        "id": "lsUWOZFqV8fK"
      },
      "source": [
        "Решаем задачу классификации (определение съедобности гриба) при помощи нейронных сетей."
      ]
    },
    {
      "cell_type": "markdown",
      "metadata": {
        "id": "6HfeOp9wV8fL"
      },
      "source": [
        "Для этого разбиваем данные на обучающую и тестовую выборки"
      ]
    },
    {
      "cell_type": "code",
      "metadata": {
        "id": "B4wWq8rbDq9c"
      },
      "source": [
        "from sklearn.model_selection import train_test_split\r\n",
        "X_train, X_test, y_train, y_test = train_test_split(X, y, test_size = 0.33, random_state = 7)\r\n",
        "N_test, _ = X_test.shape"
      ],
      "execution_count": 54,
      "outputs": []
    },
    {
      "cell_type": "markdown",
      "metadata": {
        "id": "mgba0XB9DvB1"
      },
      "source": [
        "Обучаем классификатор"
      ]
    },
    {
      "cell_type": "code",
      "metadata": {
        "colab": {
          "base_uri": "https://localhost:8080/"
        },
        "id": "xSNucQCgDvvK",
        "outputId": "25a31702-eba6-4769-ffa1-2aadaff67a6d"
      },
      "source": [
        "from sklearn.neural_network import MLPClassifier\r\n",
        "mlp_model = MLPClassifier(hidden_layer_sizes = (3), solver = 'lbfgs', activation = 'logistic', random_state = 5)\r\n",
        "mlp_model.fit(X_train, y_train)"
      ],
      "execution_count": 55,
      "outputs": [
        {
          "output_type": "execute_result",
          "data": {
            "text/plain": [
              "MLPClassifier(activation='logistic', alpha=0.0001, batch_size='auto',\n",
              "              beta_1=0.9, beta_2=0.999, early_stopping=False, epsilon=1e-08,\n",
              "              hidden_layer_sizes=3, learning_rate='constant',\n",
              "              learning_rate_init=0.001, max_fun=15000, max_iter=200,\n",
              "              momentum=0.9, n_iter_no_change=10, nesterovs_momentum=True,\n",
              "              power_t=0.5, random_state=5, shuffle=True, solver='lbfgs',\n",
              "              tol=0.0001, validation_fraction=0.1, verbose=False,\n",
              "              warm_start=False)"
            ]
          },
          "metadata": {
            "tags": []
          },
          "execution_count": 55
        }
      ]
    },
    {
      "cell_type": "markdown",
      "metadata": {
        "id": "jXzkschpD1GG"
      },
      "source": [
        "Проверяем качество классификатора"
      ]
    },
    {
      "cell_type": "code",
      "metadata": {
        "colab": {
          "base_uri": "https://localhost:8080/"
        },
        "id": "2VicT3YfD3Qw",
        "outputId": "54ebf35e-a07d-4aaa-b516-78f3d722caeb"
      },
      "source": [
        "y_train_pred = mlp_model.predict(X_train)\r\n",
        "y_test_pred = mlp_model.predict(X_test)\r\n",
        "print(\"Ошибка на обучающей выборке: \", np.mean(y_train != y_train_pred))\r\n",
        "print(\"Ошибка на тестовой выборке: \", np.mean(y_test != y_test_pred))"
      ],
      "execution_count": 56,
      "outputs": [
        {
          "output_type": "stream",
          "text": [
            "Ошибка на обучающей выборке:  0.010655888296895094\n",
            "Ошибка на тестовой выборке:  0.008205893323386795\n"
          ],
          "name": "stdout"
        }
      ]
    },
    {
      "cell_type": "markdown",
      "metadata": {
        "id": "sEnt7fauD6vH"
      },
      "source": [
        "Увеличим число скрытых слоев нейронной сети до 2-х"
      ]
    },
    {
      "cell_type": "code",
      "metadata": {
        "colab": {
          "base_uri": "https://localhost:8080/"
        },
        "id": "syoeMeH0D7Sc",
        "outputId": "b846d852-fd3e-46a8-96bc-d4cbad319e99"
      },
      "source": [
        "from sklearn.neural_network import MLPClassifier\r\n",
        "mlp_model = MLPClassifier(hidden_layer_sizes = (3, 4), solver = 'lbfgs', activation = 'logistic', random_state = 5)\r\n",
        "mlp_model.fit(X_train, y_train)"
      ],
      "execution_count": 57,
      "outputs": [
        {
          "output_type": "execute_result",
          "data": {
            "text/plain": [
              "MLPClassifier(activation='logistic', alpha=0.0001, batch_size='auto',\n",
              "              beta_1=0.9, beta_2=0.999, early_stopping=False, epsilon=1e-08,\n",
              "              hidden_layer_sizes=(3, 4), learning_rate='constant',\n",
              "              learning_rate_init=0.001, max_fun=15000, max_iter=200,\n",
              "              momentum=0.9, n_iter_no_change=10, nesterovs_momentum=True,\n",
              "              power_t=0.5, random_state=5, shuffle=True, solver='lbfgs',\n",
              "              tol=0.0001, validation_fraction=0.1, verbose=False,\n",
              "              warm_start=False)"
            ]
          },
          "metadata": {
            "tags": []
          },
          "execution_count": 57
        }
      ]
    },
    {
      "cell_type": "code",
      "metadata": {
        "id": "4OYTxbxbEDN1",
        "colab": {
          "base_uri": "https://localhost:8080/"
        },
        "outputId": "19016384-9ad0-446c-f035-9fbb16420a71"
      },
      "source": [
        "y_train_pred = mlp_model.predict(X_train)\r\n",
        "y_test_pred = mlp_model.predict(X_test)\r\n",
        "print(\"Ошибка на обучающей выборке: \", np.mean(y_train != y_train_pred))\r\n",
        "print(\"Ошибка на тестовой выборке: \", np.mean(y_test != y_test_pred))"
      ],
      "execution_count": 58,
      "outputs": [
        {
          "output_type": "stream",
          "text": [
            "Ошибка на обучающей выборке:  0.011574499356972258\n",
            "Ошибка на тестовой выборке:  0.009324878776575904\n"
          ],
          "name": "stdout"
        }
      ]
    },
    {
      "cell_type": "markdown",
      "metadata": {
        "id": "ImrRxyvHb4tA"
      },
      "source": [
        "Увеличим число скрытых слоев нейронной сети до 2-х"
      ]
    },
    {
      "cell_type": "code",
      "metadata": {
        "colab": {
          "base_uri": "https://localhost:8080/"
        },
        "id": "DezqMc07b55H",
        "outputId": "167e5704-66d2-4b64-dd4e-ac3b0a8d3006"
      },
      "source": [
        "from sklearn.neural_network import MLPClassifier\r\n",
        "mlp_model = MLPClassifier(hidden_layer_sizes = (3, 4), solver = 'lbfgs', activation = 'logistic', random_state = 5)\r\n",
        "mlp_model.fit(X_train, y_train)"
      ],
      "execution_count": 59,
      "outputs": [
        {
          "output_type": "execute_result",
          "data": {
            "text/plain": [
              "MLPClassifier(activation='logistic', alpha=0.0001, batch_size='auto',\n",
              "              beta_1=0.9, beta_2=0.999, early_stopping=False, epsilon=1e-08,\n",
              "              hidden_layer_sizes=(3, 4), learning_rate='constant',\n",
              "              learning_rate_init=0.001, max_fun=15000, max_iter=200,\n",
              "              momentum=0.9, n_iter_no_change=10, nesterovs_momentum=True,\n",
              "              power_t=0.5, random_state=5, shuffle=True, solver='lbfgs',\n",
              "              tol=0.0001, validation_fraction=0.1, verbose=False,\n",
              "              warm_start=False)"
            ]
          },
          "metadata": {
            "tags": []
          },
          "execution_count": 59
        }
      ]
    },
    {
      "cell_type": "code",
      "metadata": {
        "colab": {
          "base_uri": "https://localhost:8080/"
        },
        "id": "vs4iENL6b_D-",
        "outputId": "d4e97403-08ae-4250-9bf6-69df61a8fd95"
      },
      "source": [
        "y_train_pred = mlp_model.predict(X_train)\r\n",
        "y_test_pred = mlp_model.predict(X_test)\r\n",
        "print(\"Ошибка на обучающей выборке: \", np.mean(y_train != y_train_pred))\r\n",
        "print(\"Ошибка на тестовой выборке: \", np.mean(y_test != y_test_pred))"
      ],
      "execution_count": 60,
      "outputs": [
        {
          "output_type": "stream",
          "text": [
            "Ошибка на обучающей выборке:  0.011574499356972258\n",
            "Ошибка на тестовой выборке:  0.009324878776575904\n"
          ],
          "name": "stdout"
        }
      ]
    },
    {
      "cell_type": "markdown",
      "metadata": {
        "id": "sDiJwd4rcGAZ"
      },
      "source": [
        "## Подбор гиперпараметров\r\n",
        "\r\n"
      ]
    },
    {
      "cell_type": "markdown",
      "metadata": {
        "id": "Qew9S3OpcSJ0"
      },
      "source": [
        "Подберем оптимальное значение параметра регуляризации alpha"
      ]
    },
    {
      "cell_type": "code",
      "metadata": {
        "id": "saTI7CLlcOEW"
      },
      "source": [
        "alpha_arr = np.logspace(-1, 0.5, 20)\r\n",
        "test_err = []\r\n",
        "train_err = []\r\n",
        "for alpha in alpha_arr:\r\n",
        "    mlp_model = MLPClassifier(alpha = alpha, hidden_layer_sizes = (3), \r\n",
        "                              solver = 'lbfgs', activation = 'logistic', random_state = 2)\r\n",
        "    mlp_model.fit(X_train, y_train)\r\n",
        "\r\n",
        "    y_train_pred = mlp_model.predict(X_train)\r\n",
        "    y_test_pred = mlp_model.predict(X_test)\r\n",
        "    train_err.append(np.mean(y_train != y_train_pred))\r\n",
        "    test_err.append(np.mean(y_test != y_test_pred))"
      ],
      "execution_count": 61,
      "outputs": []
    },
    {
      "cell_type": "code",
      "metadata": {
        "colab": {
          "base_uri": "https://localhost:8080/",
          "height": 299
        },
        "id": "uWsqPs41cWq6",
        "outputId": "dfd461b3-f486-4aca-e232-fb3e599f7fa7"
      },
      "source": [
        "plt.semilogx(alpha_arr, train_err, 'b-o', label = 'test')\r\n",
        "plt.semilogx(alpha_arr, test_err, 'r-o', label = 'train')\r\n",
        "plt.xlim([np.max(alpha_arr), np.min(alpha_arr)])\r\n",
        "plt.title('Error vs. alpha')\r\n",
        "plt.xlabel('alpha')\r\n",
        "plt.ylabel('error')\r\n",
        "plt.legend()\r\n",
        "pass"
      ],
      "execution_count": 62,
      "outputs": [
        {
          "output_type": "display_data",
          "data": {
            "image/png": "[encoded data removed]",
            "text/plain": [
              "<Figure size 432x288 with 1 Axes>"
            ]
          },
          "metadata": {
            "tags": [],
            "needs_background": "light"
          }
        }
      ]
    },
    {
      "cell_type": "code",
      "metadata": {
        "colab": {
          "base_uri": "https://localhost:8080/"
        },
        "id": "XNTYaX0lcaZ1",
        "outputId": "e5b7986a-6b34-4dc2-a4a1-ae4d6b0ab4d0"
      },
      "source": [
        "print(alpha_arr)"
      ],
      "execution_count": 63,
      "outputs": [
        {
          "output_type": "stream",
          "text": [
            "[0.1        0.11993539 0.14384499 0.17252105 0.20691381 0.24816289\n",
            " 0.29763514 0.35696988 0.42813324 0.51348329 0.61584821 0.73861998\n",
            " 0.88586679 1.06246783 1.27427499 1.52830673 1.83298071 2.19839265\n",
            " 2.6366509  3.16227766]\n"
          ],
          "name": "stdout"
        }
      ]
    },
    {
      "cell_type": "markdown",
      "metadata": {
        "id": "B6UtopZHcjcB"
      },
      "source": [
        "Минимальное значение ошибки"
      ]
    },
    {
      "cell_type": "code",
      "metadata": {
        "colab": {
          "base_uri": "https://localhost:8080/"
        },
        "id": "vbacWxpfcliN",
        "outputId": "76c844b6-a743-463f-b2aa-0592241a56df"
      },
      "source": [
        "min_train_err = np.min(train_err)\r\n",
        "min_test_err = np.min(test_err)\r\n",
        "print(min_train_err, min_test_err)"
      ],
      "execution_count": 64,
      "outputs": [
        {
          "output_type": "stream",
          "text": [
            "0.0 0.0\n"
          ],
          "name": "stdout"
        }
      ]
    },
    {
      "cell_type": "markdown",
      "metadata": {
        "id": "Ma5wz6Lfcob6"
      },
      "source": [
        "Оптимальное значение alpha"
      ]
    },
    {
      "cell_type": "code",
      "metadata": {
        "colab": {
          "base_uri": "https://localhost:8080/"
        },
        "id": "qXYizYMccqCF",
        "outputId": "da15fa7d-cbe3-469a-958f-27527280a873"
      },
      "source": [
        "alpha_opt = alpha_arr[test_err == min_test_err]\r\n",
        "alpha_opt = alpha_opt[0]\r\n",
        "print(alpha_opt)"
      ],
      "execution_count": 65,
      "outputs": [
        {
          "output_type": "stream",
          "text": [
            "0.1\n"
          ],
          "name": "stdout"
        }
      ]
    },
    {
      "cell_type": "markdown",
      "metadata": {
        "id": "DYPXkEBycsmW"
      },
      "source": [
        "## Классификатор при найденном оптимальном значении alpha:"
      ]
    },
    {
      "cell_type": "markdown",
      "metadata": {
        "id": "nrjZky--cwTk"
      },
      "source": [
        "Повторим обучение"
      ]
    },
    {
      "cell_type": "code",
      "metadata": {
        "colab": {
          "base_uri": "https://localhost:8080/"
        },
        "id": "tkQzxtS7cyP4",
        "outputId": "a5652f18-1283-4a46-82e4-45ea69dbd5bf"
      },
      "source": [
        "mlp_model = MLPClassifier(alpha = alpha_opt, hidden_layer_sizes = (3),\r\n",
        "                          solver = 'lbfgs', activation = 'logistic', random_state = 5)\r\n",
        "mlp_model.fit(X_train, y_train)\r\n",
        "\r\n",
        "y_train_pred = mlp_model.predict(X_train)\r\n",
        "y_test_pred = mlp_model.predict(X_test)\r\n",
        "print(np.mean(y_train != y_train_pred))\r\n",
        "print(np.mean(y_test != y_test_pred))"
      ],
      "execution_count": 66,
      "outputs": [
        {
          "output_type": "stream",
          "text": [
            "0.0\n",
            "0.0\n"
          ],
          "name": "stdout"
        }
      ]
    },
    {
      "cell_type": "markdown",
      "metadata": {
        "id": "_b3TOK4hc0w4"
      },
      "source": [
        "Матрица рассогласования"
      ]
    },
    {
      "cell_type": "code",
      "metadata": {
        "colab": {
          "base_uri": "https://localhost:8080/"
        },
        "id": "BEWys6mUc2dv",
        "outputId": "90404abf-8d6f-457a-8583-400ce6324cf0"
      },
      "source": [
        "from sklearn.metrics import confusion_matrix\r\n",
        "print(confusion_matrix(y_test_pred, y_test))"
      ],
      "execution_count": 67,
      "outputs": [
        {
          "output_type": "stream",
          "text": [
            "[[1386    0]\n",
            " [   0 1295]]\n"
          ],
          "name": "stdout"
        }
      ]
    },
    {
      "cell_type": "code",
      "metadata": {
        "colab": {
          "base_uri": "https://localhost:8080/",
          "height": 279
        },
        "id": "rHGq6xBLc4wL",
        "outputId": "3d15f1a0-34a3-4ca7-a775-481fef9a3abe"
      },
      "source": [
        "M = confusion_matrix(y_test_pred, y_test)\r\n",
        "M = np.sqrt(M)\r\n",
        "plt.imshow(M, interpolation = 'nearest')\r\n",
        "plt.set_cmap('binary')\r\n",
        "plt.xticks(range(10))\r\n",
        "plt.yticks(range(10))\r\n",
        "plt.xlabel(\"true label\")\r\n",
        "plt.ylabel(\"predicted label\")\r\n",
        "plt.colorbar()\r\n",
        "pass"
      ],
      "execution_count": 68,
      "outputs": [
        {
          "output_type": "display_data",
          "data": {
            "image/png": "[encoded data removed]",
            "text/plain": [
              "<Figure size 432x288 with 2 Axes>"
            ]
          },
          "metadata": {
            "tags": [],
            "needs_background": "light"
          }
        }
      ]
    },
    {
      "cell_type": "markdown",
      "metadata": {
        "id": "Cr3VBD3yc8D1"
      },
      "source": [
        "Найдём оптимальное число нейронов"
      ]
    },
    {
      "cell_type": "code",
      "metadata": {
        "id": "qhXyX9tic-R9"
      },
      "source": [
        "neurons_arr = np.arange(2, 10, 1)\r\n",
        "test_err = []\r\n",
        "train_err = []\r\n",
        "for neurons in neurons_arr:\r\n",
        "    mlp_model = MLPClassifier(hidden_layer_sizes = (neurons, neurons), \r\n",
        "                              solver = 'lbfgs', activation = 'logistic', random_state = 5)\r\n",
        "    mlp_model.fit(X_train, y_train)\r\n",
        "\r\n",
        "    y_train_pred = mlp_model.predict(X_train)\r\n",
        "    y_test_pred = mlp_model.predict(X_test)\r\n",
        "    train_err.append(np.mean(y_train != y_train_pred))\r\n",
        "    test_err.append(np.mean(y_test != y_test_pred))"
      ],
      "execution_count": 70,
      "outputs": []
    },
    {
      "cell_type": "code",
      "metadata": {
        "colab": {
          "base_uri": "https://localhost:8080/",
          "height": 295
        },
        "id": "PdWpf-nkdCFg",
        "outputId": "a7e3579c-2976-4a5c-f75a-9ff605b25a9b"
      },
      "source": [
        "plt.plot(neurons_arr, train_err, 'b-o', label = 'test')\r\n",
        "plt.plot(neurons_arr, test_err, 'r-o', label = 'train')\r\n",
        "plt.xlim([np.max(neurons_arr), np.min(neurons_arr)])\r\n",
        "plt.title('Error vs. neurons count')\r\n",
        "plt.xlabel('neurons count')\r\n",
        "plt.ylabel('error')\r\n",
        "plt.legend()\r\n",
        "pass"
      ],
      "execution_count": 71,
      "outputs": [
        {
          "output_type": "display_data",
          "data": {
            "image/png": "[encoded data removed]",
            "text/plain": [
              "<Figure size 432x288 with 1 Axes>"
            ]
          },
          "metadata": {
            "tags": [],
            "needs_background": "light"
          }
        }
      ]
    },
    {
      "cell_type": "code",
      "metadata": {
        "colab": {
          "base_uri": "https://localhost:8080/"
        },
        "id": "WlEUm7SOdF7_",
        "outputId": "693f4a22-ae82-4b30-c857-48803b8f6a63"
      },
      "source": [
        "neurons_opt = neurons_arr[test_err == min_test_err]\r\n",
        "print(neurons_opt)"
      ],
      "execution_count": 72,
      "outputs": [
        {
          "output_type": "stream",
          "text": [
            "[8]\n"
          ],
          "name": "stdout"
        }
      ]
    },
    {
      "cell_type": "markdown",
      "metadata": {
        "id": "1km37XYrdJOb"
      },
      "source": [
        "## Random forests"
      ]
    },
    {
      "cell_type": "markdown",
      "metadata": {
        "id": "fZVlVrpNdWmI"
      },
      "source": [
        "Разобьем данные на обучающую и тестовую выборки, 33% пойдет в тестовую."
      ]
    },
    {
      "cell_type": "code",
      "metadata": {
        "id": "8MVxBCyQdYnS"
      },
      "source": [
        "X_train, X_test, y_train, y_test = train_test_split(X, y, test_size = 0.33, random_state = 5)"
      ],
      "execution_count": 73,
      "outputs": []
    },
    {
      "cell_type": "markdown",
      "metadata": {
        "id": "wAOiq_hsda7p"
      },
      "source": [
        "Обучаем классификатор Random Forests. Число деревьев = 2."
      ]
    },
    {
      "cell_type": "code",
      "metadata": {
        "colab": {
          "base_uri": "https://localhost:8080/"
        },
        "id": "0QchqvRddc_1",
        "outputId": "10e0d8bf-25e8-4dce-ae4f-63db907f1a88"
      },
      "source": [
        "from sklearn import ensemble\r\n",
        "rf = ensemble.RandomForestClassifier(n_estimators = 2)\r\n",
        "rf.fit(X_train, y_train)"
      ],
      "execution_count": 74,
      "outputs": [
        {
          "output_type": "execute_result",
          "data": {
            "text/plain": [
              "RandomForestClassifier(bootstrap=True, ccp_alpha=0.0, class_weight=None,\n",
              "                       criterion='gini', max_depth=None, max_features='auto',\n",
              "                       max_leaf_nodes=None, max_samples=None,\n",
              "                       min_impurity_decrease=0.0, min_impurity_split=None,\n",
              "                       min_samples_leaf=1, min_samples_split=2,\n",
              "                       min_weight_fraction_leaf=0.0, n_estimators=2,\n",
              "                       n_jobs=None, oob_score=False, random_state=None,\n",
              "                       verbose=0, warm_start=False)"
            ]
          },
          "metadata": {
            "tags": []
          },
          "execution_count": 74
        }
      ]
    },
    {
      "cell_type": "markdown",
      "metadata": {
        "id": "XNOdGPxydfhm"
      },
      "source": [
        "Проверим качество классификатора по величине ошибки на тестовой и обучающей выборках."
      ]
    },
    {
      "cell_type": "code",
      "metadata": {
        "colab": {
          "base_uri": "https://localhost:8080/"
        },
        "id": "3SI_T2EqdhTM",
        "outputId": "2efe17d3-11ea-4f13-832f-30193330d1af"
      },
      "source": [
        "err_train = np.mean(y_train != rf.predict(X_train))\r\n",
        "err_test  = np.mean(y_test  != rf.predict(X_test))\r\n",
        "\r\n",
        "print(\"Ошибка на обучающей выборке: \", err_train)\r\n",
        "print(\"Ошибка на тестовой выборке: \", err_test)"
      ],
      "execution_count": 75,
      "outputs": [
        {
          "output_type": "stream",
          "text": [
            "Ошибка на обучающей выборке:  0.00036744442403086535\n",
            "Ошибка на тестовой выборке:  0.0014919806042521448\n"
          ],
          "name": "stdout"
        }
      ]
    },
    {
      "cell_type": "markdown",
      "metadata": {
        "id": "0GqSrW0ndkU7"
      },
      "source": [
        "Получила переобучение. Построим график зависимости ошибки на тестовой и обучающей выборках, а также oob-ошибки от количества деревьев."
      ]
    },
    {
      "cell_type": "code",
      "metadata": {
        "colab": {
          "base_uri": "https://localhost:8080/"
        },
        "id": "fh36Yfo8dmgd",
        "outputId": "4cbe86b6-2a20-4999-e214-0ef3e2758cc6"
      },
      "source": [
        "tree_arr = np.arange(5, 20, 1)\r\n",
        "test_err = []\r\n",
        "train_err = []\r\n",
        "oob_err = []\r\n",
        "\r\n",
        "for tree in tree_arr:\r\n",
        "    rf = ensemble.RandomForestClassifier(n_estimators = tree, oob_score = True)\r\n",
        "    rf.fit(X_train, y_train)\r\n",
        "    y_train_pred = rf.predict(X_train)\r\n",
        "    y_test_pred = rf.predict(X_test)\r\n",
        "    train_err.append(np.mean(y_train != y_train_pred))\r\n",
        "    test_err.append(np.mean(y_test != y_test_pred))\r\n",
        "    oob_err.append(1 - rf.oob_score_)"
      ],
      "execution_count": 76,
      "outputs": [
        {
          "output_type": "stream",
          "text": [
            "/usr/local/lib/python3.6/dist-packages/sklearn/ensemble/_forest.py:523: UserWarning: Some inputs do not have OOB scores. This probably means too few trees were used to compute any reliable oob estimates.\n",
            "  warn(\"Some inputs do not have OOB scores. \"\n",
            "/usr/local/lib/python3.6/dist-packages/sklearn/ensemble/_forest.py:528: RuntimeWarning: invalid value encountered in true_divide\n",
            "  predictions[k].sum(axis=1)[:, np.newaxis])\n",
            "/usr/local/lib/python3.6/dist-packages/sklearn/ensemble/_forest.py:523: UserWarning: Some inputs do not have OOB scores. This probably means too few trees were used to compute any reliable oob estimates.\n",
            "  warn(\"Some inputs do not have OOB scores. \"\n",
            "/usr/local/lib/python3.6/dist-packages/sklearn/ensemble/_forest.py:528: RuntimeWarning: invalid value encountered in true_divide\n",
            "  predictions[k].sum(axis=1)[:, np.newaxis])\n",
            "/usr/local/lib/python3.6/dist-packages/sklearn/ensemble/_forest.py:523: UserWarning: Some inputs do not have OOB scores. This probably means too few trees were used to compute any reliable oob estimates.\n",
            "  warn(\"Some inputs do not have OOB scores. \"\n",
            "/usr/local/lib/python3.6/dist-packages/sklearn/ensemble/_forest.py:528: RuntimeWarning: invalid value encountered in true_divide\n",
            "  predictions[k].sum(axis=1)[:, np.newaxis])\n",
            "/usr/local/lib/python3.6/dist-packages/sklearn/ensemble/_forest.py:523: UserWarning: Some inputs do not have OOB scores. This probably means too few trees were used to compute any reliable oob estimates.\n",
            "  warn(\"Some inputs do not have OOB scores. \"\n",
            "/usr/local/lib/python3.6/dist-packages/sklearn/ensemble/_forest.py:528: RuntimeWarning: invalid value encountered in true_divide\n",
            "  predictions[k].sum(axis=1)[:, np.newaxis])\n",
            "/usr/local/lib/python3.6/dist-packages/sklearn/ensemble/_forest.py:523: UserWarning: Some inputs do not have OOB scores. This probably means too few trees were used to compute any reliable oob estimates.\n",
            "  warn(\"Some inputs do not have OOB scores. \"\n",
            "/usr/local/lib/python3.6/dist-packages/sklearn/ensemble/_forest.py:528: RuntimeWarning: invalid value encountered in true_divide\n",
            "  predictions[k].sum(axis=1)[:, np.newaxis])\n",
            "/usr/local/lib/python3.6/dist-packages/sklearn/ensemble/_forest.py:523: UserWarning: Some inputs do not have OOB scores. This probably means too few trees were used to compute any reliable oob estimates.\n",
            "  warn(\"Some inputs do not have OOB scores. \"\n",
            "/usr/local/lib/python3.6/dist-packages/sklearn/ensemble/_forest.py:528: RuntimeWarning: invalid value encountered in true_divide\n",
            "  predictions[k].sum(axis=1)[:, np.newaxis])\n",
            "/usr/local/lib/python3.6/dist-packages/sklearn/ensemble/_forest.py:523: UserWarning: Some inputs do not have OOB scores. This probably means too few trees were used to compute any reliable oob estimates.\n",
            "  warn(\"Some inputs do not have OOB scores. \"\n",
            "/usr/local/lib/python3.6/dist-packages/sklearn/ensemble/_forest.py:528: RuntimeWarning: invalid value encountered in true_divide\n",
            "  predictions[k].sum(axis=1)[:, np.newaxis])\n",
            "/usr/local/lib/python3.6/dist-packages/sklearn/ensemble/_forest.py:523: UserWarning: Some inputs do not have OOB scores. This probably means too few trees were used to compute any reliable oob estimates.\n",
            "  warn(\"Some inputs do not have OOB scores. \"\n",
            "/usr/local/lib/python3.6/dist-packages/sklearn/ensemble/_forest.py:528: RuntimeWarning: invalid value encountered in true_divide\n",
            "  predictions[k].sum(axis=1)[:, np.newaxis])\n",
            "/usr/local/lib/python3.6/dist-packages/sklearn/ensemble/_forest.py:523: UserWarning: Some inputs do not have OOB scores. This probably means too few trees were used to compute any reliable oob estimates.\n",
            "  warn(\"Some inputs do not have OOB scores. \"\n",
            "/usr/local/lib/python3.6/dist-packages/sklearn/ensemble/_forest.py:528: RuntimeWarning: invalid value encountered in true_divide\n",
            "  predictions[k].sum(axis=1)[:, np.newaxis])\n",
            "/usr/local/lib/python3.6/dist-packages/sklearn/ensemble/_forest.py:523: UserWarning: Some inputs do not have OOB scores. This probably means too few trees were used to compute any reliable oob estimates.\n",
            "  warn(\"Some inputs do not have OOB scores. \"\n",
            "/usr/local/lib/python3.6/dist-packages/sklearn/ensemble/_forest.py:528: RuntimeWarning: invalid value encountered in true_divide\n",
            "  predictions[k].sum(axis=1)[:, np.newaxis])\n",
            "/usr/local/lib/python3.6/dist-packages/sklearn/ensemble/_forest.py:523: UserWarning: Some inputs do not have OOB scores. This probably means too few trees were used to compute any reliable oob estimates.\n",
            "  warn(\"Some inputs do not have OOB scores. \"\n",
            "/usr/local/lib/python3.6/dist-packages/sklearn/ensemble/_forest.py:528: RuntimeWarning: invalid value encountered in true_divide\n",
            "  predictions[k].sum(axis=1)[:, np.newaxis])\n",
            "/usr/local/lib/python3.6/dist-packages/sklearn/ensemble/_forest.py:523: UserWarning: Some inputs do not have OOB scores. This probably means too few trees were used to compute any reliable oob estimates.\n",
            "  warn(\"Some inputs do not have OOB scores. \"\n",
            "/usr/local/lib/python3.6/dist-packages/sklearn/ensemble/_forest.py:528: RuntimeWarning: invalid value encountered in true_divide\n",
            "  predictions[k].sum(axis=1)[:, np.newaxis])\n",
            "/usr/local/lib/python3.6/dist-packages/sklearn/ensemble/_forest.py:523: UserWarning: Some inputs do not have OOB scores. This probably means too few trees were used to compute any reliable oob estimates.\n",
            "  warn(\"Some inputs do not have OOB scores. \"\n",
            "/usr/local/lib/python3.6/dist-packages/sklearn/ensemble/_forest.py:528: RuntimeWarning: invalid value encountered in true_divide\n",
            "  predictions[k].sum(axis=1)[:, np.newaxis])\n",
            "/usr/local/lib/python3.6/dist-packages/sklearn/ensemble/_forest.py:523: UserWarning: Some inputs do not have OOB scores. This probably means too few trees were used to compute any reliable oob estimates.\n",
            "  warn(\"Some inputs do not have OOB scores. \"\n",
            "/usr/local/lib/python3.6/dist-packages/sklearn/ensemble/_forest.py:528: RuntimeWarning: invalid value encountered in true_divide\n",
            "  predictions[k].sum(axis=1)[:, np.newaxis])\n",
            "/usr/local/lib/python3.6/dist-packages/sklearn/ensemble/_forest.py:523: UserWarning: Some inputs do not have OOB scores. This probably means too few trees were used to compute any reliable oob estimates.\n",
            "  warn(\"Some inputs do not have OOB scores. \"\n",
            "/usr/local/lib/python3.6/dist-packages/sklearn/ensemble/_forest.py:528: RuntimeWarning: invalid value encountered in true_divide\n",
            "  predictions[k].sum(axis=1)[:, np.newaxis])\n"
          ],
          "name": "stderr"
        }
      ]
    },
    {
      "cell_type": "code",
      "metadata": {
        "colab": {
          "base_uri": "https://localhost:8080/",
          "height": 295
        },
        "id": "g2LabDw6dqck",
        "outputId": "4fce41ab-f6d2-44d7-d382-56a07612dbcc"
      },
      "source": [
        "plt.plot(tree_arr, train_err, 'b-o', label = 'train')\r\n",
        "plt.plot(tree_arr, test_err, 'r-o', label = 'test')\r\n",
        "plt.plot(tree_arr, oob_err, 'g-o', label = 'oob')\r\n",
        "plt.xlim([np.min(tree_arr), np.max(tree_arr)])\r\n",
        "plt.title('Error vs. Count of tree')\r\n",
        "plt.xlabel('Count of tree')\r\n",
        "plt.ylabel('Error')\r\n",
        "plt.legend()\r\n",
        "pass"
      ],
      "execution_count": 77,
      "outputs": [
        {
          "output_type": "display_data",
          "data": {
            "image/png": "[encoded data removed]",
            "text/plain": [
              "<Figure size 432x288 with 1 Axes>"
            ]
          },
          "metadata": {
            "tags": [],
            "needs_background": "light"
          }
        }
      ]
    },
    {
      "cell_type": "markdown",
      "metadata": {
        "id": "eoMCsB0ldt7z"
      },
      "source": [
        "Получила переобучение при 13 деревьях. Минимум oob-ошибки при 18."
      ]
    },
    {
      "cell_type": "markdown",
      "metadata": {
        "id": "-_yLKC_Gdv1O"
      },
      "source": [
        "Минимальные значения ошибок на обучающей и тестовой выборке:"
      ]
    },
    {
      "cell_type": "code",
      "metadata": {
        "colab": {
          "base_uri": "https://localhost:8080/"
        },
        "id": "-2zZH4vhdxex",
        "outputId": "5afb7e0f-78d8-479a-ae7c-064607b03bd6"
      },
      "source": [
        "min_train_err = np.min(train_err)\r\n",
        "min_test_err = np.min(test_err)\r\n",
        "\r\n",
        "print(\"Минимальная ошибка на обучающей выборке: \", min_train_err)\r\n",
        "print(\"Минимальная ошибка на тестовой выборке: \", min_test_err)"
      ],
      "execution_count": 78,
      "outputs": [
        {
          "output_type": "stream",
          "text": [
            "Минимальная ошибка на обучающей выборке:  0.0\n",
            "Минимальная ошибка на тестовой выборке:  0.0\n"
          ],
          "name": "stdout"
        }
      ]
    },
    {
      "cell_type": "markdown",
      "metadata": {
        "id": "sIDnIauVdzeS"
      },
      "source": [
        "Оптимальное количество деревьев:"
      ]
    },
    {
      "cell_type": "code",
      "metadata": {
        "colab": {
          "base_uri": "https://localhost:8080/"
        },
        "id": "ALBx2jEld1lG",
        "outputId": "d6daaec2-f8cc-4030-8296-636428627304"
      },
      "source": [
        "tree_opt = tree_arr[test_err == min_test_err]\r\n",
        "print(tree_opt)"
      ],
      "execution_count": 79,
      "outputs": [
        {
          "output_type": "stream",
          "text": [
            "[ 5  9 10 11 12 13 14 15 16 17 18 19]\n"
          ],
          "name": "stdout"
        }
      ]
    },
    {
      "cell_type": "markdown",
      "metadata": {
        "id": "CMM1LuqWd3-R"
      },
      "source": [
        "## Extremely Randomized Trees"
      ]
    },
    {
      "cell_type": "markdown",
      "metadata": {
        "id": "iLsHLkild6f2"
      },
      "source": [
        "Обучаем классификатор Extremely Randomized Trees. Число деревьев = 2."
      ]
    },
    {
      "cell_type": "code",
      "metadata": {
        "colab": {
          "base_uri": "https://localhost:8080/"
        },
        "id": "KLrAKEJAd8Km",
        "outputId": "977df8c7-a3cb-41ed-ac38-f6af94334967"
      },
      "source": [
        "ert = ensemble.ExtraTreesClassifier(n_estimators = 2)\r\n",
        "ert.fit(X_train, y_train)"
      ],
      "execution_count": 80,
      "outputs": [
        {
          "output_type": "execute_result",
          "data": {
            "text/plain": [
              "ExtraTreesClassifier(bootstrap=False, ccp_alpha=0.0, class_weight=None,\n",
              "                     criterion='gini', max_depth=None, max_features='auto',\n",
              "                     max_leaf_nodes=None, max_samples=None,\n",
              "                     min_impurity_decrease=0.0, min_impurity_split=None,\n",
              "                     min_samples_leaf=1, min_samples_split=2,\n",
              "                     min_weight_fraction_leaf=0.0, n_estimators=2, n_jobs=None,\n",
              "                     oob_score=False, random_state=None, verbose=0,\n",
              "                     warm_start=False)"
            ]
          },
          "metadata": {
            "tags": []
          },
          "execution_count": 80
        }
      ]
    },
    {
      "cell_type": "code",
      "metadata": {
        "colab": {
          "base_uri": "https://localhost:8080/"
        },
        "id": "HlETAh5kd_Hz",
        "outputId": "e1b965e1-d1a4-481a-cb9d-a3aadd20cc0f"
      },
      "source": [
        "err_train = np.mean(y_train != ert.predict(X_train))\r\n",
        "err_test  = np.mean(y_test  != ert.predict(X_test))\r\n",
        "\r\n",
        "print(\"Ошибка на обучающей выборке: \", err_train)\r\n",
        "print(\"Ошибка на тестовой выборке: \", err_test)"
      ],
      "execution_count": 81,
      "outputs": [
        {
          "output_type": "stream",
          "text": [
            "Ошибка на обучающей выборке:  0.0\n",
            "Ошибка на тестовой выборке:  0.0\n"
          ],
          "name": "stdout"
        }
      ]
    },
    {
      "cell_type": "markdown",
      "metadata": {
        "id": "Kwt8E-2ueCFY"
      },
      "source": [
        "Получила переобучение.\r\n",
        "\r\n",
        "Построим график зависимости ошибки на тестовой и обучающей выборках, а также oob-ошибки от количества деревьев."
      ]
    },
    {
      "cell_type": "code",
      "metadata": {
        "colab": {
          "base_uri": "https://localhost:8080/"
        },
        "id": "o-9jw7hZeENK",
        "outputId": "a96cf960-1d36-4f27-c362-1f22fc85826f"
      },
      "source": [
        "tree_arr = np.arange(5, 20, 1)\r\n",
        "test_err = []\r\n",
        "train_err = []\r\n",
        "oob_err = []\r\n",
        "for tree in tree_arr:\r\n",
        "    ert = ensemble.ExtraTreesClassifier(n_estimators = tree, oob_score=True, bootstrap=True)\r\n",
        "    ert.fit(X_train, y_train)\r\n",
        "    train_err.append(np.mean(y_train != ert.predict(X_train)))\r\n",
        "    test_err.append(np.mean(y_test  != ert.predict(X_test)))\r\n",
        "    oob_err.append(1 - ert.oob_score_)"
      ],
      "execution_count": 82,
      "outputs": [
        {
          "output_type": "stream",
          "text": [
            "/usr/local/lib/python3.6/dist-packages/sklearn/ensemble/_forest.py:523: UserWarning: Some inputs do not have OOB scores. This probably means too few trees were used to compute any reliable oob estimates.\n",
            "  warn(\"Some inputs do not have OOB scores. \"\n",
            "/usr/local/lib/python3.6/dist-packages/sklearn/ensemble/_forest.py:528: RuntimeWarning: invalid value encountered in true_divide\n",
            "  predictions[k].sum(axis=1)[:, np.newaxis])\n",
            "/usr/local/lib/python3.6/dist-packages/sklearn/ensemble/_forest.py:523: UserWarning: Some inputs do not have OOB scores. This probably means too few trees were used to compute any reliable oob estimates.\n",
            "  warn(\"Some inputs do not have OOB scores. \"\n",
            "/usr/local/lib/python3.6/dist-packages/sklearn/ensemble/_forest.py:528: RuntimeWarning: invalid value encountered in true_divide\n",
            "  predictions[k].sum(axis=1)[:, np.newaxis])\n",
            "/usr/local/lib/python3.6/dist-packages/sklearn/ensemble/_forest.py:523: UserWarning: Some inputs do not have OOB scores. This probably means too few trees were used to compute any reliable oob estimates.\n",
            "  warn(\"Some inputs do not have OOB scores. \"\n",
            "/usr/local/lib/python3.6/dist-packages/sklearn/ensemble/_forest.py:528: RuntimeWarning: invalid value encountered in true_divide\n",
            "  predictions[k].sum(axis=1)[:, np.newaxis])\n",
            "/usr/local/lib/python3.6/dist-packages/sklearn/ensemble/_forest.py:523: UserWarning: Some inputs do not have OOB scores. This probably means too few trees were used to compute any reliable oob estimates.\n",
            "  warn(\"Some inputs do not have OOB scores. \"\n",
            "/usr/local/lib/python3.6/dist-packages/sklearn/ensemble/_forest.py:528: RuntimeWarning: invalid value encountered in true_divide\n",
            "  predictions[k].sum(axis=1)[:, np.newaxis])\n",
            "/usr/local/lib/python3.6/dist-packages/sklearn/ensemble/_forest.py:523: UserWarning: Some inputs do not have OOB scores. This probably means too few trees were used to compute any reliable oob estimates.\n",
            "  warn(\"Some inputs do not have OOB scores. \"\n",
            "/usr/local/lib/python3.6/dist-packages/sklearn/ensemble/_forest.py:528: RuntimeWarning: invalid value encountered in true_divide\n",
            "  predictions[k].sum(axis=1)[:, np.newaxis])\n",
            "/usr/local/lib/python3.6/dist-packages/sklearn/ensemble/_forest.py:523: UserWarning: Some inputs do not have OOB scores. This probably means too few trees were used to compute any reliable oob estimates.\n",
            "  warn(\"Some inputs do not have OOB scores. \"\n",
            "/usr/local/lib/python3.6/dist-packages/sklearn/ensemble/_forest.py:528: RuntimeWarning: invalid value encountered in true_divide\n",
            "  predictions[k].sum(axis=1)[:, np.newaxis])\n",
            "/usr/local/lib/python3.6/dist-packages/sklearn/ensemble/_forest.py:523: UserWarning: Some inputs do not have OOB scores. This probably means too few trees were used to compute any reliable oob estimates.\n",
            "  warn(\"Some inputs do not have OOB scores. \"\n",
            "/usr/local/lib/python3.6/dist-packages/sklearn/ensemble/_forest.py:528: RuntimeWarning: invalid value encountered in true_divide\n",
            "  predictions[k].sum(axis=1)[:, np.newaxis])\n",
            "/usr/local/lib/python3.6/dist-packages/sklearn/ensemble/_forest.py:523: UserWarning: Some inputs do not have OOB scores. This probably means too few trees were used to compute any reliable oob estimates.\n",
            "  warn(\"Some inputs do not have OOB scores. \"\n",
            "/usr/local/lib/python3.6/dist-packages/sklearn/ensemble/_forest.py:528: RuntimeWarning: invalid value encountered in true_divide\n",
            "  predictions[k].sum(axis=1)[:, np.newaxis])\n",
            "/usr/local/lib/python3.6/dist-packages/sklearn/ensemble/_forest.py:523: UserWarning: Some inputs do not have OOB scores. This probably means too few trees were used to compute any reliable oob estimates.\n",
            "  warn(\"Some inputs do not have OOB scores. \"\n",
            "/usr/local/lib/python3.6/dist-packages/sklearn/ensemble/_forest.py:528: RuntimeWarning: invalid value encountered in true_divide\n",
            "  predictions[k].sum(axis=1)[:, np.newaxis])\n",
            "/usr/local/lib/python3.6/dist-packages/sklearn/ensemble/_forest.py:523: UserWarning: Some inputs do not have OOB scores. This probably means too few trees were used to compute any reliable oob estimates.\n",
            "  warn(\"Some inputs do not have OOB scores. \"\n",
            "/usr/local/lib/python3.6/dist-packages/sklearn/ensemble/_forest.py:528: RuntimeWarning: invalid value encountered in true_divide\n",
            "  predictions[k].sum(axis=1)[:, np.newaxis])\n",
            "/usr/local/lib/python3.6/dist-packages/sklearn/ensemble/_forest.py:523: UserWarning: Some inputs do not have OOB scores. This probably means too few trees were used to compute any reliable oob estimates.\n",
            "  warn(\"Some inputs do not have OOB scores. \"\n",
            "/usr/local/lib/python3.6/dist-packages/sklearn/ensemble/_forest.py:528: RuntimeWarning: invalid value encountered in true_divide\n",
            "  predictions[k].sum(axis=1)[:, np.newaxis])\n",
            "/usr/local/lib/python3.6/dist-packages/sklearn/ensemble/_forest.py:523: UserWarning: Some inputs do not have OOB scores. This probably means too few trees were used to compute any reliable oob estimates.\n",
            "  warn(\"Some inputs do not have OOB scores. \"\n",
            "/usr/local/lib/python3.6/dist-packages/sklearn/ensemble/_forest.py:528: RuntimeWarning: invalid value encountered in true_divide\n",
            "  predictions[k].sum(axis=1)[:, np.newaxis])\n",
            "/usr/local/lib/python3.6/dist-packages/sklearn/ensemble/_forest.py:523: UserWarning: Some inputs do not have OOB scores. This probably means too few trees were used to compute any reliable oob estimates.\n",
            "  warn(\"Some inputs do not have OOB scores. \"\n",
            "/usr/local/lib/python3.6/dist-packages/sklearn/ensemble/_forest.py:528: RuntimeWarning: invalid value encountered in true_divide\n",
            "  predictions[k].sum(axis=1)[:, np.newaxis])\n",
            "/usr/local/lib/python3.6/dist-packages/sklearn/ensemble/_forest.py:523: UserWarning: Some inputs do not have OOB scores. This probably means too few trees were used to compute any reliable oob estimates.\n",
            "  warn(\"Some inputs do not have OOB scores. \"\n",
            "/usr/local/lib/python3.6/dist-packages/sklearn/ensemble/_forest.py:528: RuntimeWarning: invalid value encountered in true_divide\n",
            "  predictions[k].sum(axis=1)[:, np.newaxis])\n"
          ],
          "name": "stderr"
        }
      ]
    },
    {
      "cell_type": "code",
      "metadata": {
        "colab": {
          "base_uri": "https://localhost:8080/",
          "height": 295
        },
        "id": "VJxwGoZYeINq",
        "outputId": "8fd14fd9-b152-4348-80a4-33751f79d07d"
      },
      "source": [
        "plt.plot(tree_arr, train_err, 'b-o', label = 'train')\r\n",
        "plt.plot(tree_arr, test_err, 'r-o', label = 'test')\r\n",
        "plt.plot(tree_arr, oob_err, 'g-o', label = 'oob')\r\n",
        "plt.xlim([np.min(tree_arr), np.max(tree_arr)])\r\n",
        "plt.title('Error vs. Count of tree')\r\n",
        "plt.xlabel('Count of tree')\r\n",
        "plt.ylabel('Error')\r\n",
        "plt.legend()\r\n",
        "pass"
      ],
      "execution_count": 83,
      "outputs": [
        {
          "output_type": "display_data",
          "data": {
            "image/png": "[encoded data removed]",
            "text/plain": [
              "<Figure size 432x288 with 1 Axes>"
            ]
          },
          "metadata": {
            "tags": [],
            "needs_background": "light"
          }
        }
      ]
    },
    {
      "cell_type": "markdown",
      "metadata": {
        "id": "qxKcJsXteLzM"
      },
      "source": [
        "Получила переобучение при количестве деревьев равном 12.\r\n",
        "\r\n",
        "Минимальные значения ошибок на обучающей и тестовой выборке:"
      ]
    },
    {
      "cell_type": "code",
      "metadata": {
        "colab": {
          "base_uri": "https://localhost:8080/"
        },
        "id": "akI2odN6eNki",
        "outputId": "6e071445-b663-4a9a-ec89-081ada2c8287"
      },
      "source": [
        "min_train_err = np.min(train_err)\r\n",
        "min_test_err = np.min(test_err)\r\n",
        "\r\n",
        "print(\"Минимальная ошибка на обучающей выборке: \", min_train_err)\r\n",
        "print(\"Минимальная ошибка на тестовой выборке: \", min_test_err)"
      ],
      "execution_count": 84,
      "outputs": [
        {
          "output_type": "stream",
          "text": [
            "Минимальная ошибка на обучающей выборке:  0.0\n",
            "Минимальная ошибка на тестовой выборке:  0.0\n"
          ],
          "name": "stdout"
        }
      ]
    },
    {
      "cell_type": "markdown",
      "metadata": {
        "id": "Lr3xjaozePx-"
      },
      "source": [
        "Оптимальное число деревьев равно:"
      ]
    },
    {
      "cell_type": "code",
      "metadata": {
        "colab": {
          "base_uri": "https://localhost:8080/"
        },
        "id": "Jl1BaZykeRsw",
        "outputId": "8a1517d2-7662-449a-d266-3d886f3bf808"
      },
      "source": [
        "tree_opt = tree_arr[test_err == min_test_err]\r\n",
        "print(tree_opt)"
      ],
      "execution_count": 85,
      "outputs": [
        {
          "output_type": "stream",
          "text": [
            "[ 5  6  7  8 11 12 13 14 15 16 17 18 19]\n"
          ],
          "name": "stdout"
        }
      ]
    },
    {
      "cell_type": "markdown",
      "metadata": {
        "id": "0XQ5o2l9eTot"
      },
      "source": [
        "## AdaBoost"
      ]
    },
    {
      "cell_type": "markdown",
      "metadata": {
        "id": "pfhhxzS8eXO_"
      },
      "source": [
        "Обучаем классификатор вида Ada Boost. Число классификаторов = 2."
      ]
    },
    {
      "cell_type": "code",
      "metadata": {
        "colab": {
          "base_uri": "https://localhost:8080/"
        },
        "id": "l3t1OKzPeaUX",
        "outputId": "5e7ee42f-76b6-4c30-9e78-02a4b2aa899b"
      },
      "source": [
        "ab = ensemble.AdaBoostClassifier(n_estimators = 2)\r\n",
        "ab.fit(X_train, y_train)"
      ],
      "execution_count": 86,
      "outputs": [
        {
          "output_type": "execute_result",
          "data": {
            "text/plain": [
              "AdaBoostClassifier(algorithm='SAMME.R', base_estimator=None, learning_rate=1.0,\n",
              "                   n_estimators=2, random_state=None)"
            ]
          },
          "metadata": {
            "tags": []
          },
          "execution_count": 86
        }
      ]
    },
    {
      "cell_type": "code",
      "metadata": {
        "colab": {
          "base_uri": "https://localhost:8080/"
        },
        "id": "RuRQVV0Jeceh",
        "outputId": "37a5c1a1-5cb3-44da-d722-856d2433803e"
      },
      "source": [
        "err_train = np.mean(y_train != ab.predict(X_train))\r\n",
        "err_test  = np.mean(y_test  != ab.predict(X_test))\r\n",
        "\r\n",
        "print(\"Ошибка на обучающей выборке: \", err_train)\r\n",
        "print(\"Ошибка на тестовой выборке: \", err_test)"
      ],
      "execution_count": 87,
      "outputs": [
        {
          "output_type": "stream",
          "text": [
            "Ошибка на обучающей выборке:  0.06264927429726254\n",
            "Ошибка на тестовой выборке:  0.06229019022752704\n"
          ],
          "name": "stdout"
        }
      ]
    },
    {
      "cell_type": "code",
      "metadata": {
        "id": "IVYrso-7eee9"
      },
      "source": [
        "estimator_arr = np.arange(1, 20, 1)\r\n",
        "test_err = []\r\n",
        "train_err = []\r\n",
        "for estimator in estimator_arr:\r\n",
        "    ab = ensemble.AdaBoostClassifier(n_estimators = estimator)\r\n",
        "    ab.fit(X_train, y_train)\r\n",
        "    train_err.append(np.mean(y_train != ab.predict(X_train)))\r\n",
        "    test_err.append(np.mean(y_test  != ab.predict(X_test)))"
      ],
      "execution_count": 88,
      "outputs": []
    },
    {
      "cell_type": "code",
      "metadata": {
        "colab": {
          "base_uri": "https://localhost:8080/",
          "height": 295
        },
        "id": "H7VsAF3Meg5n",
        "outputId": "38e3d47b-5738-428b-b008-ae3a3a83c1e5"
      },
      "source": [
        "plt.plot(estimator_arr, train_err, 'b-o', label = 'train')\r\n",
        "plt.plot(estimator_arr, test_err, 'r-o', label = 'test')\r\n",
        "plt.xlim([np.min(estimator_arr), np.max(estimator_arr)])\r\n",
        "plt.title('Error vs. Count of estimator')\r\n",
        "plt.xlabel('Count of estimator')\r\n",
        "plt.ylabel('Error')\r\n",
        "plt.legend()\r\n",
        "pass"
      ],
      "execution_count": 89,
      "outputs": [
        {
          "output_type": "display_data",
          "data": {
            "image/png": "[encoded data removed]",
            "text/plain": [
              "<Figure size 432x288 with 1 Axes>"
            ]
          },
          "metadata": {
            "tags": [],
            "needs_background": "light"
          }
        }
      ]
    },
    {
      "cell_type": "markdown",
      "metadata": {
        "id": "5Eugk7H2epjX"
      },
      "source": [
        "Получила переобучение на отрезкaх [5, 10], [11, 15) и (15, 17)."
      ]
    },
    {
      "cell_type": "markdown",
      "metadata": {
        "id": "KW4ps0hVevPP"
      },
      "source": [
        "Минимальные значения ошибок на обучающей и тестовой выборке:"
      ]
    },
    {
      "cell_type": "code",
      "metadata": {
        "colab": {
          "base_uri": "https://localhost:8080/"
        },
        "id": "rKH5gqJeeyrc",
        "outputId": "71248660-1f56-43da-b07f-c8f8e85def05"
      },
      "source": [
        "print(estimator_arr)"
      ],
      "execution_count": 90,
      "outputs": [
        {
          "output_type": "stream",
          "text": [
            "[ 1  2  3  4  5  6  7  8  9 10 11 12 13 14 15 16 17 18 19]\n"
          ],
          "name": "stdout"
        }
      ]
    },
    {
      "cell_type": "code",
      "metadata": {
        "colab": {
          "base_uri": "https://localhost:8080/"
        },
        "id": "E7aLIyD5e0rK",
        "outputId": "49ec50ed-9278-4d9c-cea5-26ddf3494c82"
      },
      "source": [
        "min_train_err = np.min(train_err)\r\n",
        "min_test_err = np.min(test_err)\r\n",
        "print(min_train_err, min_test_err)"
      ],
      "execution_count": 91,
      "outputs": [
        {
          "output_type": "stream",
          "text": [
            "0.0 0.0\n"
          ],
          "name": "stdout"
        }
      ]
    },
    {
      "cell_type": "markdown",
      "metadata": {
        "id": "G3cQRzsBe2_M"
      },
      "source": [
        "Оптимальное количество классификаторов:"
      ]
    },
    {
      "cell_type": "code",
      "metadata": {
        "colab": {
          "base_uri": "https://localhost:8080/"
        },
        "id": "kQcmQPdme47X",
        "outputId": "d0980e4a-9ba4-423b-a020-3d17dd343d11"
      },
      "source": [
        "estimator_opt = estimator_arr[test_err == min_test_err]\r\n",
        "print(estimator_opt)"
      ],
      "execution_count": 92,
      "outputs": [
        {
          "output_type": "stream",
          "text": [
            "[15 17 18 19]\n"
          ],
          "name": "stdout"
        }
      ]
    },
    {
      "cell_type": "markdown",
      "metadata": {
        "id": "Hpzaz27qe7Kc"
      },
      "source": [
        "## Gradient boosted trees"
      ]
    },
    {
      "cell_type": "markdown",
      "metadata": {
        "id": "zRsO0FUje9q9"
      },
      "source": [
        "Обучаем Gradient boosted trees классификатор с количеством деревьев равным 2."
      ]
    },
    {
      "cell_type": "code",
      "metadata": {
        "colab": {
          "base_uri": "https://localhost:8080/"
        },
        "id": "RLmqqbhke_fZ",
        "outputId": "b58e11e0-496b-4524-90e5-3a2344a73112"
      },
      "source": [
        "gbt = ensemble.GradientBoostingClassifier(n_estimators = 2)\r\n",
        "gbt.fit(X_train, y_train)"
      ],
      "execution_count": 93,
      "outputs": [
        {
          "output_type": "execute_result",
          "data": {
            "text/plain": [
              "GradientBoostingClassifier(ccp_alpha=0.0, criterion='friedman_mse', init=None,\n",
              "                           learning_rate=0.1, loss='deviance', max_depth=3,\n",
              "                           max_features=None, max_leaf_nodes=None,\n",
              "                           min_impurity_decrease=0.0, min_impurity_split=None,\n",
              "                           min_samples_leaf=1, min_samples_split=2,\n",
              "                           min_weight_fraction_leaf=0.0, n_estimators=2,\n",
              "                           n_iter_no_change=None, presort='deprecated',\n",
              "                           random_state=None, subsample=1.0, tol=0.0001,\n",
              "                           validation_fraction=0.1, verbose=0,\n",
              "                           warm_start=False)"
            ]
          },
          "metadata": {
            "tags": []
          },
          "execution_count": 93
        }
      ]
    },
    {
      "cell_type": "code",
      "metadata": {
        "colab": {
          "base_uri": "https://localhost:8080/"
        },
        "id": "BOJ2Z3SSfB7c",
        "outputId": "66a0d69a-4572-49bd-9041-3d353b870fad"
      },
      "source": [
        "err_train = np.mean(y_train != gbt.predict(X_train))\r\n",
        "err_test  = np.mean(y_test  != gbt.predict(X_test))\r\n",
        "\r\n",
        "print(\"Ошибка на обучающей выборке: \", err_train)\r\n",
        "print(\"Ошибка на тестовой выборке: \", err_test)"
      ],
      "execution_count": 94,
      "outputs": [
        {
          "output_type": "stream",
          "text": [
            "Ошибка на обучающей выборке:  0.015616388021311777\n",
            "Ошибка на тестовой выборке:  0.013054830287206266\n"
          ],
          "name": "stdout"
        }
      ]
    },
    {
      "cell_type": "markdown",
      "metadata": {
        "id": "02dyJS8_fEOP"
      },
      "source": [
        "Построим график зависимости ошибки на тестовой и обучающей выборках от количества деревьев."
      ]
    },
    {
      "cell_type": "code",
      "metadata": {
        "id": "Sm8AwBB0fGde"
      },
      "source": [
        "tree_arr = np.arange(1, 50, 3)\r\n",
        "test_err = []\r\n",
        "train_err = []\r\n",
        "for tree in tree_arr:\r\n",
        "    gbt = ensemble.GradientBoostingClassifier(n_estimators = tree)\r\n",
        "    gbt.fit(X_train, y_train)\r\n",
        "    \r\n",
        "    y_train_pred = gbt.predict(X_train)\r\n",
        "    y_test_pred = gbt.predict(X_test)\r\n",
        "    train_err.append(np.mean(y_train != y_train_pred))\r\n",
        "    test_err.append(np.mean(y_test != y_test_pred))"
      ],
      "execution_count": 95,
      "outputs": []
    },
    {
      "cell_type": "code",
      "metadata": {
        "colab": {
          "base_uri": "https://localhost:8080/",
          "height": 295
        },
        "id": "6GJuUWPafJAT",
        "outputId": "e50785da-74f7-4301-9a90-dfb052290a7f"
      },
      "source": [
        "plt.plot(tree_arr, train_err, 'b-o', label = 'train')\r\n",
        "plt.plot(tree_arr, test_err, 'r-o', label = 'test')\r\n",
        "plt.xlim([np.min(tree_arr), np.max(tree_arr)])\r\n",
        "plt.title('Error vs. number of trees')\r\n",
        "plt.xlabel('Number of trees')\r\n",
        "plt.ylabel('Error')\r\n",
        "plt.legend()\r\n",
        "pass"
      ],
      "execution_count": 96,
      "outputs": [
        {
          "output_type": "display_data",
          "data": {
            "image/png": "[encoded data removed]",
            "text/plain": [
              "<Figure size 432x288 with 1 Axes>"
            ]
          },
          "metadata": {
            "tags": [],
            "needs_background": "light"
          }
        }
      ]
    },
    {
      "cell_type": "markdown",
      "metadata": {
        "id": "MkAQM0U8fLUm"
      },
      "source": [
        "Минимальные значения ошибок на обучающей и тестовой выборке:"
      ]
    },
    {
      "cell_type": "code",
      "metadata": {
        "colab": {
          "base_uri": "https://localhost:8080/"
        },
        "id": "FulEnJ-HfNXP",
        "outputId": "a5a6ff72-c2ef-4018-98e3-43aea5ec7033"
      },
      "source": [
        "min_train_err = np.min(train_err)\r\n",
        "min_test_err = np.min(test_err)\r\n",
        "\r\n",
        "print(\"Минимальная ошибка на обучающей выборке: \", min_train_err)\r\n",
        "print(\"Минимальная ошибка на тестовой выборке: \", min_test_err)"
      ],
      "execution_count": 97,
      "outputs": [
        {
          "output_type": "stream",
          "text": [
            "Минимальная ошибка на обучающей выборке:  0.00018372221201543268\n",
            "Минимальная ошибка на тестовой выборке:  0.0014919806042521448\n"
          ],
          "name": "stdout"
        }
      ]
    },
    {
      "cell_type": "markdown",
      "metadata": {
        "id": "Maq7kd1UfUCh"
      },
      "source": [
        "Оптимальное количество деревьев:"
      ]
    },
    {
      "cell_type": "code",
      "metadata": {
        "colab": {
          "base_uri": "https://localhost:8080/"
        },
        "id": "L_SlLjGmfWzm",
        "outputId": "84be9d62-97d7-43f1-9e8d-663835d54d71"
      },
      "source": [
        "trees_opt = tree_arr[test_err == min_test_err]\r\n",
        "print(trees_opt)"
      ],
      "execution_count": 98,
      "outputs": [
        {
          "output_type": "stream",
          "text": [
            "[34 37 40 43 46 49]\n"
          ],
          "name": "stdout"
        }
      ]
    },
    {
      "cell_type": "markdown",
      "metadata": {
        "id": "PCqvkmokfY89"
      },
      "source": [
        "# Principal Components Analysis"
      ]
    },
    {
      "cell_type": "markdown",
      "metadata": {
        "id": "JKRgvP54fb3X"
      },
      "source": [
        "Решаем задачу предсказания съедобности гриба.\r\n",
        "\r\n",
        "Попытаемся уменьшить размерность исходных данных при помощи метода PCA (principal component analysis) с количеством компонент, равным 15:"
      ]
    },
    {
      "cell_type": "code",
      "metadata": {
        "colab": {
          "base_uri": "https://localhost:8080/"
        },
        "id": "8bPeZtF-fdnO",
        "outputId": "7f76bd63-d750-4d2a-d234-8af61a300093"
      },
      "source": [
        "X.shape"
      ],
      "execution_count": 99,
      "outputs": [
        {
          "output_type": "execute_result",
          "data": {
            "text/plain": [
              "(8124, 96)"
            ]
          },
          "metadata": {
            "tags": []
          },
          "execution_count": 99
        }
      ]
    },
    {
      "cell_type": "code",
      "metadata": {
        "colab": {
          "base_uri": "https://localhost:8080/"
        },
        "id": "6R0Y-r9dfgZA",
        "outputId": "67f62799-3fe8-471f-8fb5-d374a5f7da74"
      },
      "source": [
        "from sklearn.decomposition import PCA\r\n",
        "pca = PCA(n_components = 15)\r\n",
        "pca.fit(X)"
      ],
      "execution_count": 100,
      "outputs": [
        {
          "output_type": "execute_result",
          "data": {
            "text/plain": [
              "PCA(copy=True, iterated_power='auto', n_components=15, random_state=None,\n",
              "    svd_solver='auto', tol=0.0, whiten=False)"
            ]
          },
          "metadata": {
            "tags": []
          },
          "execution_count": 100
        }
      ]
    },
    {
      "cell_type": "code",
      "metadata": {
        "id": "rzeaHKEdfiEi"
      },
      "source": [
        "pca_x = pca.transform(X)"
      ],
      "execution_count": 101,
      "outputs": []
    },
    {
      "cell_type": "code",
      "metadata": {
        "colab": {
          "base_uri": "https://localhost:8080/"
        },
        "id": "7rvb46OjfjyL",
        "outputId": "5797b40c-058e-4992-b327-70e7288c7065"
      },
      "source": [
        "pca_x.shape"
      ],
      "execution_count": 102,
      "outputs": [
        {
          "output_type": "execute_result",
          "data": {
            "text/plain": [
              "(8124, 15)"
            ]
          },
          "metadata": {
            "tags": []
          },
          "execution_count": 102
        }
      ]
    },
    {
      "cell_type": "markdown",
      "metadata": {
        "id": "gjuUMjvafnuG"
      },
      "source": [
        "Разбиваем данные после применения PCA на обучающую и тестовую выборки. Тестовая выборка содержит 33% данных.\r\n",
        "\r\n"
      ]
    },
    {
      "cell_type": "code",
      "metadata": {
        "id": "0nWaBObkfp9x"
      },
      "source": [
        "X_train, X_test, y_train, y_test = train_test_split(pca_x, y, test_size = 0.33, random_state = 5)"
      ],
      "execution_count": 103,
      "outputs": []
    },
    {
      "cell_type": "markdown",
      "metadata": {
        "id": "NPsYJRRFfudb"
      },
      "source": [
        "Ошибку, полученную после уменьшения размерности данных сравним с ошибкой, которая была получена до применения PCA на примере двух классификаторов, Random Forest"
      ]
    },
    {
      "cell_type": "code",
      "metadata": {
        "colab": {
          "base_uri": "https://localhost:8080/"
        },
        "id": "myAhWwC5fwIx",
        "outputId": "5ee0fc8e-fc2c-4d4c-c31c-6cd846d5a8de"
      },
      "source": [
        "from sklearn import ensemble\r\n",
        "rf = ensemble.RandomForestClassifier(n_estimators = 2)\r\n",
        "rf.fit(X_train, y_train)"
      ],
      "execution_count": 104,
      "outputs": [
        {
          "output_type": "execute_result",
          "data": {
            "text/plain": [
              "RandomForestClassifier(bootstrap=True, ccp_alpha=0.0, class_weight=None,\n",
              "                       criterion='gini', max_depth=None, max_features='auto',\n",
              "                       max_leaf_nodes=None, max_samples=None,\n",
              "                       min_impurity_decrease=0.0, min_impurity_split=None,\n",
              "                       min_samples_leaf=1, min_samples_split=2,\n",
              "                       min_weight_fraction_leaf=0.0, n_estimators=2,\n",
              "                       n_jobs=None, oob_score=False, random_state=None,\n",
              "                       verbose=0, warm_start=False)"
            ]
          },
          "metadata": {
            "tags": []
          },
          "execution_count": 104
        }
      ]
    },
    {
      "cell_type": "markdown",
      "metadata": {
        "id": "YaINKl67f0qg"
      },
      "source": [
        "Проверим качество классификатора по величине ошибки на тестовой и обучающей выборках."
      ]
    },
    {
      "cell_type": "code",
      "metadata": {
        "colab": {
          "base_uri": "https://localhost:8080/"
        },
        "id": "cuX7fzZff247",
        "outputId": "ca9c3e3f-1805-4400-cea7-89e65c4af5ab"
      },
      "source": [
        "err_train = np.mean(y_train != rf.predict(X_train))\r\n",
        "err_test  = np.mean(y_test  != rf.predict(X_test))\r\n",
        "\r\n",
        "print(\"Ошибка на обучающей выборке: \", err_train)\r\n",
        "print(\"Ошибка на тестовой выборке: \", err_test)"
      ],
      "execution_count": 105,
      "outputs": [
        {
          "output_type": "stream",
          "text": [
            "Ошибка на обучающей выборке:  0.003858166452324086\n",
            "Ошибка на тестовой выборке:  0.010443864229765013\n"
          ],
          "name": "stdout"
        }
      ]
    },
    {
      "cell_type": "markdown",
      "metadata": {
        "id": "14q1SwJYf6fu"
      },
      "source": [
        "После использования PCA ошибки на обучающей и тестовой выборках возросли. Наблюдается переобучение."
      ]
    },
    {
      "cell_type": "code",
      "metadata": {
        "colab": {
          "base_uri": "https://localhost:8080/"
        },
        "id": "Wnq6sKUqf8iv",
        "outputId": "0ed229ac-4833-43e0-d36c-4c6af90672a4"
      },
      "source": [
        "components_arr = np.arange(1, 16, 1)\r\n",
        "test_err = []\r\n",
        "train_err = []\r\n",
        "oob_err = []\r\n",
        "for number in components_arr:\r\n",
        "    pca = PCA(n_components = number)\r\n",
        "    pca.fit(X)\r\n",
        "    pca_x = pca.transform(X)\r\n",
        "    pca_x_train, pca_x_test, y_train, y_test = train_test_split(pca_x, y, test_size = 0.33, random_state = 5)\r\n",
        "    rf = ensemble.RandomForestClassifier(n_estimators = 2, oob_score = True)\r\n",
        "    rf.fit(X_train, y_train)\r\n",
        "    y_train_pred = rf.predict(X_train)\r\n",
        "    y_test_pred = rf.predict(X_test)\r\n",
        "    train_err.append(np.mean(y_train != y_train_pred))\r\n",
        "    test_err.append(np.mean(y_test != y_test_pred))\r\n",
        "    oob_err.append(1 - rf.oob_score_)"
      ],
      "execution_count": 106,
      "outputs": [
        {
          "output_type": "stream",
          "text": [
            "/usr/local/lib/python3.6/dist-packages/sklearn/ensemble/_forest.py:523: UserWarning: Some inputs do not have OOB scores. This probably means too few trees were used to compute any reliable oob estimates.\n",
            "  warn(\"Some inputs do not have OOB scores. \"\n",
            "/usr/local/lib/python3.6/dist-packages/sklearn/ensemble/_forest.py:528: RuntimeWarning: invalid value encountered in true_divide\n",
            "  predictions[k].sum(axis=1)[:, np.newaxis])\n",
            "/usr/local/lib/python3.6/dist-packages/sklearn/ensemble/_forest.py:523: UserWarning: Some inputs do not have OOB scores. This probably means too few trees were used to compute any reliable oob estimates.\n",
            "  warn(\"Some inputs do not have OOB scores. \"\n",
            "/usr/local/lib/python3.6/dist-packages/sklearn/ensemble/_forest.py:528: RuntimeWarning: invalid value encountered in true_divide\n",
            "  predictions[k].sum(axis=1)[:, np.newaxis])\n",
            "/usr/local/lib/python3.6/dist-packages/sklearn/ensemble/_forest.py:523: UserWarning: Some inputs do not have OOB scores. This probably means too few trees were used to compute any reliable oob estimates.\n",
            "  warn(\"Some inputs do not have OOB scores. \"\n",
            "/usr/local/lib/python3.6/dist-packages/sklearn/ensemble/_forest.py:528: RuntimeWarning: invalid value encountered in true_divide\n",
            "  predictions[k].sum(axis=1)[:, np.newaxis])\n",
            "/usr/local/lib/python3.6/dist-packages/sklearn/ensemble/_forest.py:523: UserWarning: Some inputs do not have OOB scores. This probably means too few trees were used to compute any reliable oob estimates.\n",
            "  warn(\"Some inputs do not have OOB scores. \"\n",
            "/usr/local/lib/python3.6/dist-packages/sklearn/ensemble/_forest.py:528: RuntimeWarning: invalid value encountered in true_divide\n",
            "  predictions[k].sum(axis=1)[:, np.newaxis])\n",
            "/usr/local/lib/python3.6/dist-packages/sklearn/ensemble/_forest.py:523: UserWarning: Some inputs do not have OOB scores. This probably means too few trees were used to compute any reliable oob estimates.\n",
            "  warn(\"Some inputs do not have OOB scores. \"\n",
            "/usr/local/lib/python3.6/dist-packages/sklearn/ensemble/_forest.py:528: RuntimeWarning: invalid value encountered in true_divide\n",
            "  predictions[k].sum(axis=1)[:, np.newaxis])\n",
            "/usr/local/lib/python3.6/dist-packages/sklearn/ensemble/_forest.py:523: UserWarning: Some inputs do not have OOB scores. This probably means too few trees were used to compute any reliable oob estimates.\n",
            "  warn(\"Some inputs do not have OOB scores. \"\n",
            "/usr/local/lib/python3.6/dist-packages/sklearn/ensemble/_forest.py:528: RuntimeWarning: invalid value encountered in true_divide\n",
            "  predictions[k].sum(axis=1)[:, np.newaxis])\n",
            "/usr/local/lib/python3.6/dist-packages/sklearn/ensemble/_forest.py:523: UserWarning: Some inputs do not have OOB scores. This probably means too few trees were used to compute any reliable oob estimates.\n",
            "  warn(\"Some inputs do not have OOB scores. \"\n",
            "/usr/local/lib/python3.6/dist-packages/sklearn/ensemble/_forest.py:528: RuntimeWarning: invalid value encountered in true_divide\n",
            "  predictions[k].sum(axis=1)[:, np.newaxis])\n",
            "/usr/local/lib/python3.6/dist-packages/sklearn/ensemble/_forest.py:523: UserWarning: Some inputs do not have OOB scores. This probably means too few trees were used to compute any reliable oob estimates.\n",
            "  warn(\"Some inputs do not have OOB scores. \"\n",
            "/usr/local/lib/python3.6/dist-packages/sklearn/ensemble/_forest.py:528: RuntimeWarning: invalid value encountered in true_divide\n",
            "  predictions[k].sum(axis=1)[:, np.newaxis])\n",
            "/usr/local/lib/python3.6/dist-packages/sklearn/ensemble/_forest.py:523: UserWarning: Some inputs do not have OOB scores. This probably means too few trees were used to compute any reliable oob estimates.\n",
            "  warn(\"Some inputs do not have OOB scores. \"\n",
            "/usr/local/lib/python3.6/dist-packages/sklearn/ensemble/_forest.py:528: RuntimeWarning: invalid value encountered in true_divide\n",
            "  predictions[k].sum(axis=1)[:, np.newaxis])\n",
            "/usr/local/lib/python3.6/dist-packages/sklearn/ensemble/_forest.py:523: UserWarning: Some inputs do not have OOB scores. This probably means too few trees were used to compute any reliable oob estimates.\n",
            "  warn(\"Some inputs do not have OOB scores. \"\n",
            "/usr/local/lib/python3.6/dist-packages/sklearn/ensemble/_forest.py:528: RuntimeWarning: invalid value encountered in true_divide\n",
            "  predictions[k].sum(axis=1)[:, np.newaxis])\n",
            "/usr/local/lib/python3.6/dist-packages/sklearn/ensemble/_forest.py:523: UserWarning: Some inputs do not have OOB scores. This probably means too few trees were used to compute any reliable oob estimates.\n",
            "  warn(\"Some inputs do not have OOB scores. \"\n",
            "/usr/local/lib/python3.6/dist-packages/sklearn/ensemble/_forest.py:528: RuntimeWarning: invalid value encountered in true_divide\n",
            "  predictions[k].sum(axis=1)[:, np.newaxis])\n",
            "/usr/local/lib/python3.6/dist-packages/sklearn/ensemble/_forest.py:523: UserWarning: Some inputs do not have OOB scores. This probably means too few trees were used to compute any reliable oob estimates.\n",
            "  warn(\"Some inputs do not have OOB scores. \"\n",
            "/usr/local/lib/python3.6/dist-packages/sklearn/ensemble/_forest.py:528: RuntimeWarning: invalid value encountered in true_divide\n",
            "  predictions[k].sum(axis=1)[:, np.newaxis])\n",
            "/usr/local/lib/python3.6/dist-packages/sklearn/ensemble/_forest.py:523: UserWarning: Some inputs do not have OOB scores. This probably means too few trees were used to compute any reliable oob estimates.\n",
            "  warn(\"Some inputs do not have OOB scores. \"\n",
            "/usr/local/lib/python3.6/dist-packages/sklearn/ensemble/_forest.py:528: RuntimeWarning: invalid value encountered in true_divide\n",
            "  predictions[k].sum(axis=1)[:, np.newaxis])\n",
            "/usr/local/lib/python3.6/dist-packages/sklearn/ensemble/_forest.py:523: UserWarning: Some inputs do not have OOB scores. This probably means too few trees were used to compute any reliable oob estimates.\n",
            "  warn(\"Some inputs do not have OOB scores. \"\n",
            "/usr/local/lib/python3.6/dist-packages/sklearn/ensemble/_forest.py:528: RuntimeWarning: invalid value encountered in true_divide\n",
            "  predictions[k].sum(axis=1)[:, np.newaxis])\n",
            "/usr/local/lib/python3.6/dist-packages/sklearn/ensemble/_forest.py:523: UserWarning: Some inputs do not have OOB scores. This probably means too few trees were used to compute any reliable oob estimates.\n",
            "  warn(\"Some inputs do not have OOB scores. \"\n",
            "/usr/local/lib/python3.6/dist-packages/sklearn/ensemble/_forest.py:528: RuntimeWarning: invalid value encountered in true_divide\n",
            "  predictions[k].sum(axis=1)[:, np.newaxis])\n"
          ],
          "name": "stderr"
        }
      ]
    },
    {
      "cell_type": "code",
      "metadata": {
        "colab": {
          "base_uri": "https://localhost:8080/",
          "height": 295
        },
        "id": "Aq9zRWRigD4f",
        "outputId": "9f8eccfa-df22-46fa-ee40-999c9c489ec2"
      },
      "source": [
        "plt.plot(components_arr, train_err, 'b-o', label = 'train')\r\n",
        "plt.plot(components_arr, test_err, 'r-o', label = 'test')\r\n",
        "plt.plot(components_arr, oob_err, 'g-o', label = 'oob')\r\n",
        "plt.xlim([np.min(components_arr), np.max(components_arr)])\r\n",
        "plt.title('Error vs. Components number')\r\n",
        "plt.xlabel('Count of component')\r\n",
        "plt.ylabel('Error')\r\n",
        "plt.legend()\r\n",
        "pass"
      ],
      "execution_count": 107,
      "outputs": [
        {
          "output_type": "display_data",
          "data": {
            "image/png": "[encoded data removed]",
            "text/plain": [
              "<Figure size 432x288 with 1 Axes>"
            ]
          },
          "metadata": {
            "tags": [],
            "needs_background": "light"
          }
        }
      ]
    },
    {
      "cell_type": "markdown",
      "metadata": {
        "id": "-sT1UvqhgGyh"
      },
      "source": [
        "Получили график зависимости ошибок от количества компонент."
      ]
    },
    {
      "cell_type": "code",
      "metadata": {
        "colab": {
          "base_uri": "https://localhost:8080/"
        },
        "id": "2Nr_KUCqgI1r",
        "outputId": "3255f08c-568e-4ecf-8ae9-e57ba4747359"
      },
      "source": [
        "min_train_err = np.min(train_err)\r\n",
        "min_test_err = np.min(test_err)\r\n",
        "\r\n",
        "print(\"Минимальная ошибка на обучающей выборке: \", min_train_err)\r\n",
        "print(\"Минимальная ошибка на тестовой выборке: \", min_test_err)"
      ],
      "execution_count": 108,
      "outputs": [
        {
          "output_type": "stream",
          "text": [
            "Минимальная ошибка на обучающей выборке:  0.0018372221201543267\n",
            "Минимальная ошибка на тестовой выборке:  0.005221932114882507\n"
          ],
          "name": "stdout"
        }
      ]
    },
    {
      "cell_type": "code",
      "metadata": {
        "colab": {
          "base_uri": "https://localhost:8080/"
        },
        "id": "m2wlH1kfgK2t",
        "outputId": "cba2c52f-a918-4388-ed42-c0f8773cf025"
      },
      "source": [
        "opt_components_num = components_arr[test_err == min_test_err]\r\n",
        "print(opt_components_num)"
      ],
      "execution_count": 109,
      "outputs": [
        {
          "output_type": "stream",
          "text": [
            "[12]\n"
          ],
          "name": "stdout"
        }
      ]
    },
    {
      "cell_type": "markdown",
      "metadata": {
        "id": "u0gjvylVgM-2"
      },
      "source": [
        "Оптимальное количество компонент."
      ]
    }
  ]
}